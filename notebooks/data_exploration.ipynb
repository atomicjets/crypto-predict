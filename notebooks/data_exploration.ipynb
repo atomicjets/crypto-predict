{
 "cells": [
  {
   "cell_type": "markdown",
   "metadata": {},
   "source": [
    "# What's the data like?"
   ]
  },
  {
   "cell_type": "code",
   "execution_count": 1,
   "metadata": {},
   "outputs": [],
   "source": [
    "%load_ext autoreload\n",
    "%autoreload 2\n",
    "import pandas as pd\n",
    "import numpy as np\n",
    "import matplotlib.pyplot as plt\n",
    "%matplotlib inline\n",
    "import datetime\n",
    "import seaborn as sns\n",
    "import os, dotenv\n",
    "project_path = os.path.dirname(dotenv.find_dotenv())"
   ]
  },
  {
   "cell_type": "code",
   "execution_count": 2,
   "metadata": {},
   "outputs": [
    {
     "data": {
      "text/html": [
       "<div>\n",
       "<style scoped>\n",
       "    .dataframe tbody tr th:only-of-type {\n",
       "        vertical-align: middle;\n",
       "    }\n",
       "\n",
       "    .dataframe tbody tr th {\n",
       "        vertical-align: top;\n",
       "    }\n",
       "\n",
       "    .dataframe thead th {\n",
       "        text-align: right;\n",
       "    }\n",
       "</style>\n",
       "<table border=\"1\" class=\"dataframe\">\n",
       "  <thead>\n",
       "    <tr style=\"text-align: right;\">\n",
       "      <th></th>\n",
       "      <th>index</th>\n",
       "      <th>time</th>\n",
       "      <th>volumeto</th>\n",
       "      <th>high</th>\n",
       "      <th>close</th>\n",
       "      <th>low</th>\n",
       "      <th>volumefrom</th>\n",
       "      <th>open</th>\n",
       "    </tr>\n",
       "  </thead>\n",
       "  <tbody>\n",
       "    <tr>\n",
       "      <th>0</th>\n",
       "      <td>0</td>\n",
       "      <td>1522735200</td>\n",
       "      <td>31781728.52</td>\n",
       "      <td>7380.88</td>\n",
       "      <td>7353.98</td>\n",
       "      <td>7331.62</td>\n",
       "      <td>4307.81</td>\n",
       "      <td>7350.19</td>\n",
       "    </tr>\n",
       "    <tr>\n",
       "      <th>1</th>\n",
       "      <td>1</td>\n",
       "      <td>1522738800</td>\n",
       "      <td>42859012.38</td>\n",
       "      <td>7444.15</td>\n",
       "      <td>7416.72</td>\n",
       "      <td>7341.30</td>\n",
       "      <td>5775.70</td>\n",
       "      <td>7353.98</td>\n",
       "    </tr>\n",
       "    <tr>\n",
       "      <th>2</th>\n",
       "      <td>2</td>\n",
       "      <td>1522742400</td>\n",
       "      <td>33819277.06</td>\n",
       "      <td>7425.92</td>\n",
       "      <td>7368.47</td>\n",
       "      <td>7358.59</td>\n",
       "      <td>4550.36</td>\n",
       "      <td>7415.94</td>\n",
       "    </tr>\n",
       "    <tr>\n",
       "      <th>3</th>\n",
       "      <td>3</td>\n",
       "      <td>1522746000</td>\n",
       "      <td>22387339.74</td>\n",
       "      <td>7404.55</td>\n",
       "      <td>7385.53</td>\n",
       "      <td>7351.84</td>\n",
       "      <td>3017.73</td>\n",
       "      <td>7366.81</td>\n",
       "    </tr>\n",
       "    <tr>\n",
       "      <th>4</th>\n",
       "      <td>4</td>\n",
       "      <td>1522749600</td>\n",
       "      <td>41717522.90</td>\n",
       "      <td>7410.70</td>\n",
       "      <td>7326.43</td>\n",
       "      <td>7297.24</td>\n",
       "      <td>5667.16</td>\n",
       "      <td>7385.53</td>\n",
       "    </tr>\n",
       "  </tbody>\n",
       "</table>\n",
       "</div>"
      ],
      "text/plain": [
       "   index        time     volumeto     high    close      low  volumefrom  \\\n",
       "0      0  1522735200  31781728.52  7380.88  7353.98  7331.62     4307.81   \n",
       "1      1  1522738800  42859012.38  7444.15  7416.72  7341.30     5775.70   \n",
       "2      2  1522742400  33819277.06  7425.92  7368.47  7358.59     4550.36   \n",
       "3      3  1522746000  22387339.74  7404.55  7385.53  7351.84     3017.73   \n",
       "4      4  1522749600  41717522.90  7410.70  7326.43  7297.24     5667.16   \n",
       "\n",
       "      open  \n",
       "0  7350.19  \n",
       "1  7353.98  \n",
       "2  7415.94  \n",
       "3  7366.81  \n",
       "4  7385.53  "
      ]
     },
     "execution_count": 2,
     "metadata": {},
     "output_type": "execute_result"
    }
   ],
   "source": [
    "\"\"\"\n",
    "load data\n",
    "\"\"\"\n",
    "\n",
    "df = pd.read_csv(project_path + '/data/raw/data.csv', index_col=0)\n",
    "df.head()"
   ]
  },
  {
   "cell_type": "code",
   "execution_count": 3,
   "metadata": {},
   "outputs": [
    {
     "data": {
      "text/html": [
       "<div>\n",
       "<style scoped>\n",
       "    .dataframe tbody tr th:only-of-type {\n",
       "        vertical-align: middle;\n",
       "    }\n",
       "\n",
       "    .dataframe tbody tr th {\n",
       "        vertical-align: top;\n",
       "    }\n",
       "\n",
       "    .dataframe thead th {\n",
       "        text-align: right;\n",
       "    }\n",
       "</style>\n",
       "<table border=\"1\" class=\"dataframe\">\n",
       "  <thead>\n",
       "    <tr style=\"text-align: right;\">\n",
       "      <th></th>\n",
       "      <th>index</th>\n",
       "      <th>time</th>\n",
       "      <th>volumeto</th>\n",
       "      <th>high</th>\n",
       "      <th>close</th>\n",
       "      <th>low</th>\n",
       "      <th>volumefrom</th>\n",
       "      <th>open</th>\n",
       "    </tr>\n",
       "  </thead>\n",
       "  <tbody>\n",
       "    <tr>\n",
       "      <th>count</th>\n",
       "      <td>46023.000000</td>\n",
       "      <td>4.602300e+04</td>\n",
       "      <td>4.602300e+04</td>\n",
       "      <td>46023.000000</td>\n",
       "      <td>46023.000000</td>\n",
       "      <td>46023.000000</td>\n",
       "      <td>4.602300e+04</td>\n",
       "      <td>46023.000000</td>\n",
       "    </tr>\n",
       "    <tr>\n",
       "      <th>mean</th>\n",
       "      <td>1000.000000</td>\n",
       "      <td>1.447135e+09</td>\n",
       "      <td>8.692781e+06</td>\n",
       "      <td>1913.532345</td>\n",
       "      <td>1895.409405</td>\n",
       "      <td>1877.357780</td>\n",
       "      <td>3.231736e+03</td>\n",
       "      <td>1895.343771</td>\n",
       "    </tr>\n",
       "    <tr>\n",
       "      <th>std</th>\n",
       "      <td>577.645148</td>\n",
       "      <td>4.780517e+07</td>\n",
       "      <td>2.893823e+07</td>\n",
       "      <td>3302.153568</td>\n",
       "      <td>3276.079788</td>\n",
       "      <td>3247.291201</td>\n",
       "      <td>5.961334e+04</td>\n",
       "      <td>3275.949490</td>\n",
       "    </tr>\n",
       "    <tr>\n",
       "      <th>min</th>\n",
       "      <td>0.000000</td>\n",
       "      <td>1.364335e+09</td>\n",
       "      <td>0.000000e+00</td>\n",
       "      <td>50.350000</td>\n",
       "      <td>48.250000</td>\n",
       "      <td>5.760000</td>\n",
       "      <td>0.000000e+00</td>\n",
       "      <td>50.350000</td>\n",
       "    </tr>\n",
       "    <tr>\n",
       "      <th>25%</th>\n",
       "      <td>500.000000</td>\n",
       "      <td>1.405737e+09</td>\n",
       "      <td>9.738386e+04</td>\n",
       "      <td>278.850000</td>\n",
       "      <td>277.195000</td>\n",
       "      <td>275.730000</td>\n",
       "      <td>1.849900e+02</td>\n",
       "      <td>277.150000</td>\n",
       "    </tr>\n",
       "    <tr>\n",
       "      <th>50%</th>\n",
       "      <td>1000.000000</td>\n",
       "      <td>1.447135e+09</td>\n",
       "      <td>5.975575e+05</td>\n",
       "      <td>553.610000</td>\n",
       "      <td>545.320000</td>\n",
       "      <td>536.810000</td>\n",
       "      <td>1.411420e+03</td>\n",
       "      <td>545.450000</td>\n",
       "    </tr>\n",
       "    <tr>\n",
       "      <th>75%</th>\n",
       "      <td>1500.000000</td>\n",
       "      <td>1.488533e+09</td>\n",
       "      <td>3.345405e+06</td>\n",
       "      <td>1154.460000</td>\n",
       "      <td>1101.310000</td>\n",
       "      <td>1074.110000</td>\n",
       "      <td>3.036335e+03</td>\n",
       "      <td>1100.000000</td>\n",
       "    </tr>\n",
       "    <tr>\n",
       "      <th>max</th>\n",
       "      <td>2000.000000</td>\n",
       "      <td>1.529935e+09</td>\n",
       "      <td>2.305670e+09</td>\n",
       "      <td>19870.620000</td>\n",
       "      <td>19784.930000</td>\n",
       "      <td>19691.740000</td>\n",
       "      <td>8.410600e+06</td>\n",
       "      <td>19784.930000</td>\n",
       "    </tr>\n",
       "  </tbody>\n",
       "</table>\n",
       "</div>"
      ],
      "text/plain": [
       "              index          time      volumeto          high         close  \\\n",
       "count  46023.000000  4.602300e+04  4.602300e+04  46023.000000  46023.000000   \n",
       "mean    1000.000000  1.447135e+09  8.692781e+06   1913.532345   1895.409405   \n",
       "std      577.645148  4.780517e+07  2.893823e+07   3302.153568   3276.079788   \n",
       "min        0.000000  1.364335e+09  0.000000e+00     50.350000     48.250000   \n",
       "25%      500.000000  1.405737e+09  9.738386e+04    278.850000    277.195000   \n",
       "50%     1000.000000  1.447135e+09  5.975575e+05    553.610000    545.320000   \n",
       "75%     1500.000000  1.488533e+09  3.345405e+06   1154.460000   1101.310000   \n",
       "max     2000.000000  1.529935e+09  2.305670e+09  19870.620000  19784.930000   \n",
       "\n",
       "                low    volumefrom          open  \n",
       "count  46023.000000  4.602300e+04  46023.000000  \n",
       "mean    1877.357780  3.231736e+03   1895.343771  \n",
       "std     3247.291201  5.961334e+04   3275.949490  \n",
       "min        5.760000  0.000000e+00     50.350000  \n",
       "25%      275.730000  1.849900e+02    277.150000  \n",
       "50%      536.810000  1.411420e+03    545.450000  \n",
       "75%     1074.110000  3.036335e+03   1100.000000  \n",
       "max    19691.740000  8.410600e+06  19784.930000  "
      ]
     },
     "execution_count": 3,
     "metadata": {},
     "output_type": "execute_result"
    }
   ],
   "source": [
    "\"\"\"\n",
    "descriptive stats\n",
    "\"\"\"\n",
    "df.describe()"
   ]
  },
  {
   "cell_type": "code",
   "execution_count": 4,
   "metadata": {},
   "outputs": [
    {
     "data": {
      "text/plain": [
       "(True, (46023, 8))"
      ]
     },
     "execution_count": 4,
     "metadata": {},
     "output_type": "execute_result"
    }
   ],
   "source": [
    "\"\"\"\n",
    "Check shape and confirm that no NA values are present\n",
    "\"\"\"\n",
    "df.dropna().shape == df.shape, df.shape"
   ]
  },
  {
   "cell_type": "code",
   "execution_count": 5,
   "metadata": {},
   "outputs": [
    {
     "data": {
      "text/plain": [
       "(46001,)"
      ]
     },
     "execution_count": 5,
     "metadata": {},
     "output_type": "execute_result"
    }
   ],
   "source": [
    "\"\"\"\n",
    "Number of unique timepoints\n",
    "\"\"\"\n",
    "df.time.unique().shape"
   ]
  },
  {
   "cell_type": "code",
   "execution_count": 6,
   "metadata": {},
   "outputs": [],
   "source": [
    "\"\"\"\n",
    "Take a small sample for plotting\n",
    "\"\"\"\n",
    "sample = df.sample(n=1000, replace=False)"
   ]
  },
  {
   "cell_type": "code",
   "execution_count": 7,
   "metadata": {},
   "outputs": [
    {
     "data": {
      "text/plain": [
       "<matplotlib.axes._subplots.AxesSubplot at 0x11307c978>"
      ]
     },
     "execution_count": 7,
     "metadata": {},
     "output_type": "execute_result"
    },
    {
     "data": {
      "image/png": "[encoded data removed]",
      "text/plain": [
       "<Figure size 432x288 with 1 Axes>"
      ]
     },
     "metadata": {},
     "output_type": "display_data"
    }
   ],
   "source": [
    "\"\"\"\n",
    "Check relative distribution of data features\n",
    "\"\"\"\n",
    "sns.boxplot(data=sample)"
   ]
  },
  {
   "cell_type": "code",
   "execution_count": 8,
   "metadata": {
    "scrolled": true
   },
   "outputs": [
    {
     "data": {
      "text/plain": [
       "\"\\nNote: Something wrong with display of X-axis dates here ... I've confirmed dates are correct in dataframe. strange.\\nAlso current/past price makes sense on this chart.\\n\""
      ]
     },
     "execution_count": 8,
     "metadata": {},
     "output_type": "execute_result"
    },
    {
     "data": {
      "image/png": "[encoded data removed]",
      "text/plain": [
       "<Figure size 720x1008 with 3 Axes>"
      ]
     },
     "metadata": {},
     "output_type": "display_data"
    }
   ],
   "source": [
    "\"\"\"\n",
    "Plot data features against time. Making sure that the data set was created correctly / sanity check.\n",
    "\"\"\"\n",
    "\n",
    "pltdata = sample.copy()\n",
    "pltdata.time = pd.to_datetime(pltdata.time, unit='s')\n",
    "\n",
    "\n",
    "fig, ax = plt.subplots(3, sharex=True)\n",
    "fig.set_size_inches((10,14))\n",
    "for a in ax:\n",
    "    a.xaxis_date()\n",
    "\n",
    "pricedata = pd.melt(sample, id_vars='time', value_vars=['low', 'high', 'close'])\n",
    "sns.pointplot(ax=ax[0], data=pricedata, x='time', y='value', hue='variable', linestyles='-', markers='.')\n",
    "sns.pointplot(ax=ax[1], data=pltdata, x='time', y='volumefrom', linestyles='-', markers='')\n",
    "sns.pointplot(ax=ax[2], data=pltdata, x='time', y='volumeto', linestyles='-', markers='')\n",
    "locs, labels = plt.xticks()\n",
    "plt.xticks([locs[x*100] for x in range(int(len(locs) / 100))])\n",
    "fig.autofmt_xdate()\n",
    "\n",
    "\"\"\"\n",
    "Note: Something wrong with display of X-axis dates here ... I've confirmed dates are correct in dataframe. strange.\n",
    "Also current/past price makes sense on this chart.\n",
    "\"\"\" "
   ]
  },
  {
   "cell_type": "code",
   "execution_count": 9,
   "metadata": {},
   "outputs": [
    {
     "data": {
      "text/plain": [
       "DatetimeIndex(['2018-04-03 06:00:00', '2018-04-03 07:00:00',\n",
       "               '2018-04-03 08:00:00', '2018-04-03 09:00:00',\n",
       "               '2018-04-03 10:00:00', '2018-04-03 11:00:00',\n",
       "               '2018-04-03 12:00:00', '2018-04-03 13:00:00',\n",
       "               '2018-04-03 14:00:00', '2018-04-03 15:00:00',\n",
       "               ...\n",
       "               '2013-06-17 20:00:00', '2013-06-17 21:00:00',\n",
       "               '2013-06-17 22:00:00', '2013-06-17 23:00:00',\n",
       "               '2013-06-18 00:00:00', '2013-06-18 01:00:00',\n",
       "               '2013-06-18 02:00:00', '2013-06-18 03:00:00',\n",
       "               '2013-06-18 04:00:00', '2013-06-18 05:00:00'],\n",
       "              dtype='datetime64[ns]', length=46001, freq=None)"
      ]
     },
     "execution_count": 9,
     "metadata": {},
     "output_type": "execute_result"
    }
   ],
   "source": [
    "\"\"\"\n",
    "Dates go until 2018 and are mostly unique.\n",
    "\"\"\"\n",
    "pd.to_datetime(df.time.unique(), unit='s')"
   ]
  },
  {
   "cell_type": "code",
   "execution_count": null,
   "metadata": {},
   "outputs": [],
   "source": []
  }
 ],
 "metadata": {
  "kernelspec": {
   "display_name": "Python (go-mint-datasci-challenge)",
   "language": "python",
   "name": "go-mint-datasci-challenge"
  },
  "language_info": {
   "codemirror_mode": {
    "name": "ipython",
    "version": 3
   },
   "file_extension": ".py",
   "mimetype": "text/x-python",
   "name": "python",
   "nbconvert_exporter": "python",
   "pygments_lexer": "ipython3",
   "version": "3.5.5"
  }
 },
 "nbformat": 4,
 "nbformat_minor": 2
}
