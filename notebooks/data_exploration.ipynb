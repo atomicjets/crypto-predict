{
 "cells": [
  {
   "cell_type": "markdown",
   "metadata": {},
   "source": [
    "# What's the data like?"
   ]
  },
  {
   "cell_type": "code",
   "execution_count": 92,
   "metadata": {},
   "outputs": [
    {
     "name": "stdout",
     "output_type": "stream",
     "text": [
      "The autoreload extension is already loaded. To reload it, use:\n",
      "  %reload_ext autoreload\n"
     ]
    }
   ],
   "source": [
    "%load_ext autoreload\n",
    "%autoreload 2\n",
    "%matplotlib inline\n",
    "import pandas as pd\n",
    "import numpy as np\n",
    "import matplotlib.pyplot as plt\n",
    "import seaborn as sns\n",
    "import os, dotenv\n",
    "project_path = os.path.dirname(dotenv.find_dotenv())"
   ]
  },
  {
   "cell_type": "code",
   "execution_count": 7,
   "metadata": {},
   "outputs": [
    {
     "data": {
      "text/html": [
       "<div>\n",
       "<style scoped>\n",
       "    .dataframe tbody tr th:only-of-type {\n",
       "        vertical-align: middle;\n",
       "    }\n",
       "\n",
       "    .dataframe tbody tr th {\n",
       "        vertical-align: top;\n",
       "    }\n",
       "\n",
       "    .dataframe thead th {\n",
       "        text-align: right;\n",
       "    }\n",
       "</style>\n",
       "<table border=\"1\" class=\"dataframe\">\n",
       "  <thead>\n",
       "    <tr style=\"text-align: right;\">\n",
       "      <th></th>\n",
       "      <th>index</th>\n",
       "      <th>volumefrom</th>\n",
       "      <th>open</th>\n",
       "      <th>high</th>\n",
       "      <th>close</th>\n",
       "      <th>low</th>\n",
       "      <th>volumeto</th>\n",
       "      <th>time</th>\n",
       "    </tr>\n",
       "  </thead>\n",
       "  <tbody>\n",
       "    <tr>\n",
       "      <th>0</th>\n",
       "      <td>0</td>\n",
       "      <td>5308.04</td>\n",
       "      <td>6916.03</td>\n",
       "      <td>7032.79</td>\n",
       "      <td>7025.50</td>\n",
       "      <td>6890.13</td>\n",
       "      <td>3.709711e+07</td>\n",
       "      <td>1522486800</td>\n",
       "    </tr>\n",
       "    <tr>\n",
       "      <th>1</th>\n",
       "      <td>1</td>\n",
       "      <td>16533.51</td>\n",
       "      <td>7023.16</td>\n",
       "      <td>7198.68</td>\n",
       "      <td>7110.38</td>\n",
       "      <td>6984.43</td>\n",
       "      <td>1.176889e+08</td>\n",
       "      <td>1522490400</td>\n",
       "    </tr>\n",
       "    <tr>\n",
       "      <th>2</th>\n",
       "      <td>2</td>\n",
       "      <td>6133.92</td>\n",
       "      <td>7110.38</td>\n",
       "      <td>7144.87</td>\n",
       "      <td>7104.39</td>\n",
       "      <td>7062.55</td>\n",
       "      <td>4.372014e+07</td>\n",
       "      <td>1522494000</td>\n",
       "    </tr>\n",
       "    <tr>\n",
       "      <th>3</th>\n",
       "      <td>3</td>\n",
       "      <td>16748.27</td>\n",
       "      <td>7104.42</td>\n",
       "      <td>7228.40</td>\n",
       "      <td>7198.18</td>\n",
       "      <td>7067.62</td>\n",
       "      <td>1.199642e+08</td>\n",
       "      <td>1522497600</td>\n",
       "    </tr>\n",
       "    <tr>\n",
       "      <th>4</th>\n",
       "      <td>4</td>\n",
       "      <td>4564.56</td>\n",
       "      <td>7198.29</td>\n",
       "      <td>7198.80</td>\n",
       "      <td>7053.37</td>\n",
       "      <td>7051.17</td>\n",
       "      <td>3.259900e+07</td>\n",
       "      <td>1522501200</td>\n",
       "    </tr>\n",
       "  </tbody>\n",
       "</table>\n",
       "</div>"
      ],
      "text/plain": [
       "   index  volumefrom     open     high    close      low      volumeto  \\\n",
       "0      0     5308.04  6916.03  7032.79  7025.50  6890.13  3.709711e+07   \n",
       "1      1    16533.51  7023.16  7198.68  7110.38  6984.43  1.176889e+08   \n",
       "2      2     6133.92  7110.38  7144.87  7104.39  7062.55  4.372014e+07   \n",
       "3      3    16748.27  7104.42  7228.40  7198.18  7067.62  1.199642e+08   \n",
       "4      4     4564.56  7198.29  7198.80  7053.37  7051.17  3.259900e+07   \n",
       "\n",
       "         time  \n",
       "0  1522486800  \n",
       "1  1522490400  \n",
       "2  1522494000  \n",
       "3  1522497600  \n",
       "4  1522501200  "
      ]
     },
     "execution_count": 7,
     "metadata": {},
     "output_type": "execute_result"
    }
   ],
   "source": [
    "df = pd.read_csv(project_path + '/data/raw/data.csv', index_col=0)\n",
    "df.head()"
   ]
  },
  {
   "cell_type": "code",
   "execution_count": 8,
   "metadata": {},
   "outputs": [
    {
     "data": {
      "text/html": [
       "<div>\n",
       "<style scoped>\n",
       "    .dataframe tbody tr th:only-of-type {\n",
       "        vertical-align: middle;\n",
       "    }\n",
       "\n",
       "    .dataframe tbody tr th {\n",
       "        vertical-align: top;\n",
       "    }\n",
       "\n",
       "    .dataframe thead th {\n",
       "        text-align: right;\n",
       "    }\n",
       "</style>\n",
       "<table border=\"1\" class=\"dataframe\">\n",
       "  <thead>\n",
       "    <tr style=\"text-align: right;\">\n",
       "      <th></th>\n",
       "      <th>index</th>\n",
       "      <th>volumefrom</th>\n",
       "      <th>open</th>\n",
       "      <th>high</th>\n",
       "      <th>close</th>\n",
       "      <th>low</th>\n",
       "      <th>volumeto</th>\n",
       "      <th>time</th>\n",
       "    </tr>\n",
       "  </thead>\n",
       "  <tbody>\n",
       "    <tr>\n",
       "      <th>count</th>\n",
       "      <td>46023.000000</td>\n",
       "      <td>4.602300e+04</td>\n",
       "      <td>46023.000000</td>\n",
       "      <td>46023.000000</td>\n",
       "      <td>46023.000000</td>\n",
       "      <td>46023.000000</td>\n",
       "      <td>4.602300e+04</td>\n",
       "      <td>4.602300e+04</td>\n",
       "    </tr>\n",
       "    <tr>\n",
       "      <th>mean</th>\n",
       "      <td>1000.000000</td>\n",
       "      <td>3.225572e+03</td>\n",
       "      <td>1886.373203</td>\n",
       "      <td>1904.522454</td>\n",
       "      <td>1886.442461</td>\n",
       "      <td>1868.437188</td>\n",
       "      <td>8.656790e+06</td>\n",
       "      <td>1.446887e+09</td>\n",
       "    </tr>\n",
       "    <tr>\n",
       "      <th>std</th>\n",
       "      <td>577.645148</td>\n",
       "      <td>5.961332e+04</td>\n",
       "      <td>3272.862938</td>\n",
       "      <td>3299.083569</td>\n",
       "      <td>3273.005449</td>\n",
       "      <td>3244.198294</td>\n",
       "      <td>2.892422e+07</td>\n",
       "      <td>4.780517e+07</td>\n",
       "    </tr>\n",
       "    <tr>\n",
       "      <th>min</th>\n",
       "      <td>0.000000</td>\n",
       "      <td>0.000000e+00</td>\n",
       "      <td>50.350000</td>\n",
       "      <td>50.350000</td>\n",
       "      <td>48.250000</td>\n",
       "      <td>5.760000</td>\n",
       "      <td>0.000000e+00</td>\n",
       "      <td>1.364087e+09</td>\n",
       "    </tr>\n",
       "    <tr>\n",
       "      <th>25%</th>\n",
       "      <td>500.000000</td>\n",
       "      <td>1.825400e+02</td>\n",
       "      <td>276.280000</td>\n",
       "      <td>277.985000</td>\n",
       "      <td>276.310000</td>\n",
       "      <td>274.730000</td>\n",
       "      <td>9.559342e+04</td>\n",
       "      <td>1.405489e+09</td>\n",
       "    </tr>\n",
       "    <tr>\n",
       "      <th>50%</th>\n",
       "      <td>1000.000000</td>\n",
       "      <td>1.404710e+03</td>\n",
       "      <td>538.050000</td>\n",
       "      <td>544.220000</td>\n",
       "      <td>537.990000</td>\n",
       "      <td>532.320000</td>\n",
       "      <td>5.936102e+05</td>\n",
       "      <td>1.446887e+09</td>\n",
       "    </tr>\n",
       "    <tr>\n",
       "      <th>75%</th>\n",
       "      <td>1500.000000</td>\n",
       "      <td>3.029195e+03</td>\n",
       "      <td>1085.780000</td>\n",
       "      <td>1142.850000</td>\n",
       "      <td>1088.510000</td>\n",
       "      <td>1056.000000</td>\n",
       "      <td>3.272736e+06</td>\n",
       "      <td>1.488285e+09</td>\n",
       "    </tr>\n",
       "    <tr>\n",
       "      <th>max</th>\n",
       "      <td>2000.000000</td>\n",
       "      <td>8.410600e+06</td>\n",
       "      <td>19784.930000</td>\n",
       "      <td>19870.620000</td>\n",
       "      <td>19784.930000</td>\n",
       "      <td>19691.740000</td>\n",
       "      <td>2.305670e+09</td>\n",
       "      <td>1.529687e+09</td>\n",
       "    </tr>\n",
       "  </tbody>\n",
       "</table>\n",
       "</div>"
      ],
      "text/plain": [
       "              index    volumefrom          open          high         close  \\\n",
       "count  46023.000000  4.602300e+04  46023.000000  46023.000000  46023.000000   \n",
       "mean    1000.000000  3.225572e+03   1886.373203   1904.522454   1886.442461   \n",
       "std      577.645148  5.961332e+04   3272.862938   3299.083569   3273.005449   \n",
       "min        0.000000  0.000000e+00     50.350000     50.350000     48.250000   \n",
       "25%      500.000000  1.825400e+02    276.280000    277.985000    276.310000   \n",
       "50%     1000.000000  1.404710e+03    538.050000    544.220000    537.990000   \n",
       "75%     1500.000000  3.029195e+03   1085.780000   1142.850000   1088.510000   \n",
       "max     2000.000000  8.410600e+06  19784.930000  19870.620000  19784.930000   \n",
       "\n",
       "                low      volumeto          time  \n",
       "count  46023.000000  4.602300e+04  4.602300e+04  \n",
       "mean    1868.437188  8.656790e+06  1.446887e+09  \n",
       "std     3244.198294  2.892422e+07  4.780517e+07  \n",
       "min        5.760000  0.000000e+00  1.364087e+09  \n",
       "25%      274.730000  9.559342e+04  1.405489e+09  \n",
       "50%      532.320000  5.936102e+05  1.446887e+09  \n",
       "75%     1056.000000  3.272736e+06  1.488285e+09  \n",
       "max    19691.740000  2.305670e+09  1.529687e+09  "
      ]
     },
     "execution_count": 8,
     "metadata": {},
     "output_type": "execute_result"
    }
   ],
   "source": [
    "df.describe()"
   ]
  },
  {
   "cell_type": "code",
   "execution_count": 27,
   "metadata": {},
   "outputs": [
    {
     "data": {
      "text/plain": [
       "True"
      ]
     },
     "execution_count": 27,
     "metadata": {},
     "output_type": "execute_result"
    }
   ],
   "source": [
    "df.dropna().shape == df.shape"
   ]
  },
  {
   "cell_type": "code",
   "execution_count": 84,
   "metadata": {},
   "outputs": [],
   "source": [
    "sample = df.sample(n=1000)"
   ]
  },
  {
   "cell_type": "code",
   "execution_count": null,
   "metadata": {},
   "outputs": [],
   "source": [
    "sns.boxplot(data=sample)"
   ]
  },
  {
   "cell_type": "code",
   "execution_count": 93,
   "metadata": {},
   "outputs": [
    {
     "data": {
      "text/plain": [
       "<matplotlib.axes._subplots.AxesSubplot at 0x11d59c198>"
      ]
     },
     "execution_count": 93,
     "metadata": {},
     "output_type": "execute_result"
    },
    {
     "data": {
      "image/png": "[encoded data removed]",
      "text/plain": [
       "<Figure size 432x288 with 1 Axes>"
      ]
     },
     "metadata": {},
     "output_type": "display_data"
    }
   ],
   "source": [
    "pltdata = pd.melt(sample, id_vars=['time'], value_vars=['close','volumefrom'])\n",
    "fig, ax = plt.subplots()\n",
    "sns.pointplot(data=pltdata, x='time', y='value', hue='variable', linestyles='-', markers='.')\n",
    "\n",
    "\n"
   ]
  },
  {
   "cell_type": "code",
   "execution_count": 89,
   "metadata": {},
   "outputs": [
    {
     "data": {
      "text/plain": [
       "<matplotlib.axes._subplots.AxesSubplot at 0x11c1fad68>"
      ]
     },
     "execution_count": 89,
     "metadata": {},
     "output_type": "execute_result"
    },
    {
     "data": {
      "image/png": "[encoded data removed]",
      "text/plain": [
       "<Figure size 432x288 with 1 Axes>"
      ]
     },
     "metadata": {},
     "output_type": "display_data"
    }
   ],
   "source": [
    "fig, ax = plt.subplots()\n",
    "pltdata = pd.melt(sample, id_vars=['time'], value_vars=['volumeto'])\n",
    "sns.pointplot(data=pltdata, x='time', y='value', hue='variable', linestyles='-', markers='')"
   ]
  },
  {
   "cell_type": "code",
   "execution_count": 86,
   "metadata": {},
   "outputs": [
    {
     "data": {
      "text/plain": [
       "<matplotlib.axes._subplots.AxesSubplot at 0x11aa7a9b0>"
      ]
     },
     "execution_count": 86,
     "metadata": {},
     "output_type": "execute_result"
    },
    {
     "data": {
      "image/png": "[encoded data removed]",
      "text/plain": [
       "<Figure size 432x288 with 1 Axes>"
      ]
     },
     "metadata": {},
     "output_type": "display_data"
    }
   ],
   "source": []
  },
  {
   "cell_type": "code",
   "execution_count": null,
   "metadata": {},
   "outputs": [],
   "source": []
  }
 ],
 "metadata": {
  "kernelspec": {
   "display_name": "Python (balsam)",
   "language": "python",
   "name": "balsam"
  },
  "language_info": {
   "codemirror_mode": {
    "name": "ipython",
    "version": 3
   },
   "file_extension": ".py",
   "mimetype": "text/x-python",
   "name": "python",
   "nbconvert_exporter": "python",
   "pygments_lexer": "ipython3",
   "version": "3.5.5"
  }
 },
 "nbformat": 4,
 "nbformat_minor": 2
}
