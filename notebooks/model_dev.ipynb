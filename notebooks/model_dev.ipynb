{
 "cells": [
  {
   "cell_type": "markdown",
   "metadata": {},
   "source": [
    "# Model Development"
   ]
  },
  {
   "cell_type": "code",
   "execution_count": 1,
   "metadata": {},
   "outputs": [
    {
     "name": "stderr",
     "output_type": "stream",
     "text": [
      "Using TensorFlow backend.\n"
     ]
    }
   ],
   "source": [
    "%load_ext autoreload\n",
    "%autoreload 2\n",
    "\n",
    "import pandas as pd\n",
    "import numpy as np\n",
    "import os, dotenv\n",
    "project_path = os.path.dirname(dotenv.find_dotenv())\n",
    "\n",
    "from keras.models import Sequential\n",
    "from keras.layers import LSTM, Dropout, Dense\n",
    "\n"
   ]
  },
  {
   "cell_type": "code",
   "execution_count": 2,
   "metadata": {},
   "outputs": [
    {
     "data": {
      "text/html": [
       "<div>\n",
       "<style scoped>\n",
       "    .dataframe tbody tr th:only-of-type {\n",
       "        vertical-align: middle;\n",
       "    }\n",
       "\n",
       "    .dataframe tbody tr th {\n",
       "        vertical-align: top;\n",
       "    }\n",
       "\n",
       "    .dataframe thead th {\n",
       "        text-align: right;\n",
       "    }\n",
       "</style>\n",
       "<table border=\"1\" class=\"dataframe\">\n",
       "  <thead>\n",
       "    <tr style=\"text-align: right;\">\n",
       "      <th></th>\n",
       "      <th>volumefrom</th>\n",
       "      <th>open</th>\n",
       "      <th>high</th>\n",
       "      <th>close</th>\n",
       "      <th>low</th>\n",
       "      <th>time</th>\n",
       "    </tr>\n",
       "  </thead>\n",
       "  <tbody>\n",
       "    <tr>\n",
       "      <th>44022</th>\n",
       "      <td>0.00</td>\n",
       "      <td>73.7</td>\n",
       "      <td>73.7</td>\n",
       "      <td>73.7</td>\n",
       "      <td>73.7</td>\n",
       "      <td>1364086800</td>\n",
       "    </tr>\n",
       "    <tr>\n",
       "      <th>44023</th>\n",
       "      <td>0.00</td>\n",
       "      <td>73.7</td>\n",
       "      <td>73.7</td>\n",
       "      <td>73.7</td>\n",
       "      <td>73.7</td>\n",
       "      <td>1364090400</td>\n",
       "    </tr>\n",
       "    <tr>\n",
       "      <th>44024</th>\n",
       "      <td>0.00</td>\n",
       "      <td>73.7</td>\n",
       "      <td>73.7</td>\n",
       "      <td>73.7</td>\n",
       "      <td>73.7</td>\n",
       "      <td>1364094000</td>\n",
       "    </tr>\n",
       "    <tr>\n",
       "      <th>44025</th>\n",
       "      <td>7.42</td>\n",
       "      <td>73.7</td>\n",
       "      <td>73.7</td>\n",
       "      <td>68.2</td>\n",
       "      <td>68.2</td>\n",
       "      <td>1364097600</td>\n",
       "    </tr>\n",
       "    <tr>\n",
       "      <th>44026</th>\n",
       "      <td>0.00</td>\n",
       "      <td>68.2</td>\n",
       "      <td>68.2</td>\n",
       "      <td>68.2</td>\n",
       "      <td>68.2</td>\n",
       "      <td>1364101200</td>\n",
       "    </tr>\n",
       "  </tbody>\n",
       "</table>\n",
       "</div>"
      ],
      "text/plain": [
       "       volumefrom  open  high  close   low        time\n",
       "44022        0.00  73.7  73.7   73.7  73.7  1364086800\n",
       "44023        0.00  73.7  73.7   73.7  73.7  1364090400\n",
       "44024        0.00  73.7  73.7   73.7  73.7  1364094000\n",
       "44025        7.42  73.7  73.7   68.2  68.2  1364097600\n",
       "44026        0.00  68.2  68.2   68.2  68.2  1364101200"
      ]
     },
     "execution_count": 2,
     "metadata": {},
     "output_type": "execute_result"
    }
   ],
   "source": [
    "df = df = pd.read_csv(project_path + '/data/raw/data.csv', index_col=0)\n",
    "df.sort_values('time', inplace=True)\n",
    "df.drop(['index', 'volumeto'], axis=1, inplace=True)\n",
    "\n",
    "df.head()"
   ]
  },
  {
   "cell_type": "code",
   "execution_count": 3,
   "metadata": {},
   "outputs": [
    {
     "data": {
      "text/html": [
       "<div>\n",
       "<style scoped>\n",
       "    .dataframe tbody tr th:only-of-type {\n",
       "        vertical-align: middle;\n",
       "    }\n",
       "\n",
       "    .dataframe tbody tr th {\n",
       "        vertical-align: top;\n",
       "    }\n",
       "\n",
       "    .dataframe thead th {\n",
       "        text-align: right;\n",
       "    }\n",
       "</style>\n",
       "<table border=\"1\" class=\"dataframe\">\n",
       "  <thead>\n",
       "    <tr style=\"text-align: right;\">\n",
       "      <th></th>\n",
       "      <th>volumefrom</th>\n",
       "      <th>open</th>\n",
       "      <th>high</th>\n",
       "      <th>close</th>\n",
       "      <th>low</th>\n",
       "      <th>time</th>\n",
       "    </tr>\n",
       "  </thead>\n",
       "  <tbody>\n",
       "    <tr>\n",
       "      <th>28004</th>\n",
       "      <td>802.53</td>\n",
       "      <td>260.40</td>\n",
       "      <td>260.80</td>\n",
       "      <td>260.41</td>\n",
       "      <td>259.94</td>\n",
       "      <td>1436054400</td>\n",
       "    </tr>\n",
       "    <tr>\n",
       "      <th>28005</th>\n",
       "      <td>3441.33</td>\n",
       "      <td>260.41</td>\n",
       "      <td>262.83</td>\n",
       "      <td>262.27</td>\n",
       "      <td>260.24</td>\n",
       "      <td>1436058000</td>\n",
       "    </tr>\n",
       "    <tr>\n",
       "      <th>28006</th>\n",
       "      <td>1984.04</td>\n",
       "      <td>262.27</td>\n",
       "      <td>262.99</td>\n",
       "      <td>261.66</td>\n",
       "      <td>261.39</td>\n",
       "      <td>1436061600</td>\n",
       "    </tr>\n",
       "    <tr>\n",
       "      <th>28007</th>\n",
       "      <td>1698.54</td>\n",
       "      <td>261.66</td>\n",
       "      <td>263.41</td>\n",
       "      <td>262.52</td>\n",
       "      <td>261.72</td>\n",
       "      <td>1436065200</td>\n",
       "    </tr>\n",
       "    <tr>\n",
       "      <th>28008</th>\n",
       "      <td>780.67</td>\n",
       "      <td>262.52</td>\n",
       "      <td>262.83</td>\n",
       "      <td>262.62</td>\n",
       "      <td>261.48</td>\n",
       "      <td>1436068800</td>\n",
       "    </tr>\n",
       "  </tbody>\n",
       "</table>\n",
       "</div>"
      ],
      "text/plain": [
       "       volumefrom    open    high   close     low        time\n",
       "28004      802.53  260.40  260.80  260.41  259.94  1436054400\n",
       "28005     3441.33  260.41  262.83  262.27  260.24  1436058000\n",
       "28006     1984.04  262.27  262.99  261.66  261.39  1436061600\n",
       "28007     1698.54  261.66  263.41  262.52  261.72  1436065200\n",
       "28008      780.67  262.52  262.83  262.62  261.48  1436068800"
      ]
     },
     "execution_count": 3,
     "metadata": {},
     "output_type": "execute_result"
    }
   ],
   "source": [
    "sample = df.iloc[20000:,:]\n",
    "sample.head()"
   ]
  },
  {
   "cell_type": "code",
   "execution_count": 32,
   "metadata": {},
   "outputs": [],
   "source": [
    "N_FEATURES = len(df.columns)\n",
    "INPUT_HOURS = 24\n",
    "PREDICT_HOURS = 6\n"
   ]
  },
  {
   "cell_type": "code",
   "execution_count": 33,
   "metadata": {},
   "outputs": [],
   "source": [
    "## Ripped from https://machinelearningmastery.com/convert-time-series-supervised-learning-problem-python/\n",
    "def series_to_supervised(data, n_in=1, n_out=1, dropnan=True):\n",
    "\t\"\"\"\n",
    "\tFrame a time series as a supervised learning dataset.\n",
    "\tArguments:\n",
    "\t\tdata: Sequence of observations as a list or NumPy array.\n",
    "\t\tn_in: Number of lag observations as input (X).\n",
    "\t\tn_out: Number of observations as output (y).\n",
    "\t\tdropnan: Boolean whether or not to drop rows with NaN values.\n",
    "\tReturns:\n",
    "\t\tPandas DataFrame of series framed for supervised learning.\n",
    "\t\"\"\"\n",
    "\tn_vars = 1 if type(data) is list else data.shape[1]\n",
    "\tdf = pd.DataFrame(data)\n",
    "\tcols, names = list(), list()\n",
    "\t# input sequence (t-n, ... t-1)\n",
    "\tfor i in range(n_in, 0, -1):\n",
    "\t\tcols.append(df.shift(i))\n",
    "\t\tnames += [('var%d(t-%d)' % (j+1, i)) for j in range(n_vars)]\n",
    "\t# forecast sequence (t, t+1, ... t+n)\n",
    "\tfor i in range(0, n_out):\n",
    "\t\tcols.append(df.shift(-i))\n",
    "\t\tif i == 0:\n",
    "\t\t\tnames += [('var%d(t)' % (j+1)) for j in range(n_vars)]\n",
    "\t\telse:\n",
    "\t\t\tnames += [('var%d(t+%d)' % (j+1, i)) for j in range(n_vars)]\n",
    "\t# put it all together\n",
    "\tagg = pd.concat(cols, axis=1)\n",
    "\tagg.columns = names\n",
    "\t# drop rows with NaN values\n",
    "\tif dropnan:\n",
    "\t\tagg.dropna(inplace=True)\n",
    "\treturn agg\n",
    " "
   ]
  },
  {
   "cell_type": "code",
   "execution_count": 34,
   "metadata": {},
   "outputs": [
    {
     "data": {
      "text/html": [
       "<div>\n",
       "<style scoped>\n",
       "    .dataframe tbody tr th:only-of-type {\n",
       "        vertical-align: middle;\n",
       "    }\n",
       "\n",
       "    .dataframe tbody tr th {\n",
       "        vertical-align: top;\n",
       "    }\n",
       "\n",
       "    .dataframe thead th {\n",
       "        text-align: right;\n",
       "    }\n",
       "</style>\n",
       "<table border=\"1\" class=\"dataframe\">\n",
       "  <thead>\n",
       "    <tr style=\"text-align: right;\">\n",
       "      <th></th>\n",
       "      <th>var1(t-24)</th>\n",
       "      <th>var2(t-24)</th>\n",
       "      <th>var3(t-24)</th>\n",
       "      <th>var4(t-24)</th>\n",
       "      <th>var5(t-24)</th>\n",
       "      <th>var6(t-24)</th>\n",
       "      <th>var1(t-23)</th>\n",
       "      <th>var2(t-23)</th>\n",
       "      <th>var3(t-23)</th>\n",
       "      <th>var4(t-23)</th>\n",
       "      <th>...</th>\n",
       "      <th>var3(t-2)</th>\n",
       "      <th>var4(t-2)</th>\n",
       "      <th>var5(t-2)</th>\n",
       "      <th>var6(t-2)</th>\n",
       "      <th>var1(t-1)</th>\n",
       "      <th>var2(t-1)</th>\n",
       "      <th>var3(t-1)</th>\n",
       "      <th>var4(t-1)</th>\n",
       "      <th>var5(t-1)</th>\n",
       "      <th>var6(t-1)</th>\n",
       "    </tr>\n",
       "  </thead>\n",
       "  <tbody>\n",
       "    <tr>\n",
       "      <th>24026</th>\n",
       "      <td>802.53</td>\n",
       "      <td>260.40</td>\n",
       "      <td>260.80</td>\n",
       "      <td>260.41</td>\n",
       "      <td>259.94</td>\n",
       "      <td>1.436054e+09</td>\n",
       "      <td>3441.33</td>\n",
       "      <td>260.41</td>\n",
       "      <td>262.83</td>\n",
       "      <td>262.27</td>\n",
       "      <td>...</td>\n",
       "      <td>271.29</td>\n",
       "      <td>268.56</td>\n",
       "      <td>267.18</td>\n",
       "      <td>1.436130e+09</td>\n",
       "      <td>1447349.53</td>\n",
       "      <td>268.56</td>\n",
       "      <td>270.83</td>\n",
       "      <td>269.22</td>\n",
       "      <td>267.78</td>\n",
       "      <td>1.436134e+09</td>\n",
       "    </tr>\n",
       "    <tr>\n",
       "      <th>24027</th>\n",
       "      <td>3441.33</td>\n",
       "      <td>260.41</td>\n",
       "      <td>262.83</td>\n",
       "      <td>262.27</td>\n",
       "      <td>260.24</td>\n",
       "      <td>1.436058e+09</td>\n",
       "      <td>1984.04</td>\n",
       "      <td>262.27</td>\n",
       "      <td>262.99</td>\n",
       "      <td>261.66</td>\n",
       "      <td>...</td>\n",
       "      <td>270.83</td>\n",
       "      <td>269.22</td>\n",
       "      <td>267.78</td>\n",
       "      <td>1.436134e+09</td>\n",
       "      <td>1124642.99</td>\n",
       "      <td>269.22</td>\n",
       "      <td>270.67</td>\n",
       "      <td>269.82</td>\n",
       "      <td>268.75</td>\n",
       "      <td>1.436137e+09</td>\n",
       "    </tr>\n",
       "    <tr>\n",
       "      <th>24028</th>\n",
       "      <td>1984.04</td>\n",
       "      <td>262.27</td>\n",
       "      <td>262.99</td>\n",
       "      <td>261.66</td>\n",
       "      <td>261.39</td>\n",
       "      <td>1.436062e+09</td>\n",
       "      <td>1698.54</td>\n",
       "      <td>261.66</td>\n",
       "      <td>263.41</td>\n",
       "      <td>262.52</td>\n",
       "      <td>...</td>\n",
       "      <td>270.67</td>\n",
       "      <td>269.82</td>\n",
       "      <td>268.75</td>\n",
       "      <td>1.436137e+09</td>\n",
       "      <td>2609069.48</td>\n",
       "      <td>269.82</td>\n",
       "      <td>272.09</td>\n",
       "      <td>270.67</td>\n",
       "      <td>269.92</td>\n",
       "      <td>1.436141e+09</td>\n",
       "    </tr>\n",
       "    <tr>\n",
       "      <th>24029</th>\n",
       "      <td>1698.54</td>\n",
       "      <td>261.66</td>\n",
       "      <td>263.41</td>\n",
       "      <td>262.52</td>\n",
       "      <td>261.72</td>\n",
       "      <td>1.436065e+09</td>\n",
       "      <td>780.67</td>\n",
       "      <td>262.52</td>\n",
       "      <td>262.83</td>\n",
       "      <td>262.62</td>\n",
       "      <td>...</td>\n",
       "      <td>272.09</td>\n",
       "      <td>270.67</td>\n",
       "      <td>269.92</td>\n",
       "      <td>1.436141e+09</td>\n",
       "      <td>2383595.86</td>\n",
       "      <td>270.67</td>\n",
       "      <td>272.08</td>\n",
       "      <td>269.05</td>\n",
       "      <td>268.37</td>\n",
       "      <td>1.436144e+09</td>\n",
       "    </tr>\n",
       "    <tr>\n",
       "      <th>24030</th>\n",
       "      <td>780.67</td>\n",
       "      <td>262.52</td>\n",
       "      <td>262.83</td>\n",
       "      <td>262.62</td>\n",
       "      <td>261.48</td>\n",
       "      <td>1.436069e+09</td>\n",
       "      <td>903.18</td>\n",
       "      <td>262.62</td>\n",
       "      <td>263.12</td>\n",
       "      <td>261.74</td>\n",
       "      <td>...</td>\n",
       "      <td>272.08</td>\n",
       "      <td>269.05</td>\n",
       "      <td>268.37</td>\n",
       "      <td>1.436144e+09</td>\n",
       "      <td>1153986.28</td>\n",
       "      <td>269.05</td>\n",
       "      <td>270.09</td>\n",
       "      <td>267.55</td>\n",
       "      <td>267.42</td>\n",
       "      <td>1.436148e+09</td>\n",
       "    </tr>\n",
       "  </tbody>\n",
       "</table>\n",
       "<p>5 rows × 144 columns</p>\n",
       "</div>"
      ],
      "text/plain": [
       "       var1(t-24)  var2(t-24)  var3(t-24)  var4(t-24)  var5(t-24)  \\\n",
       "24026      802.53      260.40      260.80      260.41      259.94   \n",
       "24027     3441.33      260.41      262.83      262.27      260.24   \n",
       "24028     1984.04      262.27      262.99      261.66      261.39   \n",
       "24029     1698.54      261.66      263.41      262.52      261.72   \n",
       "24030      780.67      262.52      262.83      262.62      261.48   \n",
       "\n",
       "         var6(t-24)  var1(t-23)  var2(t-23)  var3(t-23)  var4(t-23)  \\\n",
       "24026  1.436054e+09     3441.33      260.41      262.83      262.27   \n",
       "24027  1.436058e+09     1984.04      262.27      262.99      261.66   \n",
       "24028  1.436062e+09     1698.54      261.66      263.41      262.52   \n",
       "24029  1.436065e+09      780.67      262.52      262.83      262.62   \n",
       "24030  1.436069e+09      903.18      262.62      263.12      261.74   \n",
       "\n",
       "           ...       var3(t-2)  var4(t-2)  var5(t-2)     var6(t-2)  \\\n",
       "24026      ...          271.29     268.56     267.18  1.436130e+09   \n",
       "24027      ...          270.83     269.22     267.78  1.436134e+09   \n",
       "24028      ...          270.67     269.82     268.75  1.436137e+09   \n",
       "24029      ...          272.09     270.67     269.92  1.436141e+09   \n",
       "24030      ...          272.08     269.05     268.37  1.436144e+09   \n",
       "\n",
       "        var1(t-1)  var2(t-1)  var3(t-1)  var4(t-1)  var5(t-1)     var6(t-1)  \n",
       "24026  1447349.53     268.56     270.83     269.22     267.78  1.436134e+09  \n",
       "24027  1124642.99     269.22     270.67     269.82     268.75  1.436137e+09  \n",
       "24028  2609069.48     269.82     272.09     270.67     269.92  1.436141e+09  \n",
       "24029  2383595.86     270.67     272.08     269.05     268.37  1.436144e+09  \n",
       "24030  1153986.28     269.05     270.09     267.55     267.42  1.436148e+09  \n",
       "\n",
       "[5 rows x 144 columns]"
      ]
     },
     "execution_count": 34,
     "metadata": {},
     "output_type": "execute_result"
    }
   ],
   "source": [
    "X = series_to_supervised(data=sample, n_in=INPUT_HOURS, n_out=PREDICT_HOURS)\n",
    "X = X.iloc[:,:-(PREDICT_HOURS*N_FEATURES)]\n",
    "X.head()"
   ]
  },
  {
   "cell_type": "code",
   "execution_count": 35,
   "metadata": {},
   "outputs": [
    {
     "data": {
      "text/html": [
       "<div>\n",
       "<style scoped>\n",
       "    .dataframe tbody tr th:only-of-type {\n",
       "        vertical-align: middle;\n",
       "    }\n",
       "\n",
       "    .dataframe tbody tr th {\n",
       "        vertical-align: top;\n",
       "    }\n",
       "\n",
       "    .dataframe thead th {\n",
       "        text-align: right;\n",
       "    }\n",
       "</style>\n",
       "<table border=\"1\" class=\"dataframe\">\n",
       "  <thead>\n",
       "    <tr style=\"text-align: right;\">\n",
       "      <th></th>\n",
       "      <th>var1(t-24)</th>\n",
       "      <th>var1(t-23)</th>\n",
       "      <th>var1(t-22)</th>\n",
       "      <th>var1(t-21)</th>\n",
       "      <th>var1(t-20)</th>\n",
       "      <th>var1(t-19)</th>\n",
       "      <th>var1(t-18)</th>\n",
       "      <th>var1(t-17)</th>\n",
       "      <th>var1(t-16)</th>\n",
       "      <th>var1(t-15)</th>\n",
       "      <th>...</th>\n",
       "      <th>var1(t-4)</th>\n",
       "      <th>var1(t-3)</th>\n",
       "      <th>var1(t-2)</th>\n",
       "      <th>var1(t-1)</th>\n",
       "      <th>var1(t)</th>\n",
       "      <th>var1(t+1)</th>\n",
       "      <th>var1(t+2)</th>\n",
       "      <th>var1(t+3)</th>\n",
       "      <th>var1(t+4)</th>\n",
       "      <th>var1(t+5)</th>\n",
       "    </tr>\n",
       "  </thead>\n",
       "  <tbody>\n",
       "    <tr>\n",
       "      <th>24</th>\n",
       "      <td>260.41</td>\n",
       "      <td>262.27</td>\n",
       "      <td>261.66</td>\n",
       "      <td>262.52</td>\n",
       "      <td>262.62</td>\n",
       "      <td>261.74</td>\n",
       "      <td>261.32</td>\n",
       "      <td>260.02</td>\n",
       "      <td>258.90</td>\n",
       "      <td>258.87</td>\n",
       "      <td>...</td>\n",
       "      <td>269.42</td>\n",
       "      <td>270.30</td>\n",
       "      <td>268.56</td>\n",
       "      <td>269.22</td>\n",
       "      <td>269.82</td>\n",
       "      <td>270.67</td>\n",
       "      <td>269.05</td>\n",
       "      <td>267.55</td>\n",
       "      <td>268.46</td>\n",
       "      <td>267.62</td>\n",
       "    </tr>\n",
       "    <tr>\n",
       "      <th>25</th>\n",
       "      <td>262.27</td>\n",
       "      <td>261.66</td>\n",
       "      <td>262.52</td>\n",
       "      <td>262.62</td>\n",
       "      <td>261.74</td>\n",
       "      <td>261.32</td>\n",
       "      <td>260.02</td>\n",
       "      <td>258.90</td>\n",
       "      <td>258.87</td>\n",
       "      <td>258.87</td>\n",
       "      <td>...</td>\n",
       "      <td>270.30</td>\n",
       "      <td>268.56</td>\n",
       "      <td>269.22</td>\n",
       "      <td>269.82</td>\n",
       "      <td>270.67</td>\n",
       "      <td>269.05</td>\n",
       "      <td>267.55</td>\n",
       "      <td>268.46</td>\n",
       "      <td>267.62</td>\n",
       "      <td>269.31</td>\n",
       "    </tr>\n",
       "    <tr>\n",
       "      <th>26</th>\n",
       "      <td>261.66</td>\n",
       "      <td>262.52</td>\n",
       "      <td>262.62</td>\n",
       "      <td>261.74</td>\n",
       "      <td>261.32</td>\n",
       "      <td>260.02</td>\n",
       "      <td>258.90</td>\n",
       "      <td>258.87</td>\n",
       "      <td>258.87</td>\n",
       "      <td>259.48</td>\n",
       "      <td>...</td>\n",
       "      <td>268.56</td>\n",
       "      <td>269.22</td>\n",
       "      <td>269.82</td>\n",
       "      <td>270.67</td>\n",
       "      <td>269.05</td>\n",
       "      <td>267.55</td>\n",
       "      <td>268.46</td>\n",
       "      <td>267.62</td>\n",
       "      <td>269.31</td>\n",
       "      <td>268.77</td>\n",
       "    </tr>\n",
       "    <tr>\n",
       "      <th>27</th>\n",
       "      <td>262.52</td>\n",
       "      <td>262.62</td>\n",
       "      <td>261.74</td>\n",
       "      <td>261.32</td>\n",
       "      <td>260.02</td>\n",
       "      <td>258.90</td>\n",
       "      <td>258.87</td>\n",
       "      <td>258.87</td>\n",
       "      <td>259.48</td>\n",
       "      <td>259.19</td>\n",
       "      <td>...</td>\n",
       "      <td>269.22</td>\n",
       "      <td>269.82</td>\n",
       "      <td>270.67</td>\n",
       "      <td>269.05</td>\n",
       "      <td>267.55</td>\n",
       "      <td>268.46</td>\n",
       "      <td>267.62</td>\n",
       "      <td>269.31</td>\n",
       "      <td>268.77</td>\n",
       "      <td>269.55</td>\n",
       "    </tr>\n",
       "    <tr>\n",
       "      <th>28</th>\n",
       "      <td>262.62</td>\n",
       "      <td>261.74</td>\n",
       "      <td>261.32</td>\n",
       "      <td>260.02</td>\n",
       "      <td>258.90</td>\n",
       "      <td>258.87</td>\n",
       "      <td>258.87</td>\n",
       "      <td>259.48</td>\n",
       "      <td>259.19</td>\n",
       "      <td>260.54</td>\n",
       "      <td>...</td>\n",
       "      <td>269.82</td>\n",
       "      <td>270.67</td>\n",
       "      <td>269.05</td>\n",
       "      <td>267.55</td>\n",
       "      <td>268.46</td>\n",
       "      <td>267.62</td>\n",
       "      <td>269.31</td>\n",
       "      <td>268.77</td>\n",
       "      <td>269.55</td>\n",
       "      <td>271.87</td>\n",
       "    </tr>\n",
       "  </tbody>\n",
       "</table>\n",
       "<p>5 rows × 30 columns</p>\n",
       "</div>"
      ],
      "text/plain": [
       "    var1(t-24)  var1(t-23)  var1(t-22)  var1(t-21)  var1(t-20)  var1(t-19)  \\\n",
       "24      260.41      262.27      261.66      262.52      262.62      261.74   \n",
       "25      262.27      261.66      262.52      262.62      261.74      261.32   \n",
       "26      261.66      262.52      262.62      261.74      261.32      260.02   \n",
       "27      262.52      262.62      261.74      261.32      260.02      258.90   \n",
       "28      262.62      261.74      261.32      260.02      258.90      258.87   \n",
       "\n",
       "    var1(t-18)  var1(t-17)  var1(t-16)  var1(t-15)    ...      var1(t-4)  \\\n",
       "24      261.32      260.02      258.90      258.87    ...         269.42   \n",
       "25      260.02      258.90      258.87      258.87    ...         270.30   \n",
       "26      258.90      258.87      258.87      259.48    ...         268.56   \n",
       "27      258.87      258.87      259.48      259.19    ...         269.22   \n",
       "28      258.87      259.48      259.19      260.54    ...         269.82   \n",
       "\n",
       "    var1(t-3)  var1(t-2)  var1(t-1)  var1(t)  var1(t+1)  var1(t+2)  var1(t+3)  \\\n",
       "24     270.30     268.56     269.22   269.82     270.67     269.05     267.55   \n",
       "25     268.56     269.22     269.82   270.67     269.05     267.55     268.46   \n",
       "26     269.22     269.82     270.67   269.05     267.55     268.46     267.62   \n",
       "27     269.82     270.67     269.05   267.55     268.46     267.62     269.31   \n",
       "28     270.67     269.05     267.55   268.46     267.62     269.31     268.77   \n",
       "\n",
       "    var1(t+4)  var1(t+5)  \n",
       "24     268.46     267.62  \n",
       "25     267.62     269.31  \n",
       "26     269.31     268.77  \n",
       "27     268.77     269.55  \n",
       "28     269.55     271.87  \n",
       "\n",
       "[5 rows x 30 columns]"
      ]
     },
     "execution_count": 35,
     "metadata": {},
     "output_type": "execute_result"
    }
   ],
   "source": [
    "Y = series_to_supervised(data=list(sample['close']), n_in=INPUT_HOURS, n_out=PREDICT_HOURS)\n",
    "Y.head()"
   ]
  },
  {
   "cell_type": "code",
   "execution_count": null,
   "metadata": {},
   "outputs": [],
   "source": []
  },
  {
   "cell_type": "markdown",
   "metadata": {},
   "source": [
    "# train test split"
   ]
  },
  {
   "cell_type": "code",
   "execution_count": 64,
   "metadata": {},
   "outputs": [],
   "source": [
    "from sklearn.model_selection import train_test_split\n",
    "X_train, X_test, Y_train, Y_test = train_test_split(X, Y, test_size=0.05, shuffle=True)\n",
    "Y_test_cache = Y_test\n",
    "Y_train = Y_train.iloc[:,-PREDICT_HOURS:]\n",
    "Y_test = Y_test.iloc[:,-PREDICT_HOURS:]\n",
    "X_train = X_train.as_matrix()\n",
    "X_test = X_test.as_matrix()"
   ]
  },
  {
   "cell_type": "markdown",
   "metadata": {},
   "source": [
    "# preprocessing"
   ]
  },
  {
   "cell_type": "code",
   "execution_count": 65,
   "metadata": {},
   "outputs": [],
   "source": [
    "from sklearn.preprocessing import MinMaxScaler\n",
    "scaler = MinMaxScaler(feature_range=(0, 1))\n",
    "X_train = scaler.fit_transform(X_train)\n",
    "X_test = scaler.transform(X_test)"
   ]
  },
  {
   "cell_type": "code",
   "execution_count": 77,
   "metadata": {},
   "outputs": [
    {
     "data": {
      "text/plain": [
       "array([[3.72924998e-04, 3.83415577e-01, 3.86082676e-01, 3.86352970e-01,\n",
       "        3.84381165e-01, 8.01231717e-01],\n",
       "       [2.09179244e-04, 3.86407102e-01, 3.85646870e-01, 3.86789085e-01,\n",
       "        3.87153645e-01, 8.01231717e-01],\n",
       "       [2.00013429e-04, 3.86809002e-01, 3.85039182e-01, 3.84686133e-01,\n",
       "        3.85425526e-01, 8.01231717e-01],\n",
       "       [2.88143886e-04, 3.84686133e-01, 3.85754677e-01, 3.87536200e-01,\n",
       "        3.85271129e-01, 8.01231717e-01],\n",
       "       [2.81021506e-04, 3.87536200e-01, 3.85941815e-01, 3.83719939e-01,\n",
       "        3.84172395e-01, 8.01231717e-01],\n",
       "       [2.81912464e-04, 3.83727088e-01, 3.83308161e-01, 3.80653856e-01,\n",
       "        3.82447354e-01, 8.01231717e-01],\n",
       "       [2.51478249e-04, 3.80655899e-01, 3.81825810e-01, 3.83391065e-01,\n",
       "        3.82638170e-01, 8.01231717e-01],\n",
       "       [2.80812661e-04, 3.83391065e-01, 3.81714951e-01, 3.82009694e-01,\n",
       "        3.82506343e-01, 8.01231717e-01],\n",
       "       [2.61370528e-04, 3.82009694e-01, 3.80919617e-01, 3.80264212e-01,\n",
       "        3.82158051e-01, 8.01231717e-01],\n",
       "       [5.50402476e-04, 3.80264212e-01, 3.83861946e-01, 3.84698899e-01,\n",
       "        3.82208833e-01, 8.01231717e-01],\n",
       "       [2.84390290e-04, 3.84695835e-01, 3.85179535e-01, 3.85915834e-01,\n",
       "        3.86165196e-01, 8.01239367e-01],\n",
       "       [2.28410929e-04, 3.85915834e-01, 3.84870351e-01, 3.85907604e-01,\n",
       "        3.87982290e-01, 8.01239367e-01],\n",
       "       [2.21888207e-04, 3.85917882e-01, 3.85221747e-01, 3.85353583e-01,\n",
       "        3.86698661e-01, 8.01239367e-01],\n",
       "       [5.63416351e-04, 3.85346433e-01, 3.89103317e-01, 3.89970069e-01,\n",
       "        3.87321892e-01, 8.01239367e-01],\n",
       "       [2.80207058e-04, 3.89966495e-01, 3.88210855e-01, 3.90182606e-01,\n",
       "        3.91061470e-01, 8.01239367e-01],\n",
       "       [3.07398161e-04, 3.90192997e-01, 3.88389921e-01, 3.86986716e-01,\n",
       "        3.89003846e-01, 8.01239367e-01],\n",
       "       [2.45416850e-04, 3.86992333e-01, 3.85751117e-01, 3.85593088e-01,\n",
       "        3.87402938e-01, 8.01239367e-01],\n",
       "       [1.75559763e-04, 3.85631900e-01, 3.87290424e-01, 3.88917772e-01,\n",
       "        3.87541564e-01, 8.01239367e-01],\n",
       "       [1.58476558e-04, 3.88917772e-01, 3.87640961e-01, 3.87822177e-01,\n",
       "        3.89831230e-01, 8.01239367e-01],\n",
       "       [1.79230132e-04, 3.87821667e-01, 3.87134307e-01, 3.87364614e-01,\n",
       "        3.89059757e-01, 8.01239367e-01],\n",
       "       [1.61267084e-04, 3.87350315e-01, 3.87005650e-01, 3.87189964e-01,\n",
       "        3.89138751e-01, 8.01239367e-01],\n",
       "       [2.29365676e-04, 3.87159323e-01, 3.85442951e-01, 3.86024607e-01,\n",
       "        3.87173137e-01, 8.01239367e-01],\n",
       "       [2.32522407e-04, 3.86024607e-01, 3.84974599e-01, 3.85627814e-01,\n",
       "        3.87089527e-01, 8.01239367e-01],\n",
       "       [4.19869332e-04, 3.85624239e-01, 3.83887372e-01, 3.84029379e-01,\n",
       "        3.83489928e-01, 8.01239367e-01]])"
      ]
     },
     "execution_count": 77,
     "metadata": {},
     "output_type": "execute_result"
    }
   ],
   "source": [
    "def shape_model_data(data, n_features):\n",
    "    model_data = data.reshape((data.shape[0], INPUT_HOURS, n_features))\n",
    "    return model_data\n",
    "X_train_3D = shape_model_data(X_train, N_FEATURES)\n",
    "X_test_3D = shape_model_data(X_test, N_FEATURES)\n",
    "X_train_3D[0,:,:]"
   ]
  },
  {
   "cell_type": "code",
   "execution_count": 78,
   "metadata": {},
   "outputs": [],
   "source": [
    "def lstm_model(input_shape, num_outputs):\n",
    "    model = Sequential()\n",
    "    \n",
    "    model.add(LSTM(64, input_shape=input_shape, activation='linear', return_sequences=True))\n",
    "    \n",
    "    model.add(Dropout(rate=0.1))\n",
    "    \n",
    "    model.add(LSTM(64, activation='linear'))\n",
    "    \n",
    "    model.add(Dense(num_outputs, activation='linear'))\n",
    "    \n",
    "    return model\n"
   ]
  },
  {
   "cell_type": "code",
   "execution_count": 79,
   "metadata": {},
   "outputs": [
    {
     "name": "stdout",
     "output_type": "stream",
     "text": [
      "_________________________________________________________________\n",
      "Layer (type)                 Output Shape              Param #   \n",
      "=================================================================\n",
      "lstm_15 (LSTM)               (None, 24, 64)            18176     \n",
      "_________________________________________________________________\n",
      "dropout_8 (Dropout)          (None, 24, 64)            0         \n",
      "_________________________________________________________________\n",
      "lstm_16 (LSTM)               (None, 64)                33024     \n",
      "_________________________________________________________________\n",
      "dense_7 (Dense)              (None, 6)                 390       \n",
      "=================================================================\n",
      "Total params: 51,590\n",
      "Trainable params: 51,590\n",
      "Non-trainable params: 0\n",
      "_________________________________________________________________\n"
     ]
    }
   ],
   "source": [
    "model = lstm_model(X_train_3D.shape[1:], PREDICT_HOURS)\n",
    "model.summary()"
   ]
  },
  {
   "cell_type": "code",
   "execution_count": 80,
   "metadata": {},
   "outputs": [],
   "source": [
    "N_EPOCHS = 10\n",
    "BATCH_SIZE = 128"
   ]
  },
  {
   "cell_type": "code",
   "execution_count": 81,
   "metadata": {},
   "outputs": [
    {
     "name": "stdout",
     "output_type": "stream",
     "text": [
      "Train on 24694 samples, validate on 1300 samples\n",
      "Epoch 1/10\n",
      "24694/24694 [==============================] - 25s 1ms/step - loss: 1859.4482 - val_loss: 403.1414\n",
      "Epoch 2/10\n",
      "24694/24694 [==============================] - 24s 961us/step - loss: 381.3090 - val_loss: 341.1904\n",
      "Epoch 3/10\n",
      "24694/24694 [==============================] - 24s 985us/step - loss: 333.7678 - val_loss: 302.8991\n",
      "Epoch 4/10\n",
      "24694/24694 [==============================] - 23s 939us/step - loss: 295.4716 - val_loss: 264.6468\n",
      "Epoch 5/10\n",
      "24694/24694 [==============================] - 24s 967us/step - loss: 263.1913 - val_loss: 226.9879\n",
      "Epoch 6/10\n",
      "24694/24694 [==============================] - 24s 962us/step - loss: 228.4862 - val_loss: 204.6766\n",
      "Epoch 7/10\n",
      "24694/24694 [==============================] - 25s 1ms/step - loss: 196.3000 - val_loss: 169.1677\n",
      "Epoch 8/10\n",
      "24694/24694 [==============================] - 25s 1ms/step - loss: 173.1102 - val_loss: 145.5421\n",
      "Epoch 9/10\n",
      "24694/24694 [==============================] - 23s 950us/step - loss: 165.8936 - val_loss: 144.0655\n",
      "Epoch 10/10\n",
      "24694/24694 [==============================] - 24s 953us/step - loss: 157.1968 - val_loss: 150.6974\n"
     ]
    }
   ],
   "source": [
    "from keras.optimizers import Adam\n",
    "model.compile(loss='mae', optimizer=Adam(lr=0.0001))\n",
    "\n",
    "fit = model.fit(X_train_3D, Y_train, \n",
    "                    epochs=N_EPOCHS, \n",
    "                    batch_size=BATCH_SIZE, \n",
    "                    validation_data=(X_test_3D, Y_test))\n"
   ]
  },
  {
   "cell_type": "code",
   "execution_count": 56,
   "metadata": {},
   "outputs": [
    {
     "data": {
      "text/plain": [
       "<matplotlib.legend.Legend at 0x128b8b6a0>"
      ]
     },
     "execution_count": 56,
     "metadata": {},
     "output_type": "execute_result"
    },
    {
     "data": {
      "image/png": "[encoded data removed]",
      "text/plain": [
       "<Figure size 432x288 with 1 Axes>"
      ]
     },
     "metadata": {},
     "output_type": "display_data"
    }
   ],
   "source": [
    "import matplotlib.pyplot as plt\n",
    "plt.plot(fit.history['loss'], label='train')\n",
    "plt.plot(fit.history['val_loss'], label='test')\n",
    "plt.legend()"
   ]
  },
  {
   "cell_type": "markdown",
   "metadata": {},
   "source": [
    "## Look at some predictions"
   ]
  },
  {
   "cell_type": "code",
   "execution_count": 57,
   "metadata": {},
   "outputs": [
    {
     "data": {
      "image/png": "[encoded data removed]",
      "text/plain": [
       "<Figure size 432x288 with 1 Axes>"
      ]
     },
     "metadata": {},
     "output_type": "display_data"
    },
    {
     "data": {
      "image/png": "[encoded data removed]",
      "text/plain": [
       "<Figure size 432x288 with 1 Axes>"
      ]
     },
     "metadata": {},
     "output_type": "display_data"
    },
    {
     "data": {
      "image/png": "[encoded data removed]",
      "text/plain": [
       "<Figure size 432x288 with 1 Axes>"
      ]
     },
     "metadata": {},
     "output_type": "display_data"
    },
    {
     "data": {
      "image/png": "[encoded data removed]",
      "text/plain": [
       "<Figure size 432x288 with 1 Axes>"
      ]
     },
     "metadata": {},
     "output_type": "display_data"
    },
    {
     "data": {
      "image/png": "[encoded data removed]",
      "text/plain": [
       "<Figure size 432x288 with 1 Axes>"
      ]
     },
     "metadata": {},
     "output_type": "display_data"
    },
    {
     "data": {
      "image/png": "[encoded data removed]",
      "text/plain": [
       "<Figure size 432x288 with 1 Axes>"
      ]
     },
     "metadata": {},
     "output_type": "display_data"
    }
   ],
   "source": [
    "\n",
    "for ix in np.random.randint(0,Y_test_cache.shape[0],6):\n",
    "    plt.figure()\n",
    "    s = X_test_3D[ix,:,:]\n",
    "    predict = fit.model.predict(s.reshape(1, s.shape[0], s.shape[1])).reshape(6)\n",
    "    actual = Y_test_cache.iloc[ix]\n",
    "    plt.plot(range(24,30), predict, 'r^', range(30), actual, 'g-')"
   ]
  },
  {
   "cell_type": "code",
   "execution_count": 70,
   "metadata": {},
   "outputs": [
    {
     "data": {
      "text/plain": [
       "(24694, 144)"
      ]
     },
     "execution_count": 70,
     "metadata": {},
     "output_type": "execute_result"
    }
   ],
   "source": [
    "X_train.shape"
   ]
  },
  {
   "cell_type": "code",
   "execution_count": 66,
   "metadata": {},
   "outputs": [],
   "source": [
    "from sklearn.linear_model import LinearRegression\n",
    "\n",
    "lr_model = LinearRegression()\n",
    "lr_model = lr_model.fit(X_train, Y_train)\n",
    "\n"
   ]
  },
  {
   "cell_type": "code",
   "execution_count": 73,
   "metadata": {},
   "outputs": [
    {
     "data": {
      "text/plain": [
       "0.9989152788629398"
      ]
     },
     "execution_count": 73,
     "metadata": {},
     "output_type": "execute_result"
    }
   ],
   "source": [
    "lr_model.score(X_test, Y_test)"
   ]
  },
  {
   "cell_type": "code",
   "execution_count": 75,
   "metadata": {},
   "outputs": [
    {
     "data": {
      "image/png": "[encoded data removed]",
      "text/plain": [
       "<Figure size 432x288 with 1 Axes>"
      ]
     },
     "metadata": {},
     "output_type": "display_data"
    },
    {
     "data": {
      "image/png": "[encoded data removed]",
      "text/plain": [
       "<Figure size 432x288 with 1 Axes>"
      ]
     },
     "metadata": {},
     "output_type": "display_data"
    },
    {
     "data": {
      "image/png": "[encoded data removed]",
      "text/plain": [
       "<Figure size 432x288 with 1 Axes>"
      ]
     },
     "metadata": {},
     "output_type": "display_data"
    },
    {
     "data": {
      "image/png": "[encoded data removed]",
      "text/plain": [
       "<Figure size 432x288 with 1 Axes>"
      ]
     },
     "metadata": {},
     "output_type": "display_data"
    },
    {
     "data": {
      "image/png": "[encoded data removed]",
      "text/plain": [
       "<Figure size 432x288 with 1 Axes>"
      ]
     },
     "metadata": {},
     "output_type": "display_data"
    },
    {
     "data": {
      "image/png": "[encoded data removed]",
      "text/plain": [
       "<Figure size 432x288 with 1 Axes>"
      ]
     },
     "metadata": {},
     "output_type": "display_data"
    }
   ],
   "source": [
    "lr_predict = lr_model.predict(X_test)\n",
    "for ix in np.random.randint(0,Y_test_cache.shape[0],6):\n",
    "    plt.figure()\n",
    "    \n",
    "    actual = Y_test_cache.iloc[ix]\n",
    "    plt.plot(range(24,30), lr_predict[ix], 'r^', range(30), actual, 'g-')"
   ]
  },
  {
   "cell_type": "code",
   "execution_count": 84,
   "metadata": {},
   "outputs": [],
   "source": [
    "import pickle\n",
    "with open(project_path + '/models/linear_model_btc.pkl', 'wb') as output_file:\n",
    "    s = pickle.dump(lr_model, output_file)\n"
   ]
  },
  {
   "cell_type": "code",
   "execution_count": null,
   "metadata": {},
   "outputs": [],
   "source": []
  }
 ],
 "metadata": {
  "kernelspec": {
   "display_name": "Python (balsam)",
   "language": "python",
   "name": "balsam"
  },
  "language_info": {
   "codemirror_mode": {
    "name": "ipython",
    "version": 3
   },
   "file_extension": ".py",
   "mimetype": "text/x-python",
   "name": "python",
   "nbconvert_exporter": "python",
   "pygments_lexer": "ipython3",
   "version": "3.5.5"
  }
 },
 "nbformat": 4,
 "nbformat_minor": 2
}
