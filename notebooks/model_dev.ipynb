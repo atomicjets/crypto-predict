{
 "cells": [
  {
   "cell_type": "markdown",
   "metadata": {},
   "source": [
    "# Model Development"
   ]
  },
  {
   "cell_type": "code",
   "execution_count": 1,
   "metadata": {},
   "outputs": [
    {
     "name": "stderr",
     "output_type": "stream",
     "text": [
      "Using TensorFlow backend.\n"
     ]
    }
   ],
   "source": [
    "%load_ext autoreload\n",
    "%autoreload 2\n",
    "\n",
    "import pandas as pd\n",
    "import numpy as np\n",
    "\n",
    "import matplotlib.pyplot as plt\n",
    "%matplotlib inline\n",
    "\n",
    "import os, dotenv\n",
    "project_path = os.path.dirname(dotenv.find_dotenv())\n",
    "\n",
    "from sklearn.preprocessing import MinMaxScaler\n",
    "from sklearn.model_selection import train_test_split\n",
    "\n",
    "from keras.models import Sequential\n",
    "from keras.layers import LSTM, Dropout, Dense\n",
    "from keras.optimizers import Adam\n",
    "\n",
    "import pickle"
   ]
  },
  {
   "cell_type": "code",
   "execution_count": 2,
   "metadata": {},
   "outputs": [
    {
     "data": {
      "text/html": [
       "<div>\n",
       "<style scoped>\n",
       "    .dataframe tbody tr th:only-of-type {\n",
       "        vertical-align: middle;\n",
       "    }\n",
       "\n",
       "    .dataframe tbody tr th {\n",
       "        vertical-align: top;\n",
       "    }\n",
       "\n",
       "    .dataframe thead th {\n",
       "        text-align: right;\n",
       "    }\n",
       "</style>\n",
       "<table border=\"1\" class=\"dataframe\">\n",
       "  <thead>\n",
       "    <tr style=\"text-align: right;\">\n",
       "      <th></th>\n",
       "      <th>volumefrom</th>\n",
       "      <th>open</th>\n",
       "      <th>high</th>\n",
       "      <th>close</th>\n",
       "      <th>low</th>\n",
       "      <th>time</th>\n",
       "    </tr>\n",
       "  </thead>\n",
       "  <tbody>\n",
       "    <tr>\n",
       "      <th>44022</th>\n",
       "      <td>0.00</td>\n",
       "      <td>73.7</td>\n",
       "      <td>73.7</td>\n",
       "      <td>73.7</td>\n",
       "      <td>73.7</td>\n",
       "      <td>1364086800</td>\n",
       "    </tr>\n",
       "    <tr>\n",
       "      <th>44023</th>\n",
       "      <td>0.00</td>\n",
       "      <td>73.7</td>\n",
       "      <td>73.7</td>\n",
       "      <td>73.7</td>\n",
       "      <td>73.7</td>\n",
       "      <td>1364090400</td>\n",
       "    </tr>\n",
       "    <tr>\n",
       "      <th>44024</th>\n",
       "      <td>0.00</td>\n",
       "      <td>73.7</td>\n",
       "      <td>73.7</td>\n",
       "      <td>73.7</td>\n",
       "      <td>73.7</td>\n",
       "      <td>1364094000</td>\n",
       "    </tr>\n",
       "    <tr>\n",
       "      <th>44025</th>\n",
       "      <td>7.42</td>\n",
       "      <td>73.7</td>\n",
       "      <td>73.7</td>\n",
       "      <td>68.2</td>\n",
       "      <td>68.2</td>\n",
       "      <td>1364097600</td>\n",
       "    </tr>\n",
       "    <tr>\n",
       "      <th>44026</th>\n",
       "      <td>0.00</td>\n",
       "      <td>68.2</td>\n",
       "      <td>68.2</td>\n",
       "      <td>68.2</td>\n",
       "      <td>68.2</td>\n",
       "      <td>1364101200</td>\n",
       "    </tr>\n",
       "  </tbody>\n",
       "</table>\n",
       "</div>"
      ],
      "text/plain": [
       "       volumefrom  open  high  close   low        time\n",
       "44022        0.00  73.7  73.7   73.7  73.7  1364086800\n",
       "44023        0.00  73.7  73.7   73.7  73.7  1364090400\n",
       "44024        0.00  73.7  73.7   73.7  73.7  1364094000\n",
       "44025        7.42  73.7  73.7   68.2  68.2  1364097600\n",
       "44026        0.00  68.2  68.2   68.2  68.2  1364101200"
      ]
     },
     "execution_count": 2,
     "metadata": {},
     "output_type": "execute_result"
    }
   ],
   "source": [
    "df = df = pd.read_csv(project_path + '/data/raw/data.csv', index_col=0)\n",
    "df.sort_values('time', inplace=True)\n",
    "# Kept time because we will know the times at which we want predictions for - no problem with knowing the future.\n",
    "df.drop(['index', 'volumeto'], axis=1, inplace=True)\n",
    "df = df[['volumefrom','open','high','close','low','time']]\n",
    "df.head()"
   ]
  },
  {
   "cell_type": "code",
   "execution_count": 3,
   "metadata": {},
   "outputs": [],
   "source": [
    "TRAIN_DATA_START_HOUR_INDEX = 10000\n",
    "N_FEATURES = len(df.columns)\n",
    "INPUT_HOURS = 24\n",
    "PREDICT_HOURS = 6\n"
   ]
  },
  {
   "cell_type": "code",
   "execution_count": 4,
   "metadata": {},
   "outputs": [
    {
     "data": {
      "text/plain": [
       "(36023, 6)"
      ]
     },
     "execution_count": 4,
     "metadata": {},
     "output_type": "execute_result"
    }
   ],
   "source": [
    "\"\"\"\n",
    "Cut off first ### hours from data set. The OHCLV data is much different in Bitcoin's earlier days. \n",
    "Getting rid of this data will hopefully improve the model.\n",
    "\"\"\"\n",
    "sample = df.iloc[TRAIN_DATA_START_HOUR_INDEX:,:]\n",
    "sample.shape"
   ]
  },
  {
   "cell_type": "code",
   "execution_count": 5,
   "metadata": {},
   "outputs": [],
   "source": [
    "\"\"\"\n",
    "Ripped from https://machinelearningmastery.com/convert-time-series-supervised-learning-problem-python/\n",
    "\n",
    "Using this function to format the learning problem. We give it the number of previous hours we want to use\n",
    "to predict as well as the number of hours we want to predict.\n",
    "\"\"\" \n",
    "def series_to_supervised(data, n_in=1, n_out=1, dropnan=True):\n",
    "\t\"\"\"\n",
    "\tFrame a time series as a supervised learning dataset.\n",
    "\tArguments:\n",
    "\t\tdata: Sequence of observations as a list or NumPy array.\n",
    "\t\tn_in: Number of lag observations as input (X).\n",
    "\t\tn_out: Number of observations as output (y).\n",
    "\t\tdropnan: Boolean whether or not to drop rows with NaN values.\n",
    "\tReturns:\n",
    "\t\tPandas DataFrame of series framed for supervised learning.\n",
    "\t\"\"\"\n",
    "\tn_vars = 1 if type(data) is list else data.shape[1]\n",
    "\tdf = pd.DataFrame(data)\n",
    "\tcols, names = list(), list()\n",
    "\t# input sequence (t-n, ... t-1)\n",
    "\tfor i in range(n_in, 0, -1):\n",
    "\t\tcols.append(df.shift(i))\n",
    "\t\tnames += [('var%d(t-%d)' % (j+1, i)) for j in range(n_vars)]\n",
    "\t# forecast sequence (t, t+1, ... t+n)\n",
    "\tfor i in range(0, n_out):\n",
    "\t\tcols.append(df.shift(-i))\n",
    "\t\tif i == 0:\n",
    "\t\t\tnames += [('var%d(t)' % (j+1)) for j in range(n_vars)]\n",
    "\t\telse:\n",
    "\t\t\tnames += [('var%d(t+%d)' % (j+1, i)) for j in range(n_vars)]\n",
    "\t# put it all together\n",
    "\tagg = pd.concat(cols, axis=1)\n",
    "\tagg.columns = names\n",
    "\t# drop rows with NaN values\n",
    "\tif dropnan:\n",
    "\t\tagg.dropna(inplace=True)\n",
    "\treturn agg\n",
    " "
   ]
  },
  {
   "cell_type": "code",
   "execution_count": 19,
   "metadata": {},
   "outputs": [
    {
     "data": {
      "text/html": [
       "<div>\n",
       "<style scoped>\n",
       "    .dataframe tbody tr th:only-of-type {\n",
       "        vertical-align: middle;\n",
       "    }\n",
       "\n",
       "    .dataframe tbody tr th {\n",
       "        vertical-align: top;\n",
       "    }\n",
       "\n",
       "    .dataframe thead th {\n",
       "        text-align: right;\n",
       "    }\n",
       "</style>\n",
       "<table border=\"1\" class=\"dataframe\">\n",
       "  <thead>\n",
       "    <tr style=\"text-align: right;\">\n",
       "      <th></th>\n",
       "      <th>var1(t-24)</th>\n",
       "      <th>var2(t-24)</th>\n",
       "      <th>var3(t-24)</th>\n",
       "      <th>var4(t-24)</th>\n",
       "      <th>var5(t-24)</th>\n",
       "      <th>var6(t-24)</th>\n",
       "      <th>var1(t-23)</th>\n",
       "      <th>var2(t-23)</th>\n",
       "      <th>var3(t-23)</th>\n",
       "      <th>var4(t-23)</th>\n",
       "      <th>...</th>\n",
       "      <th>var3(t+4)</th>\n",
       "      <th>var4(t+4)</th>\n",
       "      <th>var5(t+4)</th>\n",
       "      <th>var6(t+4)</th>\n",
       "      <th>var1(t+5)</th>\n",
       "      <th>var2(t+5)</th>\n",
       "      <th>var3(t+5)</th>\n",
       "      <th>var4(t+5)</th>\n",
       "      <th>var5(t+5)</th>\n",
       "      <th>var6(t+5)</th>\n",
       "    </tr>\n",
       "  </thead>\n",
       "  <tbody>\n",
       "    <tr>\n",
       "      <th>34036</th>\n",
       "      <td>77.68</td>\n",
       "      <td>442.42</td>\n",
       "      <td>442.42</td>\n",
       "      <td>441.23</td>\n",
       "      <td>440.95</td>\n",
       "      <td>1.400072e+09</td>\n",
       "      <td>95.43</td>\n",
       "      <td>441.23</td>\n",
       "      <td>441.23</td>\n",
       "      <td>440.72</td>\n",
       "      <td>...</td>\n",
       "      <td>448.59</td>\n",
       "      <td>448.59</td>\n",
       "      <td>447.55</td>\n",
       "      <td>1.400170e+09</td>\n",
       "      <td>70.44</td>\n",
       "      <td>448.59</td>\n",
       "      <td>448.79</td>\n",
       "      <td>448.41</td>\n",
       "      <td>448.06</td>\n",
       "      <td>1.400173e+09</td>\n",
       "    </tr>\n",
       "    <tr>\n",
       "      <th>34037</th>\n",
       "      <td>95.43</td>\n",
       "      <td>441.23</td>\n",
       "      <td>441.23</td>\n",
       "      <td>440.72</td>\n",
       "      <td>439.58</td>\n",
       "      <td>1.400076e+09</td>\n",
       "      <td>56.48</td>\n",
       "      <td>440.72</td>\n",
       "      <td>443.21</td>\n",
       "      <td>442.55</td>\n",
       "      <td>...</td>\n",
       "      <td>448.79</td>\n",
       "      <td>448.41</td>\n",
       "      <td>448.06</td>\n",
       "      <td>1.400173e+09</td>\n",
       "      <td>168.69</td>\n",
       "      <td>448.41</td>\n",
       "      <td>448.95</td>\n",
       "      <td>447.69</td>\n",
       "      <td>447.58</td>\n",
       "      <td>1.400177e+09</td>\n",
       "    </tr>\n",
       "    <tr>\n",
       "      <th>34038</th>\n",
       "      <td>56.48</td>\n",
       "      <td>440.72</td>\n",
       "      <td>443.21</td>\n",
       "      <td>442.55</td>\n",
       "      <td>440.37</td>\n",
       "      <td>1.400080e+09</td>\n",
       "      <td>125.23</td>\n",
       "      <td>442.55</td>\n",
       "      <td>442.97</td>\n",
       "      <td>442.58</td>\n",
       "      <td>...</td>\n",
       "      <td>448.95</td>\n",
       "      <td>447.69</td>\n",
       "      <td>447.58</td>\n",
       "      <td>1.400177e+09</td>\n",
       "      <td>83.92</td>\n",
       "      <td>447.69</td>\n",
       "      <td>447.92</td>\n",
       "      <td>446.61</td>\n",
       "      <td>446.54</td>\n",
       "      <td>1.400180e+09</td>\n",
       "    </tr>\n",
       "    <tr>\n",
       "      <th>34039</th>\n",
       "      <td>125.23</td>\n",
       "      <td>442.55</td>\n",
       "      <td>442.97</td>\n",
       "      <td>442.58</td>\n",
       "      <td>442.06</td>\n",
       "      <td>1.400083e+09</td>\n",
       "      <td>118.99</td>\n",
       "      <td>442.58</td>\n",
       "      <td>442.84</td>\n",
       "      <td>442.76</td>\n",
       "      <td>...</td>\n",
       "      <td>447.92</td>\n",
       "      <td>446.61</td>\n",
       "      <td>446.54</td>\n",
       "      <td>1.400180e+09</td>\n",
       "      <td>150.88</td>\n",
       "      <td>446.61</td>\n",
       "      <td>447.65</td>\n",
       "      <td>447.60</td>\n",
       "      <td>446.44</td>\n",
       "      <td>1.400184e+09</td>\n",
       "    </tr>\n",
       "    <tr>\n",
       "      <th>34040</th>\n",
       "      <td>118.99</td>\n",
       "      <td>442.58</td>\n",
       "      <td>442.84</td>\n",
       "      <td>442.76</td>\n",
       "      <td>441.80</td>\n",
       "      <td>1.400087e+09</td>\n",
       "      <td>118.99</td>\n",
       "      <td>442.58</td>\n",
       "      <td>442.84</td>\n",
       "      <td>442.76</td>\n",
       "      <td>...</td>\n",
       "      <td>447.65</td>\n",
       "      <td>447.60</td>\n",
       "      <td>446.44</td>\n",
       "      <td>1.400184e+09</td>\n",
       "      <td>115.31</td>\n",
       "      <td>447.60</td>\n",
       "      <td>447.66</td>\n",
       "      <td>447.54</td>\n",
       "      <td>446.45</td>\n",
       "      <td>1.400188e+09</td>\n",
       "    </tr>\n",
       "  </tbody>\n",
       "</table>\n",
       "<p>5 rows × 180 columns</p>\n",
       "</div>"
      ],
      "text/plain": [
       "       var1(t-24)  var2(t-24)  var3(t-24)  var4(t-24)  var5(t-24)  \\\n",
       "34036       77.68      442.42      442.42      441.23      440.95   \n",
       "34037       95.43      441.23      441.23      440.72      439.58   \n",
       "34038       56.48      440.72      443.21      442.55      440.37   \n",
       "34039      125.23      442.55      442.97      442.58      442.06   \n",
       "34040      118.99      442.58      442.84      442.76      441.80   \n",
       "\n",
       "         var6(t-24)  var1(t-23)  var2(t-23)  var3(t-23)  var4(t-23)  \\\n",
       "34036  1.400072e+09       95.43      441.23      441.23      440.72   \n",
       "34037  1.400076e+09       56.48      440.72      443.21      442.55   \n",
       "34038  1.400080e+09      125.23      442.55      442.97      442.58   \n",
       "34039  1.400083e+09      118.99      442.58      442.84      442.76   \n",
       "34040  1.400087e+09      118.99      442.58      442.84      442.76   \n",
       "\n",
       "           ...       var3(t+4)  var4(t+4)  var5(t+4)     var6(t+4)  var1(t+5)  \\\n",
       "34036      ...          448.59     448.59     447.55  1.400170e+09      70.44   \n",
       "34037      ...          448.79     448.41     448.06  1.400173e+09     168.69   \n",
       "34038      ...          448.95     447.69     447.58  1.400177e+09      83.92   \n",
       "34039      ...          447.92     446.61     446.54  1.400180e+09     150.88   \n",
       "34040      ...          447.65     447.60     446.44  1.400184e+09     115.31   \n",
       "\n",
       "       var2(t+5)  var3(t+5)  var4(t+5)  var5(t+5)     var6(t+5)  \n",
       "34036     448.59     448.79     448.41     448.06  1.400173e+09  \n",
       "34037     448.41     448.95     447.69     447.58  1.400177e+09  \n",
       "34038     447.69     447.92     446.61     446.54  1.400180e+09  \n",
       "34039     446.61     447.65     447.60     446.44  1.400184e+09  \n",
       "34040     447.60     447.66     447.54     446.45  1.400188e+09  \n",
       "\n",
       "[5 rows x 180 columns]"
      ]
     },
     "execution_count": 19,
     "metadata": {},
     "output_type": "execute_result"
    }
   ],
   "source": [
    "X = series_to_supervised(data=sample, n_in=INPUT_HOURS, n_out=PREDICT_HOURS)\n",
    "\n",
    "\n",
    "X.head()"
   ]
  },
  {
   "cell_type": "code",
   "execution_count": 20,
   "metadata": {},
   "outputs": [
    {
     "data": {
      "text/html": [
       "<div>\n",
       "<style scoped>\n",
       "    .dataframe tbody tr th:only-of-type {\n",
       "        vertical-align: middle;\n",
       "    }\n",
       "\n",
       "    .dataframe tbody tr th {\n",
       "        vertical-align: top;\n",
       "    }\n",
       "\n",
       "    .dataframe thead th {\n",
       "        text-align: right;\n",
       "    }\n",
       "</style>\n",
       "<table border=\"1\" class=\"dataframe\">\n",
       "  <thead>\n",
       "    <tr style=\"text-align: right;\">\n",
       "      <th></th>\n",
       "      <th>var1(t-24)</th>\n",
       "      <th>var1(t-23)</th>\n",
       "      <th>var1(t-22)</th>\n",
       "      <th>var1(t-21)</th>\n",
       "      <th>var1(t-20)</th>\n",
       "      <th>var1(t-19)</th>\n",
       "      <th>var1(t-18)</th>\n",
       "      <th>var1(t-17)</th>\n",
       "      <th>var1(t-16)</th>\n",
       "      <th>var1(t-15)</th>\n",
       "      <th>...</th>\n",
       "      <th>var1(t-4)</th>\n",
       "      <th>var1(t-3)</th>\n",
       "      <th>var1(t-2)</th>\n",
       "      <th>var1(t-1)</th>\n",
       "      <th>var1(t)</th>\n",
       "      <th>var1(t+1)</th>\n",
       "      <th>var1(t+2)</th>\n",
       "      <th>var1(t+3)</th>\n",
       "      <th>var1(t+4)</th>\n",
       "      <th>var1(t+5)</th>\n",
       "    </tr>\n",
       "  </thead>\n",
       "  <tbody>\n",
       "    <tr>\n",
       "      <th>24</th>\n",
       "      <td>441.23</td>\n",
       "      <td>440.72</td>\n",
       "      <td>442.55</td>\n",
       "      <td>442.58</td>\n",
       "      <td>442.76</td>\n",
       "      <td>442.76</td>\n",
       "      <td>442.94</td>\n",
       "      <td>443.43</td>\n",
       "      <td>443.41</td>\n",
       "      <td>443.94</td>\n",
       "      <td>...</td>\n",
       "      <td>447.19</td>\n",
       "      <td>449.08</td>\n",
       "      <td>448.21</td>\n",
       "      <td>448.27</td>\n",
       "      <td>447.84</td>\n",
       "      <td>448.28</td>\n",
       "      <td>449.03</td>\n",
       "      <td>448.26</td>\n",
       "      <td>448.59</td>\n",
       "      <td>448.41</td>\n",
       "    </tr>\n",
       "    <tr>\n",
       "      <th>25</th>\n",
       "      <td>440.72</td>\n",
       "      <td>442.55</td>\n",
       "      <td>442.58</td>\n",
       "      <td>442.76</td>\n",
       "      <td>442.76</td>\n",
       "      <td>442.94</td>\n",
       "      <td>443.43</td>\n",
       "      <td>443.41</td>\n",
       "      <td>443.94</td>\n",
       "      <td>444.26</td>\n",
       "      <td>...</td>\n",
       "      <td>449.08</td>\n",
       "      <td>448.21</td>\n",
       "      <td>448.27</td>\n",
       "      <td>447.84</td>\n",
       "      <td>448.28</td>\n",
       "      <td>449.03</td>\n",
       "      <td>448.26</td>\n",
       "      <td>448.59</td>\n",
       "      <td>448.41</td>\n",
       "      <td>447.69</td>\n",
       "    </tr>\n",
       "    <tr>\n",
       "      <th>26</th>\n",
       "      <td>442.55</td>\n",
       "      <td>442.58</td>\n",
       "      <td>442.76</td>\n",
       "      <td>442.76</td>\n",
       "      <td>442.94</td>\n",
       "      <td>443.43</td>\n",
       "      <td>443.41</td>\n",
       "      <td>443.94</td>\n",
       "      <td>444.26</td>\n",
       "      <td>442.63</td>\n",
       "      <td>...</td>\n",
       "      <td>448.21</td>\n",
       "      <td>448.27</td>\n",
       "      <td>447.84</td>\n",
       "      <td>448.28</td>\n",
       "      <td>449.03</td>\n",
       "      <td>448.26</td>\n",
       "      <td>448.59</td>\n",
       "      <td>448.41</td>\n",
       "      <td>447.69</td>\n",
       "      <td>446.61</td>\n",
       "    </tr>\n",
       "    <tr>\n",
       "      <th>27</th>\n",
       "      <td>442.58</td>\n",
       "      <td>442.76</td>\n",
       "      <td>442.76</td>\n",
       "      <td>442.94</td>\n",
       "      <td>443.43</td>\n",
       "      <td>443.41</td>\n",
       "      <td>443.94</td>\n",
       "      <td>444.26</td>\n",
       "      <td>442.63</td>\n",
       "      <td>442.17</td>\n",
       "      <td>...</td>\n",
       "      <td>448.27</td>\n",
       "      <td>447.84</td>\n",
       "      <td>448.28</td>\n",
       "      <td>449.03</td>\n",
       "      <td>448.26</td>\n",
       "      <td>448.59</td>\n",
       "      <td>448.41</td>\n",
       "      <td>447.69</td>\n",
       "      <td>446.61</td>\n",
       "      <td>447.60</td>\n",
       "    </tr>\n",
       "    <tr>\n",
       "      <th>28</th>\n",
       "      <td>442.76</td>\n",
       "      <td>442.76</td>\n",
       "      <td>442.94</td>\n",
       "      <td>443.43</td>\n",
       "      <td>443.41</td>\n",
       "      <td>443.94</td>\n",
       "      <td>444.26</td>\n",
       "      <td>442.63</td>\n",
       "      <td>442.17</td>\n",
       "      <td>444.68</td>\n",
       "      <td>...</td>\n",
       "      <td>447.84</td>\n",
       "      <td>448.28</td>\n",
       "      <td>449.03</td>\n",
       "      <td>448.26</td>\n",
       "      <td>448.59</td>\n",
       "      <td>448.41</td>\n",
       "      <td>447.69</td>\n",
       "      <td>446.61</td>\n",
       "      <td>447.60</td>\n",
       "      <td>447.54</td>\n",
       "    </tr>\n",
       "  </tbody>\n",
       "</table>\n",
       "<p>5 rows × 30 columns</p>\n",
       "</div>"
      ],
      "text/plain": [
       "    var1(t-24)  var1(t-23)  var1(t-22)  var1(t-21)  var1(t-20)  var1(t-19)  \\\n",
       "24      441.23      440.72      442.55      442.58      442.76      442.76   \n",
       "25      440.72      442.55      442.58      442.76      442.76      442.94   \n",
       "26      442.55      442.58      442.76      442.76      442.94      443.43   \n",
       "27      442.58      442.76      442.76      442.94      443.43      443.41   \n",
       "28      442.76      442.76      442.94      443.43      443.41      443.94   \n",
       "\n",
       "    var1(t-18)  var1(t-17)  var1(t-16)  var1(t-15)    ...      var1(t-4)  \\\n",
       "24      442.94      443.43      443.41      443.94    ...         447.19   \n",
       "25      443.43      443.41      443.94      444.26    ...         449.08   \n",
       "26      443.41      443.94      444.26      442.63    ...         448.21   \n",
       "27      443.94      444.26      442.63      442.17    ...         448.27   \n",
       "28      444.26      442.63      442.17      444.68    ...         447.84   \n",
       "\n",
       "    var1(t-3)  var1(t-2)  var1(t-1)  var1(t)  var1(t+1)  var1(t+2)  var1(t+3)  \\\n",
       "24     449.08     448.21     448.27   447.84     448.28     449.03     448.26   \n",
       "25     448.21     448.27     447.84   448.28     449.03     448.26     448.59   \n",
       "26     448.27     447.84     448.28   449.03     448.26     448.59     448.41   \n",
       "27     447.84     448.28     449.03   448.26     448.59     448.41     447.69   \n",
       "28     448.28     449.03     448.26   448.59     448.41     447.69     446.61   \n",
       "\n",
       "    var1(t+4)  var1(t+5)  \n",
       "24     448.59     448.41  \n",
       "25     448.41     447.69  \n",
       "26     447.69     446.61  \n",
       "27     446.61     447.60  \n",
       "28     447.60     447.54  \n",
       "\n",
       "[5 rows x 30 columns]"
      ]
     },
     "execution_count": 20,
     "metadata": {},
     "output_type": "execute_result"
    }
   ],
   "source": [
    "Y = series_to_supervised(data=list(sample['close']), n_in=INPUT_HOURS, n_out=PREDICT_HOURS)\n",
    "Y.head()"
   ]
  },
  {
   "cell_type": "markdown",
   "metadata": {},
   "source": [
    "# train dev split"
   ]
  },
  {
   "cell_type": "code",
   "execution_count": 21,
   "metadata": {},
   "outputs": [],
   "source": [
    "\"\"\"\n",
    "Train dev split. (80/20) rule is kind of over. Taking the dev set from the end of the data set because \n",
    "that data is closest in distribution to our current testing scenario (getting real time predictions). Note: I call\n",
    "the dev set the 'test' set in the variable names, but it's really a dev set.\n",
    "\"\"\"\n",
    "X_train, X_test, Y_train, Y_test = train_test_split(X, Y, test_size=0.05, shuffle=False)\n",
    "\"\"\"\n",
    "Now trim the feature values from the outcome matrix and the outcome values from the feature matrix\n",
    "\"\"\"\n",
    "Y_test_cache = Y_test\n",
    "Y_train = Y_train.iloc[:,-PREDICT_HOURS:]\n",
    "Y_test = Y_test.iloc[:,-PREDICT_HOURS:]\n",
    "X_train = X_train.iloc[:,:-(PREDICT_HOURS*N_FEATURES)]\n",
    "X_test = X_test.iloc[:,:-(PREDICT_HOURS*N_FEATURES)]\n"
   ]
  },
  {
   "cell_type": "code",
   "execution_count": 31,
   "metadata": {},
   "outputs": [
    {
     "data": {
      "text/plain": [
       "(count                    1800\n",
       " unique                   1800\n",
       " top       2018-05-15 17:00:00\n",
       " freq                        1\n",
       " first     2018-04-08 12:00:00\n",
       " last      2018-06-22 11:00:00\n",
       " Name: var6(t-1), dtype: object, count                   34194\n",
       " unique                  34177\n",
       " top       2018-01-07 01:00:00\n",
       " freq                        2\n",
       " first     2014-05-15 11:00:00\n",
       " last      2018-04-08 11:00:00\n",
       " Name: var6(t-1), dtype: object)"
      ]
     },
     "execution_count": 31,
     "metadata": {},
     "output_type": "execute_result"
    }
   ],
   "source": [
    "\"\"\"\n",
    "Check that dates make sense\n",
    "\"\"\"\n",
    "pd.to_datetime(X_test[\"var6(t-1)\"], unit='s').describe(), pd.to_datetime(X_train[\"var6(t-1)\"], unit='s').describe()"
   ]
  },
  {
   "cell_type": "code",
   "execution_count": 32,
   "metadata": {},
   "outputs": [],
   "source": [
    "X_train = X_train.as_matrix()\n",
    "X_test = X_test.as_matrix()"
   ]
  },
  {
   "cell_type": "markdown",
   "metadata": {},
   "source": [
    "# RNN preprocessing"
   ]
  },
  {
   "cell_type": "code",
   "execution_count": 33,
   "metadata": {},
   "outputs": [],
   "source": [
    "\"\"\"\n",
    "Scale the data for the RNN. Very important otherwise convergence would take a milenia.\n",
    "\"\"\"\n",
    "scaler = MinMaxScaler(feature_range=(0, 1))\n",
    "X_train_scaled = scaler.fit_transform(X_train)\n",
    "X_test_scaled = scaler.transform(X_test)"
   ]
  },
  {
   "cell_type": "code",
   "execution_count": 34,
   "metadata": {},
   "outputs": [
    {
     "data": {
      "text/plain": [
       "array([[9.21847458e-06, 1.41361865e-02, 1.34308721e-02, 1.40755337e-02,\n",
       "        1.44629940e-02, 0.00000000e+00],\n",
       "       [1.13289067e-05, 1.40755337e-02, 1.33704436e-02, 1.40495396e-02,\n",
       "        1.43928573e-02, 0.00000000e+00],\n",
       "       [6.69784577e-06, 1.40495396e-02, 1.34709885e-02, 1.41428124e-02,\n",
       "        1.44333011e-02, 0.00000000e+00],\n",
       "       [1.48720547e-05, 1.41428124e-02, 1.34588012e-02, 1.41443415e-02,\n",
       "        1.45198200e-02, 0.00000000e+00],\n",
       "       [1.41301338e-05, 1.41443415e-02, 1.34521998e-02, 1.41535159e-02,\n",
       "        1.45065094e-02, 0.00000000e+00],\n",
       "       [1.41301338e-05, 1.41443415e-02, 1.34521998e-02, 1.41535159e-02,\n",
       "        1.45065094e-02, 0.00000000e+00],\n",
       "       [6.97725510e-06, 1.41535159e-02, 1.34846991e-02, 1.41626903e-02,\n",
       "        1.45433695e-02, 0.00000000e+00],\n",
       "       [7.31016834e-06, 1.41626903e-02, 1.34821601e-02, 1.41876649e-02,\n",
       "        1.45561682e-02, 0.00000000e+00],\n",
       "       [7.64902645e-06, 1.41876649e-02, 1.34877460e-02, 1.41866456e-02,\n",
       "        1.45730624e-02, 0.00000000e+00],\n",
       "       [1.47127320e-05, 1.41866456e-02, 1.35090737e-02, 1.42136590e-02,\n",
       "        1.45884208e-02, 0.00000000e+00],\n",
       "       [8.28156161e-06, 1.42136590e-02, 1.35253234e-02, 1.42299690e-02,\n",
       "        1.46017314e-02, 0.00000000e+00],\n",
       "       [1.06024425e-05, 1.42299690e-02, 1.35243078e-02, 1.41468899e-02,\n",
       "        1.45321067e-02, 0.00000000e+00],\n",
       "       [1.15108200e-05, 1.41468899e-02, 1.34415359e-02, 1.41234443e-02,\n",
       "        1.44896152e-02, 0.00000000e+00],\n",
       "       [1.16142609e-05, 1.41234443e-02, 1.35730568e-02, 1.42513759e-02,\n",
       "        1.45203319e-02, 0.00000000e+00],\n",
       "       [1.75222819e-05, 1.42513759e-02, 1.35634086e-02, 1.42467887e-02,\n",
       "        1.45019019e-02, 0.00000000e+00],\n",
       "       [1.08949305e-05, 1.42467887e-02, 1.37345380e-02, 1.43512747e-02,\n",
       "        1.46437110e-02, 0.00000000e+00],\n",
       "       [7.04859365e-06, 1.43512747e-02, 1.36537974e-02, 1.43033640e-02,\n",
       "        1.46969534e-02, 0.00000000e+00],\n",
       "       [7.89514445e-06, 1.43033640e-02, 1.36553208e-02, 1.43313969e-02,\n",
       "        1.47025848e-02, 0.00000000e+00],\n",
       "       [6.68357806e-06, 1.43313969e-02, 1.36314541e-02, 1.42743118e-02,\n",
       "        1.46478066e-02, 0.00000000e+00],\n",
       "       [6.78582999e-06, 1.42743118e-02, 1.36238371e-02, 1.43298678e-02,\n",
       "        1.46457588e-02, 0.00000000e+00],\n",
       "       [6.55279072e-06, 1.43298678e-02, 1.37121947e-02, 1.43793075e-02,\n",
       "        1.47327896e-02, 0.00000000e+00],\n",
       "       [8.10083728e-06, 1.43793075e-02, 1.38168021e-02, 1.44756385e-02,\n",
       "        1.47660662e-02, 0.00000000e+00],\n",
       "       [9.94612780e-06, 1.44756385e-02, 1.38066460e-02, 1.44312956e-02,\n",
       "        1.48254519e-02, 0.00000000e+00],\n",
       "       [7.27806599e-06, 1.44312956e-02, 1.37756701e-02, 1.44343538e-02,\n",
       "        1.48070219e-02, 0.00000000e+00]])"
      ]
     },
     "execution_count": 34,
     "metadata": {},
     "output_type": "execute_result"
    }
   ],
   "source": [
    "\"\"\"\n",
    "Have to reshape the model into a 3D array to fit the RNN Model.\n",
    "\"\"\"\n",
    "def shape_model_data(data, n_features):\n",
    "    model_data = data.reshape((data.shape[0], INPUT_HOURS, n_features))\n",
    "    return model_data\n",
    "X_train_3D = shape_model_data(X_train_scaled, N_FEATURES)\n",
    "X_test_3D = shape_model_data(X_test_scaled, N_FEATURES)\n",
    "X_train_3D[0,:,:]"
   ]
  },
  {
   "cell_type": "code",
   "execution_count": 35,
   "metadata": {},
   "outputs": [],
   "source": [
    "\"\"\"\n",
    "Define the LSTM RNN model. I went simple here because I don't have the time to create a great model. This model\n",
    "(spoiler alert!) ends up performing pretty badly. I think it would do better with a few more Dense layers, more \n",
    "training iterations, transfer learning from other coins, and with a bit of paramater tuning (random search style).\n",
    "I also think that the RNN would help a lot more for drawing inferences from unstructured text data (like twitter, \n",
    "4chan, etc.). Ultimately, at the hourly level I think that an RNN would win the game. But that is not demonstrated \n",
    "here. Also initialization should be played with more here.\n",
    "\"\"\"\n",
    "\n",
    "def lstm_model(input_shape, num_outputs):\n",
    "    model = Sequential()\n",
    "    \n",
    "    model.add(LSTM(64, input_shape=input_shape, activation='linear', return_sequences=True))\n",
    "    \n",
    "    model.add(Dropout(rate=0.1))\n",
    "    \n",
    "    model.add(LSTM(64, activation='linear'))\n",
    "    \n",
    "    model.add(Dense(num_outputs, activation='linear'))\n",
    "    \n",
    "    return model\n"
   ]
  },
  {
   "cell_type": "code",
   "execution_count": 36,
   "metadata": {},
   "outputs": [
    {
     "name": "stdout",
     "output_type": "stream",
     "text": [
      "_________________________________________________________________\n",
      "Layer (type)                 Output Shape              Param #   \n",
      "=================================================================\n",
      "lstm_3 (LSTM)                (None, 24, 64)            18176     \n",
      "_________________________________________________________________\n",
      "dropout_2 (Dropout)          (None, 24, 64)            0         \n",
      "_________________________________________________________________\n",
      "lstm_4 (LSTM)                (None, 64)                33024     \n",
      "_________________________________________________________________\n",
      "dense_2 (Dense)              (None, 6)                 390       \n",
      "=================================================================\n",
      "Total params: 51,590\n",
      "Trainable params: 51,590\n",
      "Non-trainable params: 0\n",
      "_________________________________________________________________\n"
     ]
    }
   ],
   "source": [
    "rnn_model = lstm_model(X_train_3D.shape[1:], PREDICT_HOURS)\n",
    "rnn_model.summary()"
   ]
  },
  {
   "cell_type": "code",
   "execution_count": 37,
   "metadata": {},
   "outputs": [],
   "source": [
    "N_EPOCHS = 20\n",
    "BATCH_SIZE = 128"
   ]
  },
  {
   "cell_type": "code",
   "execution_count": 38,
   "metadata": {},
   "outputs": [
    {
     "name": "stdout",
     "output_type": "stream",
     "text": [
      "Train on 34194 samples, validate on 1800 samples\n",
      "Epoch 1/20\n",
      "34194/34194 [==============================] - 35s 1ms/step - loss: 1169.1782 - val_loss: 703.3348\n",
      "Epoch 2/20\n",
      "34194/34194 [==============================] - 35s 1ms/step - loss: 379.2997 - val_loss: 1240.4613\n",
      "Epoch 3/20\n",
      "34194/34194 [==============================] - 80s 2ms/step - loss: 464.4140 - val_loss: 1226.1265\n",
      "Epoch 4/20\n",
      "34194/34194 [==============================] - 54s 2ms/step - loss: 337.8345 - val_loss: 748.7857\n",
      "Epoch 5/20\n",
      "34194/34194 [==============================] - 44s 1ms/step - loss: 333.1474 - val_loss: 765.5118\n",
      "Epoch 6/20\n",
      "34194/34194 [==============================] - 40s 1ms/step - loss: 317.1942 - val_loss: 749.8591\n",
      "Epoch 7/20\n",
      "34194/34194 [==============================] - 41s 1ms/step - loss: 304.8282 - val_loss: 761.0215\n",
      "Epoch 8/20\n",
      "34194/34194 [==============================] - 45s 1ms/step - loss: 300.3420 - val_loss: 1027.0812\n",
      "Epoch 9/20\n",
      "34194/34194 [==============================] - 43s 1ms/step - loss: 296.8569 - val_loss: 982.6009\n",
      "Epoch 10/20\n",
      "34194/34194 [==============================] - 49s 1ms/step - loss: 289.5992 - val_loss: 1137.7951\n",
      "Epoch 11/20\n",
      "34194/34194 [==============================] - 32s 941us/step - loss: 284.4957 - val_loss: 1169.2600\n",
      "Epoch 12/20\n",
      "34194/34194 [==============================] - 34s 989us/step - loss: 280.1056 - val_loss: 1147.1440\n",
      "Epoch 13/20\n",
      "34194/34194 [==============================] - 34s 989us/step - loss: 291.9414 - val_loss: 835.3709\n",
      "Epoch 14/20\n",
      "34194/34194 [==============================] - 32s 932us/step - loss: 316.9809 - val_loss: 613.6246\n",
      "Epoch 15/20\n",
      "34194/34194 [==============================] - 36s 1ms/step - loss: 315.9263 - val_loss: 853.5593\n",
      "Epoch 16/20\n",
      "34194/34194 [==============================] - 33s 964us/step - loss: 305.8051 - val_loss: 833.7910\n",
      "Epoch 17/20\n",
      "34194/34194 [==============================] - 34s 983us/step - loss: 301.3643 - val_loss: 804.9675\n",
      "Epoch 18/20\n",
      "34194/34194 [==============================] - 32s 946us/step - loss: 277.2042 - val_loss: 779.6884\n",
      "Epoch 19/20\n",
      "34194/34194 [==============================] - 33s 951us/step - loss: 265.8118 - val_loss: 758.1240\n",
      "Epoch 20/20\n",
      "34194/34194 [==============================] - 47s 1ms/step - loss: 290.0766 - val_loss: 681.0076\n"
     ]
    }
   ],
   "source": [
    "\"\"\"\n",
    "Compile and fit model.\n",
    "\"\"\"\n",
    "rnn_model.compile(loss='mae', optimizer=Adam(lr=0.0001))\n",
    "\n",
    "fit = rnn_model.fit(X_train_3D, Y_train, \n",
    "                    epochs=N_EPOCHS, \n",
    "                    batch_size=BATCH_SIZE, \n",
    "                    validation_data=(X_test_3D, Y_test))\n"
   ]
  },
  {
   "cell_type": "code",
   "execution_count": 39,
   "metadata": {},
   "outputs": [
    {
     "data": {
      "text/plain": [
       "<matplotlib.legend.Legend at 0x121b4e128>"
      ]
     },
     "execution_count": 39,
     "metadata": {},
     "output_type": "execute_result"
    },
    {
     "data": {
      "image/png": "[encoded data removed]",
      "text/plain": [
       "<Figure size 432x288 with 1 Axes>"
      ]
     },
     "metadata": {},
     "output_type": "display_data"
    }
   ],
   "source": [
    "\"\"\"\n",
    "Check out loss from train and dev sets\n",
    "\"\"\"\n",
    "plt.plot(fit.history['loss'], label='train')\n",
    "plt.plot(fit.history['val_loss'], label='test')\n",
    "plt.legend()"
   ]
  },
  {
   "cell_type": "markdown",
   "metadata": {},
   "source": [
    "## Look at some predictions"
   ]
  },
  {
   "cell_type": "code",
   "execution_count": 40,
   "metadata": {},
   "outputs": [
    {
     "data": {
      "image/png": "[encoded data removed]",
      "text/plain": [
       "<Figure size 432x288 with 1 Axes>"
      ]
     },
     "metadata": {},
     "output_type": "display_data"
    },
    {
     "data": {
      "image/png": "[encoded data removed]",
      "text/plain": [
       "<Figure size 432x288 with 1 Axes>"
      ]
     },
     "metadata": {},
     "output_type": "display_data"
    },
    {
     "data": {
      "image/png": "[encoded data removed]",
      "text/plain": [
       "<Figure size 432x288 with 1 Axes>"
      ]
     },
     "metadata": {},
     "output_type": "display_data"
    },
    {
     "data": {
      "image/png": "[encoded data removed]",
      "text/plain": [
       "<Figure size 432x288 with 1 Axes>"
      ]
     },
     "metadata": {},
     "output_type": "display_data"
    },
    {
     "data": {
      "image/png": "[encoded data removed]",
      "text/plain": [
       "<Figure size 432x288 with 1 Axes>"
      ]
     },
     "metadata": {},
     "output_type": "display_data"
    },
    {
     "data": {
      "image/png": "[encoded data removed]",
      "text/plain": [
       "<Figure size 432x288 with 1 Axes>"
      ]
     },
     "metadata": {},
     "output_type": "display_data"
    }
   ],
   "source": [
    "\n",
    "for ix in np.random.randint(0,Y_test_cache.shape[0],6):\n",
    "    plt.figure()\n",
    "    s = X_test_3D[ix,:,:]\n",
    "    predict = fit.model.predict(s.reshape(1, s.shape[0], s.shape[1])).reshape(6)\n",
    "    actual = Y_test_cache.iloc[ix]\n",
    "    plt.plot(range(24,30), predict, 'r^', range(30), actual, 'g-')"
   ]
  },
  {
   "cell_type": "code",
   "execution_count": 45,
   "metadata": {},
   "outputs": [],
   "source": [
    "# Save model\n",
    "fit.model.save(project_path + '/models/lstm_model_btc.pkl')"
   ]
  },
  {
   "cell_type": "markdown",
   "metadata": {},
   "source": [
    "# Let's try a simple linear regression model"
   ]
  },
  {
   "cell_type": "code",
   "execution_count": 46,
   "metadata": {},
   "outputs": [],
   "source": [
    "from sklearn.linear_model import LinearRegression\n",
    "\n",
    "lr_model = LinearRegression()\n",
    "lr_model = lr_model.fit(X_train, Y_train)\n",
    "\n"
   ]
  },
  {
   "cell_type": "code",
   "execution_count": 47,
   "metadata": {},
   "outputs": [
    {
     "data": {
      "text/plain": [
       "0.9883297760446644"
      ]
     },
     "execution_count": 47,
     "metadata": {},
     "output_type": "execute_result"
    }
   ],
   "source": [
    "lr_model.score(X_test, Y_test)"
   ]
  },
  {
   "cell_type": "code",
   "execution_count": 48,
   "metadata": {},
   "outputs": [
    {
     "data": {
      "image/png": "[encoded data removed]",
      "text/plain": [
       "<Figure size 432x288 with 1 Axes>"
      ]
     },
     "metadata": {},
     "output_type": "display_data"
    },
    {
     "data": {
      "image/png": "[encoded data removed]",
      "text/plain": [
       "<Figure size 432x288 with 1 Axes>"
      ]
     },
     "metadata": {},
     "output_type": "display_data"
    },
    {
     "data": {
      "image/png": "[encoded data removed]",
      "text/plain": [
       "<Figure size 432x288 with 1 Axes>"
      ]
     },
     "metadata": {},
     "output_type": "display_data"
    },
    {
     "data": {
      "image/png": "[encoded data removed]",
      "text/plain": [
       "<Figure size 432x288 with 1 Axes>"
      ]
     },
     "metadata": {},
     "output_type": "display_data"
    },
    {
     "data": {
      "image/png": "[encoded data removed]",
      "text/plain": [
       "<Figure size 432x288 with 1 Axes>"
      ]
     },
     "metadata": {},
     "output_type": "display_data"
    },
    {
     "data": {
      "image/png": "[encoded data removed]",
      "text/plain": [
       "<Figure size 432x288 with 1 Axes>"
      ]
     },
     "metadata": {},
     "output_type": "display_data"
    }
   ],
   "source": [
    "lr_predict = lr_model.predict(X_test)\n",
    "for ix in np.random.randint(0,Y_test_cache.shape[0],6):\n",
    "    plt.figure()\n",
    "    \n",
    "    actual = Y_test_cache.iloc[ix]\n",
    "    plt.plot(range(24,30), lr_predict[ix], 'r^', range(30), actual, 'g-')"
   ]
  },
  {
   "cell_type": "code",
   "execution_count": 49,
   "metadata": {},
   "outputs": [],
   "source": [
    "# Save model\n",
    "with open(project_path + '/models/linear_model_btc.pkl', 'wb') as output_file:\n",
    "    s = pickle.dump(lr_model, output_file)\n"
   ]
  },
  {
   "cell_type": "markdown",
   "metadata": {},
   "source": [
    "## Much better! Makes a lot more sense."
   ]
  },
  {
   "cell_type": "code",
   "execution_count": null,
   "metadata": {},
   "outputs": [],
   "source": []
  }
 ],
 "metadata": {
  "kernelspec": {
   "display_name": "Python (go-mint-datasci-challenge)",
   "language": "python",
   "name": "go-mint-datasci-challenge"
  },
  "language_info": {
   "codemirror_mode": {
    "name": "ipython",
    "version": 3
   },
   "file_extension": ".py",
   "mimetype": "text/x-python",
   "name": "python",
   "nbconvert_exporter": "python",
   "pygments_lexer": "ipython3",
   "version": "3.5.5"
  }
 },
 "nbformat": 4,
 "nbformat_minor": 2
}
