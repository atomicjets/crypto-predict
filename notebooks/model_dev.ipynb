{
 "cells": [
  {
   "cell_type": "markdown",
   "metadata": {},
   "source": [
    "# Model Development"
   ]
  },
  {
   "cell_type": "code",
   "execution_count": 26,
   "metadata": {},
   "outputs": [
    {
     "name": "stdout",
     "output_type": "stream",
     "text": [
      "The autoreload extension is already loaded. To reload it, use:\n",
      "  %reload_ext autoreload\n"
     ]
    }
   ],
   "source": [
    "%load_ext autoreload\n",
    "%autoreload 2\n",
    "p = print\n",
    "\n",
    "import os\n",
    "\n",
    "import pandas as pd\n",
    "\n",
    "from sklearn.linear_model import LinearRegression, Lasso, MultiTaskLassoCV, Ridge, RidgeCV, MultiTaskElasticNet, MultiTaskElasticNetCV, ElasticNet, ElasticNetCV\n",
    "from sklearn.metrics import mean_absolute_error, mean_squared_error\n",
    "\n",
    "from crypr.util import get_project_path\n",
    "\n",
    "import pickle"
   ]
  },
  {
   "cell_type": "code",
   "execution_count": 19,
   "metadata": {},
   "outputs": [
    {
     "name": "stdout",
     "output_type": "stream",
     "text": [
      "(5563, 1224)\n"
     ]
    },
    {
     "data": {
      "text/html": [
       "<div>\n",
       "<style scoped>\n",
       "    .dataframe tbody tr th:only-of-type {\n",
       "        vertical-align: middle;\n",
       "    }\n",
       "\n",
       "    .dataframe tbody tr th {\n",
       "        vertical-align: top;\n",
       "    }\n",
       "\n",
       "    .dataframe thead th {\n",
       "        text-align: right;\n",
       "    }\n",
       "</style>\n",
       "<table border=\"1\" class=\"dataframe\">\n",
       "  <thead>\n",
       "    <tr style=\"text-align: right;\">\n",
       "      <th></th>\n",
       "      <th>var1(t-72)</th>\n",
       "      <th>var2(t-72)</th>\n",
       "      <th>var3(t-72)</th>\n",
       "      <th>var4(t-72)</th>\n",
       "      <th>var5(t-72)</th>\n",
       "      <th>var6(t-72)</th>\n",
       "      <th>var7(t-72)</th>\n",
       "      <th>var8(t-72)</th>\n",
       "      <th>var9(t-72)</th>\n",
       "      <th>var10(t-72)</th>\n",
       "      <th>...</th>\n",
       "      <th>var8(t-1)</th>\n",
       "      <th>var9(t-1)</th>\n",
       "      <th>var10(t-1)</th>\n",
       "      <th>var11(t-1)</th>\n",
       "      <th>var12(t-1)</th>\n",
       "      <th>var13(t-1)</th>\n",
       "      <th>var14(t-1)</th>\n",
       "      <th>var15(t-1)</th>\n",
       "      <th>var16(t-1)</th>\n",
       "      <th>var17(t-1)</th>\n",
       "    </tr>\n",
       "  </thead>\n",
       "  <tbody>\n",
       "    <tr>\n",
       "      <th>0</th>\n",
       "      <td>13007702.37</td>\n",
       "      <td>1938.10</td>\n",
       "      <td>6677.90</td>\n",
       "      <td>6698.74</td>\n",
       "      <td>6674.83</td>\n",
       "      <td>6663.81</td>\n",
       "      <td>-0.045374</td>\n",
       "      <td>2.443024e+07</td>\n",
       "      <td>3635.216667</td>\n",
       "      <td>1.989071e+07</td>\n",
       "      <td>...</td>\n",
       "      <td>1.127572e+07</td>\n",
       "      <td>1713.281667</td>\n",
       "      <td>8.984999e+06</td>\n",
       "      <td>1362.789167</td>\n",
       "      <td>9.462649e+06</td>\n",
       "      <td>1433.027500</td>\n",
       "      <td>1.176674e+07</td>\n",
       "      <td>1789.942083</td>\n",
       "      <td>1.347986e+07</td>\n",
       "      <td>2042.300278</td>\n",
       "    </tr>\n",
       "    <tr>\n",
       "      <th>1</th>\n",
       "      <td>9378691.92</td>\n",
       "      <td>1399.77</td>\n",
       "      <td>6674.92</td>\n",
       "      <td>6688.86</td>\n",
       "      <td>6687.70</td>\n",
       "      <td>6671.52</td>\n",
       "      <td>0.192814</td>\n",
       "      <td>1.353682e+07</td>\n",
       "      <td>2016.126667</td>\n",
       "      <td>1.990098e+07</td>\n",
       "      <td>...</td>\n",
       "      <td>9.744978e+06</td>\n",
       "      <td>1481.570000</td>\n",
       "      <td>8.991674e+06</td>\n",
       "      <td>1364.466667</td>\n",
       "      <td>8.517821e+06</td>\n",
       "      <td>1289.817500</td>\n",
       "      <td>1.108382e+07</td>\n",
       "      <td>1684.964167</td>\n",
       "      <td>1.339104e+07</td>\n",
       "      <td>2029.368611</td>\n",
       "    </tr>\n",
       "    <tr>\n",
       "      <th>2</th>\n",
       "      <td>8424503.46</td>\n",
       "      <td>1254.90</td>\n",
       "      <td>6687.78</td>\n",
       "      <td>6696.86</td>\n",
       "      <td>6693.25</td>\n",
       "      <td>6686.64</td>\n",
       "      <td>0.082988</td>\n",
       "      <td>1.125509e+07</td>\n",
       "      <td>1677.520000</td>\n",
       "      <td>1.792497e+07</td>\n",
       "      <td>...</td>\n",
       "      <td>8.338396e+06</td>\n",
       "      <td>1266.540000</td>\n",
       "      <td>8.918546e+06</td>\n",
       "      <td>1353.785000</td>\n",
       "      <td>8.440196e+06</td>\n",
       "      <td>1278.243333</td>\n",
       "      <td>1.084223e+07</td>\n",
       "      <td>1647.623333</td>\n",
       "      <td>1.334990e+07</td>\n",
       "      <td>2023.472639</td>\n",
       "    </tr>\n",
       "    <tr>\n",
       "      <th>3</th>\n",
       "      <td>11276851.07</td>\n",
       "      <td>1681.92</td>\n",
       "      <td>6693.36</td>\n",
       "      <td>6697.32</td>\n",
       "      <td>6694.09</td>\n",
       "      <td>6673.00</td>\n",
       "      <td>0.012550</td>\n",
       "      <td>1.123341e+07</td>\n",
       "      <td>1674.920000</td>\n",
       "      <td>1.763622e+07</td>\n",
       "      <td>...</td>\n",
       "      <td>8.216904e+06</td>\n",
       "      <td>1250.025000</td>\n",
       "      <td>9.514413e+06</td>\n",
       "      <td>1445.685833</td>\n",
       "      <td>8.599417e+06</td>\n",
       "      <td>1303.322917</td>\n",
       "      <td>1.088818e+07</td>\n",
       "      <td>1654.636875</td>\n",
       "      <td>1.341289e+07</td>\n",
       "      <td>2033.546944</td>\n",
       "    </tr>\n",
       "    <tr>\n",
       "      <th>4</th>\n",
       "      <td>27926930.49</td>\n",
       "      <td>4202.29</td>\n",
       "      <td>6694.09</td>\n",
       "      <td>6697.69</td>\n",
       "      <td>6598.38</td>\n",
       "      <td>6562.33</td>\n",
       "      <td>-1.429769</td>\n",
       "      <td>1.342175e+07</td>\n",
       "      <td>2007.793333</td>\n",
       "      <td>1.922109e+07</td>\n",
       "      <td>...</td>\n",
       "      <td>7.977636e+06</td>\n",
       "      <td>1214.376667</td>\n",
       "      <td>9.550916e+06</td>\n",
       "      <td>1451.797500</td>\n",
       "      <td>8.613844e+06</td>\n",
       "      <td>1305.853333</td>\n",
       "      <td>1.086104e+07</td>\n",
       "      <td>1650.345417</td>\n",
       "      <td>1.335362e+07</td>\n",
       "      <td>2025.028333</td>\n",
       "    </tr>\n",
       "  </tbody>\n",
       "</table>\n",
       "<p>5 rows × 1224 columns</p>\n",
       "</div>"
      ],
      "text/plain": [
       "    var1(t-72)  var2(t-72)  var3(t-72)  var4(t-72)  var5(t-72)  var6(t-72)  \\\n",
       "0  13007702.37     1938.10     6677.90     6698.74     6674.83     6663.81   \n",
       "1   9378691.92     1399.77     6674.92     6688.86     6687.70     6671.52   \n",
       "2   8424503.46     1254.90     6687.78     6696.86     6693.25     6686.64   \n",
       "3  11276851.07     1681.92     6693.36     6697.32     6694.09     6673.00   \n",
       "4  27926930.49     4202.29     6694.09     6697.69     6598.38     6562.33   \n",
       "\n",
       "   var7(t-72)    var8(t-72)   var9(t-72)   var10(t-72)  ...     var8(t-1)  \\\n",
       "0   -0.045374  2.443024e+07  3635.216667  1.989071e+07  ...  1.127572e+07   \n",
       "1    0.192814  1.353682e+07  2016.126667  1.990098e+07  ...  9.744978e+06   \n",
       "2    0.082988  1.125509e+07  1677.520000  1.792497e+07  ...  8.338396e+06   \n",
       "3    0.012550  1.123341e+07  1674.920000  1.763622e+07  ...  8.216904e+06   \n",
       "4   -1.429769  1.342175e+07  2007.793333  1.922109e+07  ...  7.977636e+06   \n",
       "\n",
       "     var9(t-1)    var10(t-1)   var11(t-1)    var12(t-1)   var13(t-1)  \\\n",
       "0  1713.281667  8.984999e+06  1362.789167  9.462649e+06  1433.027500   \n",
       "1  1481.570000  8.991674e+06  1364.466667  8.517821e+06  1289.817500   \n",
       "2  1266.540000  8.918546e+06  1353.785000  8.440196e+06  1278.243333   \n",
       "3  1250.025000  9.514413e+06  1445.685833  8.599417e+06  1303.322917   \n",
       "4  1214.376667  9.550916e+06  1451.797500  8.613844e+06  1305.853333   \n",
       "\n",
       "     var14(t-1)   var15(t-1)    var16(t-1)   var17(t-1)  \n",
       "0  1.176674e+07  1789.942083  1.347986e+07  2042.300278  \n",
       "1  1.108382e+07  1684.964167  1.339104e+07  2029.368611  \n",
       "2  1.084223e+07  1647.623333  1.334990e+07  2023.472639  \n",
       "3  1.088818e+07  1654.636875  1.341289e+07  2033.546944  \n",
       "4  1.086104e+07  1650.345417  1.335362e+07  2025.028333  \n",
       "\n",
       "[5 rows x 1224 columns]"
      ]
     },
     "execution_count": 19,
     "metadata": {},
     "output_type": "execute_result"
    }
   ],
   "source": [
    "\"\"\"\n",
    "Import Data.\n",
    "\"\"\"\n",
    "SYM = 'BTC'\n",
    "Ty = 1\n",
    "Tx = 72\n",
    "MAX_LAG = 72\n",
    "wavelet = 'haar_smooth'\n",
    "data_dir = os.path.join(get_project_path(), 'data', 'processed')\n",
    "models_dir = os.path.join(get_project_path(), 'models')\n",
    "\n",
    "X_train = pd.read_csv(os.path.join(data_dir, 'X_train_{}_tx{}_ty{}_flag{}.csv'.format(SYM, Tx, Ty, MAX_LAG)))\n",
    "Y_train = pd.read_csv(os.path.join(data_dir, 'y_train_{}_tx{}_ty{}_flag{}.csv'.format(SYM, Tx, Ty, MAX_LAG)))\n",
    "X_test = pd.read_csv(os.path.join(data_dir, 'X_test_{}_tx{}_ty{}_flag{}.csv'.format(SYM, Tx, Ty, MAX_LAG)))\n",
    "Y_test = pd.read_csv(os.path.join(data_dir, 'y_test_{}_tx{}_ty{}_flag{}.csv'.format(SYM, Tx, Ty, MAX_LAG)))\n",
    "\n",
    "N_FEATURES = int(X_train.shape[1]/Tx)\n",
    "\n",
    "p(X_train.shape)\n",
    "X_train.head()"
   ]
  },
  {
   "cell_type": "markdown",
   "metadata": {},
   "source": [
    "# Let's try a simple linear regression model"
   ]
  },
  {
   "cell_type": "code",
   "execution_count": 18,
   "metadata": {},
   "outputs": [
    {
     "name": "stdout",
     "output_type": "stream",
     "text": [
      "0.35858397810378945\n",
      "0.33283840653349356\n"
     ]
    }
   ],
   "source": [
    "lr_model = LinearRegression()\n",
    "lr_model = lr_model.fit(X_train, Y_train)\n",
    "lr_predict = lr_model.predict(X_test)\n",
    "\n",
    "p(mean_absolute_error(y_pred=lr_predict, y_true=Y_test))\n",
    "p(mean_squared_error(y_pred=lr_predict, y_true=Y_test))"
   ]
  },
  {
   "cell_type": "code",
   "execution_count": 21,
   "metadata": {},
   "outputs": [],
   "source": [
    "# Save model\n",
    "with open(os.path.join(models_dir, 'linear_model_{}.pkl'.format(SYM)), 'wb') as output_file:\n",
    "    s = pickle.dump(lr_model, output_file)"
   ]
  },
  {
   "cell_type": "markdown",
   "metadata": {},
   "source": [
    "# Other Linear Regression"
   ]
  },
  {
   "cell_type": "markdown",
   "metadata": {},
   "source": [
    "## Lasso"
   ]
  },
  {
   "cell_type": "code",
   "execution_count": 23,
   "metadata": {},
   "outputs": [
    {
     "name": "stdout",
     "output_type": "stream",
     "text": [
      "0.26849368264462337\n",
      "0.25568177806059206\n"
     ]
    },
    {
     "name": "stderr",
     "output_type": "stream",
     "text": [
      "/Users/daniel_stevenson/anaconda3/envs/crypto_predict/lib/python3.5/site-packages/sklearn/linear_model/coordinate_descent.py:492: ConvergenceWarning: Objective did not converge. You might want to increase the number of iterations. Fitting data with very small alpha may cause precision problems.\n",
      "  ConvergenceWarning)\n"
     ]
    }
   ],
   "source": [
    "lasso_params = {\n",
    "    'alpha': [0.01],\n",
    "}\n",
    "\n",
    "lasso_model = Lasso(alpha=0.01, max_iter=10000)\n",
    "lasso_model = lasso_model.fit(X=X_train, y=Y_train)\n",
    "\n",
    "lasso_predict = lasso_model.predict(X_test)\n",
    "\n",
    "p(mean_absolute_error(lasso_predict, Y_test))\n",
    "p(mean_squared_error(lasso_predict, Y_test))"
   ]
  },
  {
   "cell_type": "markdown",
   "metadata": {},
   "source": [
    "## Ridge\n"
   ]
  },
  {
   "cell_type": "code",
   "execution_count": 25,
   "metadata": {},
   "outputs": [
    {
     "name": "stdout",
     "output_type": "stream",
     "text": [
      "0.2920772362272177\n",
      "0.2816230918105076\n"
     ]
    }
   ],
   "source": [
    "ridge_model = Ridge(alpha=0.01)\n",
    "ridge_model = ridge_model.fit(X=X_train, y=Y_train)\n",
    "\n",
    "ridge_predict = ridge_model.predict(X_test)\n",
    "\n",
    "p(mean_absolute_error(ridge_predict, Y_test))\n",
    "p(mean_squared_error(ridge_predict, Y_test))"
   ]
  },
  {
   "cell_type": "markdown",
   "metadata": {},
   "source": [
    "## Elastic Net"
   ]
  },
  {
   "cell_type": "code",
   "execution_count": 27,
   "metadata": {},
   "outputs": [
    {
     "name": "stderr",
     "output_type": "stream",
     "text": [
      "/Users/daniel_stevenson/anaconda3/envs/crypto_predict/lib/python3.5/site-packages/sklearn/model_selection/_split.py:2053: FutureWarning: You should specify a value for 'cv' instead of relying on the default value. The default value will change from 3 to 5 in version 0.22.\n",
      "  warnings.warn(CV_WARNING, FutureWarning)\n",
      "/Users/daniel_stevenson/anaconda3/envs/crypto_predict/lib/python3.5/site-packages/sklearn/linear_model/coordinate_descent.py:492: ConvergenceWarning: Objective did not converge. You might want to increase the number of iterations. Fitting data with very small alpha may cause precision problems.\n",
      "  ConvergenceWarning)\n",
      "/Users/daniel_stevenson/anaconda3/envs/crypto_predict/lib/python3.5/site-packages/sklearn/linear_model/coordinate_descent.py:492: ConvergenceWarning: Objective did not converge. You might want to increase the number of iterations. Fitting data with very small alpha may cause precision problems.\n",
      "  ConvergenceWarning)\n",
      "/Users/daniel_stevenson/anaconda3/envs/crypto_predict/lib/python3.5/site-packages/sklearn/linear_model/coordinate_descent.py:492: ConvergenceWarning: Objective did not converge. You might want to increase the number of iterations. Fitting data with very small alpha may cause precision problems.\n",
      "  ConvergenceWarning)\n"
     ]
    },
    {
     "name": "stdout",
     "output_type": "stream",
     "text": [
      "0.26252514468639\n",
      "0.2532051706741615\n"
     ]
    },
    {
     "name": "stderr",
     "output_type": "stream",
     "text": [
      "/Users/daniel_stevenson/anaconda3/envs/crypto_predict/lib/python3.5/site-packages/sklearn/linear_model/coordinate_descent.py:1822: ConvergenceWarning: Objective did not converge, you might want to increase the number of iterations\n",
      "  ConvergenceWarning)\n"
     ]
    }
   ],
   "source": [
    "enet_params = {\n",
    "    'alpha': [1e-7],\n",
    "}\n",
    "\n",
    "enet_model = MultiTaskElasticNetCV(alphas=enet_params['alpha'])\n",
    "enet_model = enet_model.fit(X=X_train, y=Y_train)\n",
    "\n",
    "enet_predict = enet_model.predict(X_test)\n",
    "\n",
    "p(mean_absolute_error(enet_predict, Y_test))\n",
    "p(mean_squared_error(enet_predict, Y_test))"
   ]
  }
 ],
 "metadata": {
  "kernelspec": {
   "display_name": "Python (crypto_predict)",
   "language": "python",
   "name": "crypto_predict"
  },
  "language_info": {
   "codemirror_mode": {
    "name": "ipython",
    "version": 3
   },
   "file_extension": ".py",
   "mimetype": "text/x-python",
   "name": "python",
   "nbconvert_exporter": "python",
   "pygments_lexer": "ipython3",
   "version": "3.5.5"
  }
 },
 "nbformat": 4,
 "nbformat_minor": 2
}
