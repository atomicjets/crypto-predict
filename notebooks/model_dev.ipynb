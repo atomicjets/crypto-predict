{
 "cells": [
  {
   "cell_type": "markdown",
   "metadata": {},
   "source": [
    "# Model Development"
   ]
  },
  {
   "cell_type": "code",
   "execution_count": 7,
   "metadata": {},
   "outputs": [
    {
     "name": "stdout",
     "output_type": "stream",
     "text": [
      "The autoreload extension is already loaded. To reload it, use:\n",
      "  %reload_ext autoreload\n"
     ]
    }
   ],
   "source": [
    "%load_ext autoreload\n",
    "%autoreload 2\n",
    "\n",
    "import pandas as pd\n",
    "import numpy as np\n",
    "\n",
    "import matplotlib.pyplot as plt\n",
    "%matplotlib inline\n",
    "\n",
    "from crypr.data import get_data\n",
    "from crypr.util import common\n",
    "\n",
    "import pickle\n",
    "\n",
    "p=print"
   ]
  },
  {
   "cell_type": "code",
   "execution_count": 4,
   "metadata": {},
   "outputs": [],
   "source": [
    "\"\"\"\n",
    "Import Data.\n",
    "\"\"\"\n",
    "\n",
    "Ty=1\n",
    "Tx=72\n",
    "\n",
    "X_train=pd.read_csv('../data/processed/X_train_tx{}_ty{}.csv'.format(Tx, Ty))\n",
    "Y_train=pd.read_csv('../data/processed/Y_train_tx{}_ty{}.csv'.format(Tx, Ty))\n",
    "X_test=pd.read_csv('../data/processed/X_test_tx{}_ty{}.csv'.format(Tx, Ty))\n",
    "Y_test=pd.read_csv('../data/processed/Y_test_tx{}_ty{}.csv'.format(Tx, Ty))\n",
    "\n",
    "N_FEATURES=int(X_train.columns.values.size / Tx)"
   ]
  },
  {
   "cell_type": "markdown",
   "metadata": {},
   "source": [
    "# Let's try a simple linear regression model"
   ]
  },
  {
   "cell_type": "code",
   "execution_count": 8,
   "metadata": {},
   "outputs": [
    {
     "name": "stdout",
     "output_type": "stream",
     "text": [
      "0.5453046119694052\n",
      "0.7978159144122217\n"
     ]
    }
   ],
   "source": [
    "from sklearn.linear_model import LinearRegression\n",
    "from sklearn.metrics import mean_absolute_error, mean_squared_error\n",
    "\n",
    "lr_model = LinearRegression()\n",
    "lr_model = lr_model.fit(X_train, Y_train)\n",
    "\n",
    "lr_predict=lr_model.predict(X_test)\n",
    "\n",
    "p(mean_absolute_error(y_pred=lr_predict, y_true=Y_test))\n",
    "p(mean_squared_error(y_pred=lr_predict, y_true=Y_test))"
   ]
  },
  {
   "cell_type": "code",
   "execution_count": 24,
   "metadata": {},
   "outputs": [
    {
     "ename": "NameError",
     "evalue": "name 'project_path' is not defined",
     "output_type": "error",
     "traceback": [
      "\u001b[0;31m---------------------------------------------------------------------------\u001b[0m",
      "\u001b[0;31mNameError\u001b[0m                                 Traceback (most recent call last)",
      "\u001b[0;32m<ipython-input-24-e396c6827f93>\u001b[0m in \u001b[0;36m<module>\u001b[0;34m()\u001b[0m\n\u001b[1;32m      1\u001b[0m \u001b[0;31m# Save model\u001b[0m\u001b[0;34m\u001b[0m\u001b[0;34m\u001b[0m\u001b[0m\n\u001b[0;32m----> 2\u001b[0;31m \u001b[0;32mwith\u001b[0m \u001b[0mopen\u001b[0m\u001b[0;34m(\u001b[0m\u001b[0mproject_path\u001b[0m \u001b[0;34m+\u001b[0m \u001b[0;34m'/models/linear_model_btc.pkl'\u001b[0m\u001b[0;34m,\u001b[0m \u001b[0;34m'wb'\u001b[0m\u001b[0;34m)\u001b[0m \u001b[0;32mas\u001b[0m \u001b[0moutput_file\u001b[0m\u001b[0;34m:\u001b[0m\u001b[0;34m\u001b[0m\u001b[0m\n\u001b[0m\u001b[1;32m      3\u001b[0m     \u001b[0ms\u001b[0m \u001b[0;34m=\u001b[0m \u001b[0mpickle\u001b[0m\u001b[0;34m.\u001b[0m\u001b[0mdump\u001b[0m\u001b[0;34m(\u001b[0m\u001b[0mlr_model\u001b[0m\u001b[0;34m,\u001b[0m \u001b[0moutput_file\u001b[0m\u001b[0;34m)\u001b[0m\u001b[0;34m\u001b[0m\u001b[0m\n",
      "\u001b[0;31mNameError\u001b[0m: name 'project_path' is not defined"
     ]
    }
   ],
   "source": [
    "# Save model\n",
    "with open('../models/linear_model_btc.pkl', 'wb') as output_file:\n",
    "    s = pickle.dump(lr_model, output_file)"
   ]
  },
  {
   "cell_type": "markdown",
   "metadata": {},
   "source": [
    "# Other Linear Regression"
   ]
  },
  {
   "cell_type": "markdown",
   "metadata": {},
   "source": [
    "## Lasso"
   ]
  },
  {
   "cell_type": "code",
   "execution_count": 9,
   "metadata": {},
   "outputs": [
    {
     "name": "stdout",
     "output_type": "stream",
     "text": [
      "0.4775408882739589\n",
      "0.7202545661369674\n"
     ]
    },
    {
     "name": "stderr",
     "output_type": "stream",
     "text": [
      "/Users/daniel_stevenson/anaconda3/envs/go-mint-datasci-challenge/lib/python3.5/site-packages/sklearn/linear_model/coordinate_descent.py:491: ConvergenceWarning: Objective did not converge. You might want to increase the number of iterations. Fitting data with very small alpha may cause precision problems.\n",
      "  ConvergenceWarning)\n"
     ]
    }
   ],
   "source": [
    "from sklearn.linear_model import Lasso, MultiTaskLassoCV\n",
    "lasso_params = {\n",
    "    'alpha': [0.01]\n",
    "}\n",
    "lasso_model = Lasso(alpha=0.01, max_iter=10000)\n",
    "lasso_model = lasso_model.fit(X=X_train, y=Y_train)\n",
    "\n",
    "lasso_predict = lasso_model.predict(X_test)\n",
    "\n",
    "p(mean_absolute_error(lasso_predict, Y_test))\n",
    "p(mean_squared_error(lasso_predict, Y_test))"
   ]
  },
  {
   "cell_type": "markdown",
   "metadata": {},
   "source": [
    "## Ridge\n"
   ]
  },
  {
   "cell_type": "code",
   "execution_count": 10,
   "metadata": {},
   "outputs": [
    {
     "name": "stdout",
     "output_type": "stream",
     "text": [
      "0.545536124115502\n",
      "0.7976389096203012\n"
     ]
    }
   ],
   "source": [
    "from sklearn.linear_model import Ridge, RidgeCV\n",
    "\n",
    "ridge_model = Ridge(alpha=0.01)\n",
    "ridge_model = ridge_model.fit(X=X_train, y=Y_train)\n",
    "\n",
    "ridge_predict = ridge_model.predict(X_test)\n",
    "\n",
    "p(mean_absolute_error(ridge_predict, Y_test))\n",
    "p(mean_squared_error(ridge_predict, Y_test))"
   ]
  },
  {
   "cell_type": "markdown",
   "metadata": {},
   "source": [
    "## Elastic Net"
   ]
  },
  {
   "cell_type": "code",
   "execution_count": 11,
   "metadata": {},
   "outputs": [
    {
     "name": "stderr",
     "output_type": "stream",
     "text": [
      "/Users/daniel_stevenson/anaconda3/envs/go-mint-datasci-challenge/lib/python3.5/site-packages/sklearn/linear_model/coordinate_descent.py:491: ConvergenceWarning: Objective did not converge. You might want to increase the number of iterations. Fitting data with very small alpha may cause precision problems.\n",
      "  ConvergenceWarning)\n"
     ]
    },
    {
     "name": "stdout",
     "output_type": "stream",
     "text": [
      "0.46082150236886094\n",
      "0.7031113837850441\n"
     ]
    },
    {
     "name": "stderr",
     "output_type": "stream",
     "text": [
      "/Users/daniel_stevenson/anaconda3/envs/go-mint-datasci-challenge/lib/python3.5/site-packages/sklearn/linear_model/coordinate_descent.py:1778: ConvergenceWarning: Objective did not converge, you might want to increase the number of iterations\n",
      "  ConvergenceWarning)\n"
     ]
    }
   ],
   "source": [
    "from sklearn.linear_model import MultiTaskElasticNet, MultiTaskElasticNetCV, ElasticNet, ElasticNetCV\n",
    "enet_params = {\n",
    "    'alpha': [0.0000001]\n",
    "}\n",
    "enet_model = MultiTaskElasticNetCV(alphas=enet_params['alpha'])\n",
    "enet_model = enet_model.fit(X=X_train, y=Y_train)\n",
    "\n",
    "enet_predict = enet_model.predict(X_test)\n",
    "\n",
    "p(mean_absolute_error(enet_predict, Y_test))\n",
    "p(mean_squared_error(enet_predict, Y_test))"
   ]
  },
  {
   "cell_type": "markdown",
   "metadata": {},
   "source": [
    "## SGD (not implemented correctly)"
   ]
  },
  {
   "cell_type": "code",
   "execution_count": 13,
   "metadata": {},
   "outputs": [],
   "source": [
    "# from sklearn.linear_model import SGDRegressor\n",
    "\n",
    "# sgd_model = SGDRegressor(alpha=0.01, max_iter=10000)\n",
    "# sgd_model.fit(X=X_train, y=Y_train)\n",
    "\n",
    "# sgd_predict = sgd_model.predict(X=X_test)\n",
    "\n",
    "# p(mean_absolute_error(sgd_predict, Y_test))\n",
    "# p(mean_squared_error(sgd_predict, Y_test))"
   ]
  }
 ],
 "metadata": {
  "kernelspec": {
   "display_name": "Python (go-mint-datasci-challenge)",
   "language": "python",
   "name": "go-mint-datasci-challenge"
  },
  "language_info": {
   "codemirror_mode": {
    "name": "ipython",
    "version": 3
   },
   "file_extension": ".py",
   "mimetype": "text/x-python",
   "name": "python",
   "nbconvert_exporter": "python",
   "pygments_lexer": "ipython3",
   "version": "3.5.5"
  }
 },
 "nbformat": 4,
 "nbformat_minor": 2
}
