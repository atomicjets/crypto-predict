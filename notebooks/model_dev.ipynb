{
 "cells": [
  {
   "cell_type": "markdown",
   "metadata": {},
   "source": [
    "# Model Development"
   ]
  },
  {
   "cell_type": "code",
   "execution_count": 1,
   "metadata": {},
   "outputs": [
    {
     "name": "stderr",
     "output_type": "stream",
     "text": [
      "Using TensorFlow backend.\n"
     ]
    }
   ],
   "source": [
    "%load_ext autoreload\n",
    "%autoreload 2\n",
    "\n",
    "import pandas as pd\n",
    "import numpy as np\n",
    "import os, dotenv\n",
    "project_path = os.path.dirname(dotenv.find_dotenv())\n",
    "\n",
    "from keras.models import Sequential\n",
    "from keras.layers import LSTM, Dropout, Dense\n",
    "\n"
   ]
  },
  {
   "cell_type": "code",
   "execution_count": 134,
   "metadata": {},
   "outputs": [
    {
     "data": {
      "text/html": [
       "<div>\n",
       "<style scoped>\n",
       "    .dataframe tbody tr th:only-of-type {\n",
       "        vertical-align: middle;\n",
       "    }\n",
       "\n",
       "    .dataframe tbody tr th {\n",
       "        vertical-align: top;\n",
       "    }\n",
       "\n",
       "    .dataframe thead th {\n",
       "        text-align: right;\n",
       "    }\n",
       "</style>\n",
       "<table border=\"1\" class=\"dataframe\">\n",
       "  <thead>\n",
       "    <tr style=\"text-align: right;\">\n",
       "      <th></th>\n",
       "      <th>volumefrom</th>\n",
       "      <th>open</th>\n",
       "      <th>high</th>\n",
       "      <th>close</th>\n",
       "      <th>low</th>\n",
       "      <th>time</th>\n",
       "    </tr>\n",
       "  </thead>\n",
       "  <tbody>\n",
       "    <tr>\n",
       "      <th>0</th>\n",
       "      <td>5308.04</td>\n",
       "      <td>6916.03</td>\n",
       "      <td>7032.79</td>\n",
       "      <td>7025.50</td>\n",
       "      <td>6890.13</td>\n",
       "      <td>1522486800</td>\n",
       "    </tr>\n",
       "    <tr>\n",
       "      <th>1</th>\n",
       "      <td>16533.51</td>\n",
       "      <td>7023.16</td>\n",
       "      <td>7198.68</td>\n",
       "      <td>7110.38</td>\n",
       "      <td>6984.43</td>\n",
       "      <td>1522490400</td>\n",
       "    </tr>\n",
       "    <tr>\n",
       "      <th>2</th>\n",
       "      <td>6133.92</td>\n",
       "      <td>7110.38</td>\n",
       "      <td>7144.87</td>\n",
       "      <td>7104.39</td>\n",
       "      <td>7062.55</td>\n",
       "      <td>1522494000</td>\n",
       "    </tr>\n",
       "    <tr>\n",
       "      <th>3</th>\n",
       "      <td>16748.27</td>\n",
       "      <td>7104.42</td>\n",
       "      <td>7228.40</td>\n",
       "      <td>7198.18</td>\n",
       "      <td>7067.62</td>\n",
       "      <td>1522497600</td>\n",
       "    </tr>\n",
       "    <tr>\n",
       "      <th>4</th>\n",
       "      <td>4564.56</td>\n",
       "      <td>7198.29</td>\n",
       "      <td>7198.80</td>\n",
       "      <td>7053.37</td>\n",
       "      <td>7051.17</td>\n",
       "      <td>1522501200</td>\n",
       "    </tr>\n",
       "  </tbody>\n",
       "</table>\n",
       "</div>"
      ],
      "text/plain": [
       "   volumefrom     open     high    close      low        time\n",
       "0     5308.04  6916.03  7032.79  7025.50  6890.13  1522486800\n",
       "1    16533.51  7023.16  7198.68  7110.38  6984.43  1522490400\n",
       "2     6133.92  7110.38  7144.87  7104.39  7062.55  1522494000\n",
       "3    16748.27  7104.42  7228.40  7198.18  7067.62  1522497600\n",
       "4     4564.56  7198.29  7198.80  7053.37  7051.17  1522501200"
      ]
     },
     "execution_count": 134,
     "metadata": {},
     "output_type": "execute_result"
    }
   ],
   "source": [
    "df = df = pd.read_csv(project_path + '/data/raw/data.csv', index_col=0)\n",
    "df.drop(['index', 'volumeto'], axis=1, inplace=True)\n",
    "df.head()"
   ]
  },
  {
   "cell_type": "code",
   "execution_count": 135,
   "metadata": {},
   "outputs": [],
   "source": [
    "sample = df.iloc[20000:,:]\n"
   ]
  },
  {
   "cell_type": "code",
   "execution_count": 136,
   "metadata": {},
   "outputs": [],
   "source": [
    "N_FEATURES = len(df.columns)\n",
    "N_EPOCHS = 5\n",
    "BATCH_SIZE = 128\n",
    "INPUT_HOURS = 24\n",
    "PREDICT_HOURS = 6\n"
   ]
  },
  {
   "cell_type": "code",
   "execution_count": 137,
   "metadata": {},
   "outputs": [],
   "source": [
    "## Ripped from https://machinelearningmastery.com/convert-time-series-supervised-learning-problem-python/\n",
    "def series_to_supervised(data, n_in=1, n_out=1, dropnan=True):\n",
    "\t\"\"\"\n",
    "\tFrame a time series as a supervised learning dataset.\n",
    "\tArguments:\n",
    "\t\tdata: Sequence of observations as a list or NumPy array.\n",
    "\t\tn_in: Number of lag observations as input (X).\n",
    "\t\tn_out: Number of observations as output (y).\n",
    "\t\tdropnan: Boolean whether or not to drop rows with NaN values.\n",
    "\tReturns:\n",
    "\t\tPandas DataFrame of series framed for supervised learning.\n",
    "\t\"\"\"\n",
    "\tn_vars = 1 if type(data) is list else data.shape[1]\n",
    "\tdf = pd.DataFrame(data)\n",
    "\tcols, names = list(), list()\n",
    "\t# input sequence (t-n, ... t-1)\n",
    "\tfor i in range(n_in, 0, -1):\n",
    "\t\tcols.append(df.shift(i))\n",
    "\t\tnames += [('var%d(t-%d)' % (j+1, i)) for j in range(n_vars)]\n",
    "\t# forecast sequence (t, t+1, ... t+n)\n",
    "\tfor i in range(0, n_out):\n",
    "\t\tcols.append(df.shift(-i))\n",
    "\t\tif i == 0:\n",
    "\t\t\tnames += [('var%d(t)' % (j+1)) for j in range(n_vars)]\n",
    "\t\telse:\n",
    "\t\t\tnames += [('var%d(t+%d)' % (j+1, i)) for j in range(n_vars)]\n",
    "\t# put it all together\n",
    "\tagg = pd.concat(cols, axis=1)\n",
    "\tagg.columns = names\n",
    "\t# drop rows with NaN values\n",
    "\tif dropnan:\n",
    "\t\tagg.dropna(inplace=True)\n",
    "\treturn agg\n",
    " "
   ]
  },
  {
   "cell_type": "code",
   "execution_count": 138,
   "metadata": {},
   "outputs": [
    {
     "data": {
      "text/html": [
       "<div>\n",
       "<style scoped>\n",
       "    .dataframe tbody tr th:only-of-type {\n",
       "        vertical-align: middle;\n",
       "    }\n",
       "\n",
       "    .dataframe tbody tr th {\n",
       "        vertical-align: top;\n",
       "    }\n",
       "\n",
       "    .dataframe thead th {\n",
       "        text-align: right;\n",
       "    }\n",
       "</style>\n",
       "<table border=\"1\" class=\"dataframe\">\n",
       "  <thead>\n",
       "    <tr style=\"text-align: right;\">\n",
       "      <th></th>\n",
       "      <th>var1(t-24)</th>\n",
       "      <th>var2(t-24)</th>\n",
       "      <th>var3(t-24)</th>\n",
       "      <th>var4(t-24)</th>\n",
       "      <th>var5(t-24)</th>\n",
       "      <th>var6(t-24)</th>\n",
       "      <th>var1(t-23)</th>\n",
       "      <th>var2(t-23)</th>\n",
       "      <th>var3(t-23)</th>\n",
       "      <th>var4(t-23)</th>\n",
       "      <th>...</th>\n",
       "      <th>var3(t-2)</th>\n",
       "      <th>var4(t-2)</th>\n",
       "      <th>var5(t-2)</th>\n",
       "      <th>var6(t-2)</th>\n",
       "      <th>var1(t-1)</th>\n",
       "      <th>var2(t-1)</th>\n",
       "      <th>var3(t-1)</th>\n",
       "      <th>var4(t-1)</th>\n",
       "      <th>var5(t-1)</th>\n",
       "      <th>var6(t-1)</th>\n",
       "    </tr>\n",
       "  </thead>\n",
       "  <tbody>\n",
       "    <tr>\n",
       "      <th>20024</th>\n",
       "      <td>2148.82</td>\n",
       "      <td>535.96</td>\n",
       "      <td>537.40</td>\n",
       "      <td>535.17</td>\n",
       "      <td>533.45</td>\n",
       "      <td>1.464854e+09</td>\n",
       "      <td>1177.86</td>\n",
       "      <td>535.17</td>\n",
       "      <td>537.94</td>\n",
       "      <td>536.75</td>\n",
       "      <td>...</td>\n",
       "      <td>465.43</td>\n",
       "      <td>463.91</td>\n",
       "      <td>462.68</td>\n",
       "      <td>1.450530e+09</td>\n",
       "      <td>2116.51</td>\n",
       "      <td>463.91</td>\n",
       "      <td>464.37</td>\n",
       "      <td>463.45</td>\n",
       "      <td>462.31</td>\n",
       "      <td>1.450534e+09</td>\n",
       "    </tr>\n",
       "    <tr>\n",
       "      <th>20025</th>\n",
       "      <td>1177.86</td>\n",
       "      <td>535.17</td>\n",
       "      <td>537.94</td>\n",
       "      <td>536.75</td>\n",
       "      <td>534.59</td>\n",
       "      <td>1.464858e+09</td>\n",
       "      <td>1328.83</td>\n",
       "      <td>536.75</td>\n",
       "      <td>538.57</td>\n",
       "      <td>536.78</td>\n",
       "      <td>...</td>\n",
       "      <td>464.37</td>\n",
       "      <td>463.45</td>\n",
       "      <td>462.31</td>\n",
       "      <td>1.450534e+09</td>\n",
       "      <td>1761.14</td>\n",
       "      <td>463.45</td>\n",
       "      <td>461.72</td>\n",
       "      <td>460.81</td>\n",
       "      <td>459.99</td>\n",
       "      <td>1.450537e+09</td>\n",
       "    </tr>\n",
       "    <tr>\n",
       "      <th>20026</th>\n",
       "      <td>1328.83</td>\n",
       "      <td>536.75</td>\n",
       "      <td>538.57</td>\n",
       "      <td>536.78</td>\n",
       "      <td>536.02</td>\n",
       "      <td>1.464862e+09</td>\n",
       "      <td>2055.16</td>\n",
       "      <td>536.78</td>\n",
       "      <td>537.51</td>\n",
       "      <td>536.31</td>\n",
       "      <td>...</td>\n",
       "      <td>461.72</td>\n",
       "      <td>460.81</td>\n",
       "      <td>459.99</td>\n",
       "      <td>1.450537e+09</td>\n",
       "      <td>11304.89</td>\n",
       "      <td>460.81</td>\n",
       "      <td>463.67</td>\n",
       "      <td>456.91</td>\n",
       "      <td>452.34</td>\n",
       "      <td>1.450541e+09</td>\n",
       "    </tr>\n",
       "    <tr>\n",
       "      <th>20027</th>\n",
       "      <td>2055.16</td>\n",
       "      <td>536.78</td>\n",
       "      <td>537.51</td>\n",
       "      <td>536.31</td>\n",
       "      <td>534.61</td>\n",
       "      <td>1.464865e+09</td>\n",
       "      <td>1865.92</td>\n",
       "      <td>536.31</td>\n",
       "      <td>536.62</td>\n",
       "      <td>534.38</td>\n",
       "      <td>...</td>\n",
       "      <td>463.67</td>\n",
       "      <td>456.91</td>\n",
       "      <td>452.34</td>\n",
       "      <td>1.450541e+09</td>\n",
       "      <td>5505.58</td>\n",
       "      <td>456.91</td>\n",
       "      <td>460.58</td>\n",
       "      <td>459.77</td>\n",
       "      <td>456.48</td>\n",
       "      <td>1.450544e+09</td>\n",
       "    </tr>\n",
       "    <tr>\n",
       "      <th>20028</th>\n",
       "      <td>1865.92</td>\n",
       "      <td>536.31</td>\n",
       "      <td>536.62</td>\n",
       "      <td>534.38</td>\n",
       "      <td>533.90</td>\n",
       "      <td>1.464869e+09</td>\n",
       "      <td>4380.38</td>\n",
       "      <td>534.38</td>\n",
       "      <td>535.58</td>\n",
       "      <td>532.19</td>\n",
       "      <td>...</td>\n",
       "      <td>460.58</td>\n",
       "      <td>459.77</td>\n",
       "      <td>456.48</td>\n",
       "      <td>1.450544e+09</td>\n",
       "      <td>3336.73</td>\n",
       "      <td>459.77</td>\n",
       "      <td>461.21</td>\n",
       "      <td>458.89</td>\n",
       "      <td>458.02</td>\n",
       "      <td>1.450548e+09</td>\n",
       "    </tr>\n",
       "  </tbody>\n",
       "</table>\n",
       "<p>5 rows × 144 columns</p>\n",
       "</div>"
      ],
      "text/plain": [
       "       var1(t-24)  var2(t-24)  var3(t-24)  var4(t-24)  var5(t-24)  \\\n",
       "20024     2148.82      535.96      537.40      535.17      533.45   \n",
       "20025     1177.86      535.17      537.94      536.75      534.59   \n",
       "20026     1328.83      536.75      538.57      536.78      536.02   \n",
       "20027     2055.16      536.78      537.51      536.31      534.61   \n",
       "20028     1865.92      536.31      536.62      534.38      533.90   \n",
       "\n",
       "         var6(t-24)  var1(t-23)  var2(t-23)  var3(t-23)  var4(t-23)  \\\n",
       "20024  1.464854e+09     1177.86      535.17      537.94      536.75   \n",
       "20025  1.464858e+09     1328.83      536.75      538.57      536.78   \n",
       "20026  1.464862e+09     2055.16      536.78      537.51      536.31   \n",
       "20027  1.464865e+09     1865.92      536.31      536.62      534.38   \n",
       "20028  1.464869e+09     4380.38      534.38      535.58      532.19   \n",
       "\n",
       "           ...       var3(t-2)  var4(t-2)  var5(t-2)     var6(t-2)  var1(t-1)  \\\n",
       "20024      ...          465.43     463.91     462.68  1.450530e+09    2116.51   \n",
       "20025      ...          464.37     463.45     462.31  1.450534e+09    1761.14   \n",
       "20026      ...          461.72     460.81     459.99  1.450537e+09   11304.89   \n",
       "20027      ...          463.67     456.91     452.34  1.450541e+09    5505.58   \n",
       "20028      ...          460.58     459.77     456.48  1.450544e+09    3336.73   \n",
       "\n",
       "       var2(t-1)  var3(t-1)  var4(t-1)  var5(t-1)     var6(t-1)  \n",
       "20024     463.91     464.37     463.45     462.31  1.450534e+09  \n",
       "20025     463.45     461.72     460.81     459.99  1.450537e+09  \n",
       "20026     460.81     463.67     456.91     452.34  1.450541e+09  \n",
       "20027     456.91     460.58     459.77     456.48  1.450544e+09  \n",
       "20028     459.77     461.21     458.89     458.02  1.450548e+09  \n",
       "\n",
       "[5 rows x 144 columns]"
      ]
     },
     "execution_count": 138,
     "metadata": {},
     "output_type": "execute_result"
    }
   ],
   "source": [
    "X = series_to_supervised(data=sample, n_in=INPUT_HOURS, n_out=PREDICT_HOURS)\n",
    "X = X.iloc[:,:-(PREDICT_HOURS*N_FEATURES)]\n",
    "X.head()"
   ]
  },
  {
   "cell_type": "code",
   "execution_count": 139,
   "metadata": {},
   "outputs": [
    {
     "data": {
      "text/html": [
       "<div>\n",
       "<style scoped>\n",
       "    .dataframe tbody tr th:only-of-type {\n",
       "        vertical-align: middle;\n",
       "    }\n",
       "\n",
       "    .dataframe tbody tr th {\n",
       "        vertical-align: top;\n",
       "    }\n",
       "\n",
       "    .dataframe thead th {\n",
       "        text-align: right;\n",
       "    }\n",
       "</style>\n",
       "<table border=\"1\" class=\"dataframe\">\n",
       "  <thead>\n",
       "    <tr style=\"text-align: right;\">\n",
       "      <th></th>\n",
       "      <th>var1(t-24)</th>\n",
       "      <th>var1(t-23)</th>\n",
       "      <th>var1(t-22)</th>\n",
       "      <th>var1(t-21)</th>\n",
       "      <th>var1(t-20)</th>\n",
       "      <th>var1(t-19)</th>\n",
       "      <th>var1(t-18)</th>\n",
       "      <th>var1(t-17)</th>\n",
       "      <th>var1(t-16)</th>\n",
       "      <th>var1(t-15)</th>\n",
       "      <th>...</th>\n",
       "      <th>var1(t-4)</th>\n",
       "      <th>var1(t-3)</th>\n",
       "      <th>var1(t-2)</th>\n",
       "      <th>var1(t-1)</th>\n",
       "      <th>var1(t)</th>\n",
       "      <th>var1(t+1)</th>\n",
       "      <th>var1(t+2)</th>\n",
       "      <th>var1(t+3)</th>\n",
       "      <th>var1(t+4)</th>\n",
       "      <th>var1(t+5)</th>\n",
       "    </tr>\n",
       "  </thead>\n",
       "  <tbody>\n",
       "    <tr>\n",
       "      <th>24</th>\n",
       "      <td>535.17</td>\n",
       "      <td>536.75</td>\n",
       "      <td>536.78</td>\n",
       "      <td>536.31</td>\n",
       "      <td>534.38</td>\n",
       "      <td>532.19</td>\n",
       "      <td>532.97</td>\n",
       "      <td>532.96</td>\n",
       "      <td>534.95</td>\n",
       "      <td>535.21</td>\n",
       "      <td>...</td>\n",
       "      <td>462.77</td>\n",
       "      <td>462.99</td>\n",
       "      <td>463.91</td>\n",
       "      <td>463.45</td>\n",
       "      <td>460.81</td>\n",
       "      <td>456.91</td>\n",
       "      <td>459.77</td>\n",
       "      <td>458.89</td>\n",
       "      <td>460.23</td>\n",
       "      <td>460.66</td>\n",
       "    </tr>\n",
       "    <tr>\n",
       "      <th>25</th>\n",
       "      <td>536.75</td>\n",
       "      <td>536.78</td>\n",
       "      <td>536.31</td>\n",
       "      <td>534.38</td>\n",
       "      <td>532.19</td>\n",
       "      <td>532.97</td>\n",
       "      <td>532.96</td>\n",
       "      <td>534.95</td>\n",
       "      <td>535.21</td>\n",
       "      <td>465.37</td>\n",
       "      <td>...</td>\n",
       "      <td>462.99</td>\n",
       "      <td>463.91</td>\n",
       "      <td>463.45</td>\n",
       "      <td>460.81</td>\n",
       "      <td>456.91</td>\n",
       "      <td>459.77</td>\n",
       "      <td>458.89</td>\n",
       "      <td>460.23</td>\n",
       "      <td>460.66</td>\n",
       "      <td>460.47</td>\n",
       "    </tr>\n",
       "    <tr>\n",
       "      <th>26</th>\n",
       "      <td>536.78</td>\n",
       "      <td>536.31</td>\n",
       "      <td>534.38</td>\n",
       "      <td>532.19</td>\n",
       "      <td>532.97</td>\n",
       "      <td>532.96</td>\n",
       "      <td>534.95</td>\n",
       "      <td>535.21</td>\n",
       "      <td>465.37</td>\n",
       "      <td>462.32</td>\n",
       "      <td>...</td>\n",
       "      <td>463.91</td>\n",
       "      <td>463.45</td>\n",
       "      <td>460.81</td>\n",
       "      <td>456.91</td>\n",
       "      <td>459.77</td>\n",
       "      <td>458.89</td>\n",
       "      <td>460.23</td>\n",
       "      <td>460.66</td>\n",
       "      <td>460.47</td>\n",
       "      <td>461.26</td>\n",
       "    </tr>\n",
       "    <tr>\n",
       "      <th>27</th>\n",
       "      <td>536.31</td>\n",
       "      <td>534.38</td>\n",
       "      <td>532.19</td>\n",
       "      <td>532.97</td>\n",
       "      <td>532.96</td>\n",
       "      <td>534.95</td>\n",
       "      <td>535.21</td>\n",
       "      <td>465.37</td>\n",
       "      <td>462.32</td>\n",
       "      <td>464.30</td>\n",
       "      <td>...</td>\n",
       "      <td>463.45</td>\n",
       "      <td>460.81</td>\n",
       "      <td>456.91</td>\n",
       "      <td>459.77</td>\n",
       "      <td>458.89</td>\n",
       "      <td>460.23</td>\n",
       "      <td>460.66</td>\n",
       "      <td>460.47</td>\n",
       "      <td>461.26</td>\n",
       "      <td>462.02</td>\n",
       "    </tr>\n",
       "    <tr>\n",
       "      <th>28</th>\n",
       "      <td>534.38</td>\n",
       "      <td>532.19</td>\n",
       "      <td>532.97</td>\n",
       "      <td>532.96</td>\n",
       "      <td>534.95</td>\n",
       "      <td>535.21</td>\n",
       "      <td>465.37</td>\n",
       "      <td>462.32</td>\n",
       "      <td>464.30</td>\n",
       "      <td>463.40</td>\n",
       "      <td>...</td>\n",
       "      <td>460.81</td>\n",
       "      <td>456.91</td>\n",
       "      <td>459.77</td>\n",
       "      <td>458.89</td>\n",
       "      <td>460.23</td>\n",
       "      <td>460.66</td>\n",
       "      <td>460.47</td>\n",
       "      <td>461.26</td>\n",
       "      <td>462.02</td>\n",
       "      <td>462.21</td>\n",
       "    </tr>\n",
       "  </tbody>\n",
       "</table>\n",
       "<p>5 rows × 30 columns</p>\n",
       "</div>"
      ],
      "text/plain": [
       "    var1(t-24)  var1(t-23)  var1(t-22)  var1(t-21)  var1(t-20)  var1(t-19)  \\\n",
       "24      535.17      536.75      536.78      536.31      534.38      532.19   \n",
       "25      536.75      536.78      536.31      534.38      532.19      532.97   \n",
       "26      536.78      536.31      534.38      532.19      532.97      532.96   \n",
       "27      536.31      534.38      532.19      532.97      532.96      534.95   \n",
       "28      534.38      532.19      532.97      532.96      534.95      535.21   \n",
       "\n",
       "    var1(t-18)  var1(t-17)  var1(t-16)  var1(t-15)    ...      var1(t-4)  \\\n",
       "24      532.97      532.96      534.95      535.21    ...         462.77   \n",
       "25      532.96      534.95      535.21      465.37    ...         462.99   \n",
       "26      534.95      535.21      465.37      462.32    ...         463.91   \n",
       "27      535.21      465.37      462.32      464.30    ...         463.45   \n",
       "28      465.37      462.32      464.30      463.40    ...         460.81   \n",
       "\n",
       "    var1(t-3)  var1(t-2)  var1(t-1)  var1(t)  var1(t+1)  var1(t+2)  var1(t+3)  \\\n",
       "24     462.99     463.91     463.45   460.81     456.91     459.77     458.89   \n",
       "25     463.91     463.45     460.81   456.91     459.77     458.89     460.23   \n",
       "26     463.45     460.81     456.91   459.77     458.89     460.23     460.66   \n",
       "27     460.81     456.91     459.77   458.89     460.23     460.66     460.47   \n",
       "28     456.91     459.77     458.89   460.23     460.66     460.47     461.26   \n",
       "\n",
       "    var1(t+4)  var1(t+5)  \n",
       "24     460.23     460.66  \n",
       "25     460.66     460.47  \n",
       "26     460.47     461.26  \n",
       "27     461.26     462.02  \n",
       "28     462.02     462.21  \n",
       "\n",
       "[5 rows x 30 columns]"
      ]
     },
     "execution_count": 139,
     "metadata": {},
     "output_type": "execute_result"
    }
   ],
   "source": [
    "Y = series_to_supervised(data=list(sample['close']), n_in=INPUT_HOURS, n_out=PREDICT_HOURS)\n",
    "Y.head()"
   ]
  },
  {
   "cell_type": "code",
   "execution_count": null,
   "metadata": {},
   "outputs": [],
   "source": []
  },
  {
   "cell_type": "markdown",
   "metadata": {},
   "source": [
    "# train test split"
   ]
  },
  {
   "cell_type": "code",
   "execution_count": 140,
   "metadata": {},
   "outputs": [],
   "source": [
    "from sklearn.model_selection import train_test_split\n",
    "X_train, X_test, Y_train, Y_test = train_test_split(X, Y, test_size=0.05, shuffle=True)\n",
    "Y_test_cache = Y_test\n",
    "Y_train = Y_train.iloc[:,-PREDICT_HOURS:]\n",
    "Y_test = Y_test.iloc[:,-PREDICT_HOURS:]"
   ]
  },
  {
   "cell_type": "markdown",
   "metadata": {},
   "source": [
    "# preprocessing"
   ]
  },
  {
   "cell_type": "code",
   "execution_count": 141,
   "metadata": {},
   "outputs": [],
   "source": [
    "from sklearn.preprocessing import MinMaxScaler\n",
    "scaler = MinMaxScaler(feature_range=(0, 1))\n",
    "X_train = scaler.fit_transform(X_train)\n",
    "X_test = scaler.transform(X_test)"
   ]
  },
  {
   "cell_type": "code",
   "execution_count": 142,
   "metadata": {},
   "outputs": [
    {
     "data": {
      "text/plain": [
       "(24694, 24, 6)"
      ]
     },
     "execution_count": 142,
     "metadata": {},
     "output_type": "execute_result"
    }
   ],
   "source": [
    "def shape_model_data(data, n_features):\n",
    "    model_data = data.reshape((data.shape[0], np.int(data.shape[1] / n_features), n_features))\n",
    "    return model_data\n",
    "X_train = shape_model_data(X_train, N_FEATURES)\n",
    "X_test = shape_model_data(X_test, N_FEATURES)\n",
    "X_train.shape"
   ]
  },
  {
   "cell_type": "code",
   "execution_count": 143,
   "metadata": {},
   "outputs": [],
   "source": [
    "def lstm_model(input_shape, num_outputs):\n",
    "    model = Sequential()\n",
    "    \n",
    "    model.add(LSTM(64, input_shape=input_shape, activation='linear'))\n",
    "    model.add(Dense(num_outputs, activation='linear'))\n",
    "    \n",
    "    return model\n"
   ]
  },
  {
   "cell_type": "code",
   "execution_count": 144,
   "metadata": {},
   "outputs": [
    {
     "name": "stdout",
     "output_type": "stream",
     "text": [
      "_________________________________________________________________\n",
      "Layer (type)                 Output Shape              Param #   \n",
      "=================================================================\n",
      "lstm_5 (LSTM)                (None, 64)                18176     \n",
      "_________________________________________________________________\n",
      "dense_5 (Dense)              (None, 6)                 390       \n",
      "=================================================================\n",
      "Total params: 18,566\n",
      "Trainable params: 18,566\n",
      "Non-trainable params: 0\n",
      "_________________________________________________________________\n"
     ]
    }
   ],
   "source": [
    "model = lstm_model(X_train.shape[1:], PREDICT_HOURS)\n",
    "model.summary()"
   ]
  },
  {
   "cell_type": "code",
   "execution_count": 145,
   "metadata": {},
   "outputs": [
    {
     "name": "stdout",
     "output_type": "stream",
     "text": [
      "Train on 24694 samples, validate on 1300 samples\n",
      "Epoch 1/5\n",
      "24694/24694 [==============================] - 14s 572us/step - loss: 299.5603 - val_loss: 117.2721\n",
      "Epoch 2/5\n",
      "24694/24694 [==============================] - 13s 541us/step - loss: 71.0244 - val_loss: 48.3960\n",
      "Epoch 3/5\n",
      "24694/24694 [==============================] - 14s 549us/step - loss: 43.8296 - val_loss: 39.9418\n",
      "Epoch 4/5\n",
      "24694/24694 [==============================] - 13s 545us/step - loss: 29.8033 - val_loss: 22.6860\n",
      "Epoch 5/5\n",
      "24694/24694 [==============================] - 14s 565us/step - loss: 21.7749 - val_loss: 22.2884\n"
     ]
    }
   ],
   "source": [
    "from keras.optimizers import Adam\n",
    "model.compile(loss='mae', optimizer=Adam(lr=0.0001))\n",
    "\n",
    "fit = model.fit(X_train, Y_train, \n",
    "                    epochs=N_EPOCHS, \n",
    "                    batch_size=BATCH_SIZE, \n",
    "                    validation_data=(X_test, Y_test))\n"
   ]
  },
  {
   "cell_type": "code",
   "execution_count": 146,
   "metadata": {},
   "outputs": [
    {
     "data": {
      "text/plain": [
       "<matplotlib.legend.Legend at 0x13ecb99e8>"
      ]
     },
     "execution_count": 146,
     "metadata": {},
     "output_type": "execute_result"
    },
    {
     "data": {
      "image/png": "[encoded data removed]",
      "text/plain": [
       "<Figure size 432x288 with 1 Axes>"
      ]
     },
     "metadata": {},
     "output_type": "display_data"
    }
   ],
   "source": [
    "import matplotlib.pyplot as plt\n",
    "plt.plot(fit.history['loss'], label='train')\n",
    "plt.plot(fit.history['val_loss'], label='test')\n",
    "plt.legend()"
   ]
  },
  {
   "cell_type": "code",
   "execution_count": 147,
   "metadata": {},
   "outputs": [
    {
     "data": {
      "image/png": "[encoded data removed]",
      "text/plain": [
       "<Figure size 432x288 with 1 Axes>"
      ]
     },
     "metadata": {},
     "output_type": "display_data"
    },
    {
     "data": {
      "image/png": "[encoded data removed]",
      "text/plain": [
       "<Figure size 432x288 with 1 Axes>"
      ]
     },
     "metadata": {},
     "output_type": "display_data"
    },
    {
     "data": {
      "image/png": "[encoded data removed]",
      "text/plain": [
       "<Figure size 432x288 with 1 Axes>"
      ]
     },
     "metadata": {},
     "output_type": "display_data"
    },
    {
     "data": {
      "image/png": "[encoded data removed]",
      "text/plain": [
       "<Figure size 432x288 with 1 Axes>"
      ]
     },
     "metadata": {},
     "output_type": "display_data"
    },
    {
     "data": {
      "image/png": "[encoded data removed]",
      "text/plain": [
       "<Figure size 432x288 with 1 Axes>"
      ]
     },
     "metadata": {},
     "output_type": "display_data"
    },
    {
     "data": {
      "image/png": "[encoded data removed]",
      "text/plain": [
       "<Figure size 432x288 with 1 Axes>"
      ]
     },
     "metadata": {},
     "output_type": "display_data"
    }
   ],
   "source": [
    "\n",
    "for ix in np.random.randint(0,Y_test_cache.shape[0],6):\n",
    "    plt.figure()\n",
    "    s = X_test[ix,:,:]\n",
    "    predict = fit.model.predict(s.reshape(1, s.shape[0], s.shape[1])).reshape(6)\n",
    "    actual = Y_test_cache.iloc[ix]\n",
    "    plt.plot(range(24,30), predict, 'r^', range(30), actual, 'g-')"
   ]
  }
 ],
 "metadata": {
  "kernelspec": {
   "display_name": "Python (balsam)",
   "language": "python",
   "name": "balsam"
  },
  "language_info": {
   "codemirror_mode": {
    "name": "ipython",
    "version": 3
   },
   "file_extension": ".py",
   "mimetype": "text/x-python",
   "name": "python",
   "nbconvert_exporter": "python",
   "pygments_lexer": "ipython3",
   "version": "3.5.5"
  }
 },
 "nbformat": 4,
 "nbformat_minor": 2
}
