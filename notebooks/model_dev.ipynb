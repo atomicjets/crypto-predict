{
 "cells": [
  {
   "cell_type": "markdown",
   "metadata": {},
   "source": [
    "# Model Development"
   ]
  },
  {
   "cell_type": "code",
   "execution_count": 1,
   "metadata": {},
   "outputs": [],
   "source": [
    "%load_ext autoreload\n",
    "%autoreload 2\n",
    "p = print\n",
    "\n",
    "from os.path import join\n",
    "import pickle\n",
    "\n",
    "import numpy as np\n",
    "import pandas as pd\n",
    "from sklearn.linear_model import LinearRegression, Lasso, MultiTaskLassoCV, Ridge, RidgeCV, MultiTaskElasticNet, MultiTaskElasticNetCV, ElasticNet, ElasticNetCV\n",
    "from sklearn.metrics import mean_absolute_error, mean_squared_error\n",
    "\n",
    "from crypr.util import get_project_path"
   ]
  },
  {
   "cell_type": "code",
   "execution_count": 2,
   "metadata": {},
   "outputs": [
    {
     "name": "stdout",
     "output_type": "stream",
     "text": [
      "(5586, 72, 18)\n",
      "(5586, 1296)\n"
     ]
    }
   ],
   "source": [
    "\"\"\"\n",
    "Import Data.\n",
    "\"\"\"\n",
    "SYM = 'BTC'\n",
    "Ty = 1\n",
    "Tx = 72\n",
    "MAX_LAG = 72\n",
    "wavelet = 'haar_smooth'\n",
    "data_dir = join(get_project_path(), 'data', 'processed')\n",
    "models_dir = join(get_project_path(), 'models')\n",
    "\n",
    "X_train = np.load(join(data_dir, 'X_train_{}.npy'.format(SYM)))\n",
    "Y_train = np.load(join(data_dir, 'y_train_{}.npy'.format(SYM)))\n",
    "X_test = np.load(join(data_dir, 'X_test_{}.npy'.format(SYM)))\n",
    "Y_test = np.load(join(data_dir, 'y_test_{}.npy'.format(SYM)))\n",
    "\n",
    "N_FEATURES = X_train.shape[2]\n",
    "\n",
    "p(X_train.shape)\n",
    "X_train = X_train.reshape((-1, Tx*N_FEATURES))\n",
    "X_test = X_test.reshape((-1, Tx*N_FEATURES))\n",
    "p(X_train.shape)"
   ]
  },
  {
   "cell_type": "markdown",
   "metadata": {},
   "source": [
    "# Let's try a simple linear regression model"
   ]
  },
  {
   "cell_type": "code",
   "execution_count": 3,
   "metadata": {},
   "outputs": [
    {
     "name": "stdout",
     "output_type": "stream",
     "text": [
      "0.5428762980033514\n",
      "0.994009168671955\n"
     ]
    }
   ],
   "source": [
    "lr_model = LinearRegression()\n",
    "lr_model = lr_model.fit(X_train, Y_train)\n",
    "lr_predict = lr_model.predict(X_test)\n",
    "\n",
    "p(mean_absolute_error(y_pred=lr_predict, y_true=Y_test))\n",
    "p(mean_squared_error(y_pred=lr_predict, y_true=Y_test))"
   ]
  },
  {
   "cell_type": "code",
   "execution_count": 4,
   "metadata": {},
   "outputs": [],
   "source": [
    "# Save model\n",
    "# with open(join(models_dir, 'linear_model_{}.pkl'.format(SYM)), 'wb') as output_file:\n",
    "#     s = pickle.dump(lr_model, output_file)"
   ]
  },
  {
   "cell_type": "markdown",
   "metadata": {},
   "source": [
    "# Other Linear Regression"
   ]
  },
  {
   "cell_type": "markdown",
   "metadata": {},
   "source": [
    "## Lasso"
   ]
  },
  {
   "cell_type": "code",
   "execution_count": 5,
   "metadata": {},
   "outputs": [
    {
     "name": "stdout",
     "output_type": "stream",
     "text": [
      "0.485266489188477\n",
      "0.9116682864063553\n"
     ]
    },
    {
     "name": "stderr",
     "output_type": "stream",
     "text": [
      "/Users/daniel_stevenson/.conda/envs/crypto_predict/lib/python3.6/site-packages/sklearn/linear_model/coordinate_descent.py:492: ConvergenceWarning: Objective did not converge. You might want to increase the number of iterations. Fitting data with very small alpha may cause precision problems.\n",
      "  ConvergenceWarning)\n"
     ]
    }
   ],
   "source": [
    "lasso_params = {\n",
    "    'alpha': [0.01],\n",
    "}\n",
    "\n",
    "lasso_model = Lasso(alpha=0.01, max_iter=10000)\n",
    "lasso_model = lasso_model.fit(X=X_train, y=Y_train)\n",
    "\n",
    "lasso_predict = lasso_model.predict(X_test)\n",
    "\n",
    "p(mean_absolute_error(lasso_predict, Y_test))\n",
    "p(mean_squared_error(lasso_predict, Y_test))"
   ]
  },
  {
   "cell_type": "markdown",
   "metadata": {},
   "source": [
    "## Ridge\n"
   ]
  },
  {
   "cell_type": "code",
   "execution_count": 6,
   "metadata": {},
   "outputs": [
    {
     "name": "stdout",
     "output_type": "stream",
     "text": [
      "0.5428389780118628\n",
      "0.9939320679292416\n"
     ]
    }
   ],
   "source": [
    "ridge_model = Ridge(alpha=0.01)\n",
    "ridge_model = ridge_model.fit(X=X_train, y=Y_train)\n",
    "\n",
    "ridge_predict = ridge_model.predict(X_test)\n",
    "\n",
    "p(mean_absolute_error(ridge_predict, Y_test))\n",
    "p(mean_squared_error(ridge_predict, Y_test))"
   ]
  },
  {
   "cell_type": "markdown",
   "metadata": {},
   "source": [
    "## Elastic Net"
   ]
  },
  {
   "cell_type": "code",
   "execution_count": 7,
   "metadata": {},
   "outputs": [
    {
     "name": "stderr",
     "output_type": "stream",
     "text": [
      "/Users/daniel_stevenson/.conda/envs/crypto_predict/lib/python3.6/site-packages/sklearn/model_selection/_split.py:2053: FutureWarning: You should specify a value for 'cv' instead of relying on the default value. The default value will change from 3 to 5 in version 0.22.\n",
      "  warnings.warn(CV_WARNING, FutureWarning)\n",
      "/Users/daniel_stevenson/.conda/envs/crypto_predict/lib/python3.6/site-packages/sklearn/linear_model/coordinate_descent.py:492: ConvergenceWarning: Objective did not converge. You might want to increase the number of iterations. Fitting data with very small alpha may cause precision problems.\n",
      "  ConvergenceWarning)\n",
      "/Users/daniel_stevenson/.conda/envs/crypto_predict/lib/python3.6/site-packages/sklearn/linear_model/coordinate_descent.py:492: ConvergenceWarning: Objective did not converge. You might want to increase the number of iterations. Fitting data with very small alpha may cause precision problems.\n",
      "  ConvergenceWarning)\n",
      "/Users/daniel_stevenson/.conda/envs/crypto_predict/lib/python3.6/site-packages/sklearn/linear_model/coordinate_descent.py:492: ConvergenceWarning: Objective did not converge. You might want to increase the number of iterations. Fitting data with very small alpha may cause precision problems.\n",
      "  ConvergenceWarning)\n"
     ]
    },
    {
     "name": "stdout",
     "output_type": "stream",
     "text": [
      "0.48173897411556726\n",
      "0.9216886342541981\n"
     ]
    },
    {
     "name": "stderr",
     "output_type": "stream",
     "text": [
      "/Users/daniel_stevenson/.conda/envs/crypto_predict/lib/python3.6/site-packages/sklearn/linear_model/coordinate_descent.py:1822: ConvergenceWarning: Objective did not converge, you might want to increase the number of iterations\n",
      "  ConvergenceWarning)\n"
     ]
    }
   ],
   "source": [
    "enet_params = {\n",
    "    'alpha': [1e-7],\n",
    "}\n",
    "\n",
    "enet_model = MultiTaskElasticNetCV(alphas=enet_params['alpha'])\n",
    "enet_model = enet_model.fit(X=X_train, y=Y_train)\n",
    "\n",
    "enet_predict = enet_model.predict(X_test)\n",
    "\n",
    "p(mean_absolute_error(enet_predict, Y_test))\n",
    "p(mean_squared_error(enet_predict, Y_test))"
   ]
  }
 ],
 "metadata": {
  "kernelspec": {
   "display_name": "Python (crypto_predict)",
   "language": "python",
   "name": "crypto_predict"
  },
  "language_info": {
   "codemirror_mode": {
    "name": "ipython",
    "version": 3
   },
   "file_extension": ".py",
   "mimetype": "text/x-python",
   "name": "python",
   "nbconvert_exporter": "python",
   "pygments_lexer": "ipython3",
   "version": "3.6.7"
  }
 },
 "nbformat": 4,
 "nbformat_minor": 2
}
