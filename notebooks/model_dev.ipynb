{
 "cells": [
  {
   "cell_type": "markdown",
   "metadata": {},
   "source": [
    "# Model Development"
   ]
  },
  {
   "cell_type": "code",
   "execution_count": 1,
   "metadata": {},
   "outputs": [
    {
     "name": "stderr",
     "output_type": "stream",
     "text": [
      "Using TensorFlow backend.\n",
      "/Users/daniel_stevenson/anaconda3/envs/go-mint-datasci-challenge/lib/python3.5/importlib/_bootstrap.py:222: RuntimeWarning: compiletime version 3.6 of module 'tensorflow.python.framework.fast_tensor_util' does not match runtime version 3.5\n",
      "  return f(*args, **kwds)\n"
     ]
    }
   ],
   "source": [
    "%load_ext autoreload\n",
    "%autoreload 2\n",
    "\n",
    "import pandas as pd\n",
    "import numpy as np\n",
    "\n",
    "import matplotlib.pyplot as plt\n",
    "%matplotlib inline\n",
    "\n",
    "\n",
    "\n",
    "from sklearn.preprocessing import MinMaxScaler\n",
    "from sklearn.model_selection import train_test_split\n",
    "\n",
    "from keras.models import Sequential\n",
    "from keras.layers import LSTM, Dropout, Dense\n",
    "from keras.optimizers import Adam\n",
    "\n",
    "from src.data import get_data\n",
    "from src.util import common\n",
    "\n",
    "from src.features.build_features import series_to_supervised\n",
    "\n",
    "import pickle"
   ]
  },
  {
   "cell_type": "code",
   "execution_count": null,
   "metadata": {},
   "outputs": [],
   "source": [
    "\n"
   ]
  },
  {
   "cell_type": "code",
   "execution_count": 2,
   "metadata": {},
   "outputs": [
    {
     "data": {
      "text/html": [
       "<div>\n",
       "<style scoped>\n",
       "    .dataframe tbody tr th:only-of-type {\n",
       "        vertical-align: middle;\n",
       "    }\n",
       "\n",
       "    .dataframe tbody tr th {\n",
       "        vertical-align: top;\n",
       "    }\n",
       "\n",
       "    .dataframe thead th {\n",
       "        text-align: right;\n",
       "    }\n",
       "</style>\n",
       "<table border=\"1\" class=\"dataframe\">\n",
       "  <thead>\n",
       "    <tr style=\"text-align: right;\">\n",
       "      <th></th>\n",
       "      <th>volumeto</th>\n",
       "      <th>volumefrom</th>\n",
       "      <th>open</th>\n",
       "      <th>high</th>\n",
       "      <th>close</th>\n",
       "      <th>low</th>\n",
       "      <th>timestamp</th>\n",
       "    </tr>\n",
       "  </thead>\n",
       "  <tbody>\n",
       "    <tr>\n",
       "      <th>0</th>\n",
       "      <td>143.50</td>\n",
       "      <td>1.00</td>\n",
       "      <td>114.51</td>\n",
       "      <td>143.50</td>\n",
       "      <td>143.50</td>\n",
       "      <td>114.51</td>\n",
       "      <td>2013-06-27 13:00:00</td>\n",
       "    </tr>\n",
       "    <tr>\n",
       "      <th>1</th>\n",
       "      <td>0.00</td>\n",
       "      <td>0.00</td>\n",
       "      <td>143.50</td>\n",
       "      <td>143.50</td>\n",
       "      <td>143.50</td>\n",
       "      <td>143.50</td>\n",
       "      <td>2013-06-27 14:00:00</td>\n",
       "    </tr>\n",
       "    <tr>\n",
       "      <th>2</th>\n",
       "      <td>239.99</td>\n",
       "      <td>1.99</td>\n",
       "      <td>104.65</td>\n",
       "      <td>120.59</td>\n",
       "      <td>120.59</td>\n",
       "      <td>104.65</td>\n",
       "      <td>2013-06-27 15:00:00</td>\n",
       "    </tr>\n",
       "    <tr>\n",
       "      <th>3</th>\n",
       "      <td>1341.82</td>\n",
       "      <td>11.63</td>\n",
       "      <td>115.05</td>\n",
       "      <td>120.57</td>\n",
       "      <td>114.08</td>\n",
       "      <td>114.08</td>\n",
       "      <td>2013-06-27 16:00:00</td>\n",
       "    </tr>\n",
       "    <tr>\n",
       "      <th>4</th>\n",
       "      <td>347.96</td>\n",
       "      <td>3.04</td>\n",
       "      <td>116.62</td>\n",
       "      <td>143.97</td>\n",
       "      <td>108.65</td>\n",
       "      <td>108.65</td>\n",
       "      <td>2013-06-27 17:00:00</td>\n",
       "    </tr>\n",
       "  </tbody>\n",
       "</table>\n",
       "</div>"
      ],
      "text/plain": [
       "   volumeto  volumefrom    open    high   close     low           timestamp\n",
       "0    143.50        1.00  114.51  143.50  143.50  114.51 2013-06-27 13:00:00\n",
       "1      0.00        0.00  143.50  143.50  143.50  143.50 2013-06-27 14:00:00\n",
       "2    239.99        1.99  104.65  120.59  120.59  104.65 2013-06-27 15:00:00\n",
       "3   1341.82       11.63  115.05  120.57  114.08  114.08 2013-06-27 16:00:00\n",
       "4    347.96        3.04  116.62  143.97  108.65  108.65 2013-06-27 17:00:00"
      ]
     },
     "execution_count": 2,
     "metadata": {},
     "output_type": "execute_result"
    }
   ],
   "source": [
    "df = pd.read_csv(common.get_project_path() + '/data/raw/data.csv', index_col=0)\n",
    "df.timestamp = pd.to_datetime(df.timestamp)\n",
    "df.drop('time', axis=1, inplace=True)\n",
    "df.head()"
   ]
  },
  {
   "cell_type": "code",
   "execution_count": 3,
   "metadata": {},
   "outputs": [],
   "source": [
    "MAS = [6, 12,24,48]\n",
    "for MA in MAS:\n",
    "    df['vt_ma' + str(MA)] = df.volumeto.rolling(MA).mean()\n",
    "    df['vf_ma' + str(MA)] = df.volumefrom.rolling(MA).mean()\n",
    "#     df['close_ma' + str(MA)] = df.volumeto.rolling(MA).mean()"
   ]
  },
  {
   "cell_type": "code",
   "execution_count": 4,
   "metadata": {},
   "outputs": [],
   "source": [
    "# df['hour'] = df.timestamp.dt.hour\n",
    "# df['dom'] = df.timestamp.dt.day\n",
    "# df['dow'] = df.timestamp.dt.dayofweek\n",
    "df.drop('timestamp', axis=1, inplace=True)\n",
    "df.drop(['volumefrom', 'volumeto'], axis=1, inplace=True)"
   ]
  },
  {
   "cell_type": "code",
   "execution_count": 5,
   "metadata": {},
   "outputs": [
    {
     "data": {
      "text/html": [
       "<div>\n",
       "<style scoped>\n",
       "    .dataframe tbody tr th:only-of-type {\n",
       "        vertical-align: middle;\n",
       "    }\n",
       "\n",
       "    .dataframe tbody tr th {\n",
       "        vertical-align: top;\n",
       "    }\n",
       "\n",
       "    .dataframe thead th {\n",
       "        text-align: right;\n",
       "    }\n",
       "</style>\n",
       "<table border=\"1\" class=\"dataframe\">\n",
       "  <thead>\n",
       "    <tr style=\"text-align: right;\">\n",
       "      <th></th>\n",
       "      <th>open</th>\n",
       "      <th>high</th>\n",
       "      <th>close</th>\n",
       "      <th>low</th>\n",
       "      <th>vt_ma6</th>\n",
       "      <th>vf_ma6</th>\n",
       "      <th>vt_ma12</th>\n",
       "      <th>vf_ma12</th>\n",
       "      <th>vt_ma24</th>\n",
       "      <th>vf_ma24</th>\n",
       "      <th>vt_ma48</th>\n",
       "      <th>vf_ma48</th>\n",
       "    </tr>\n",
       "  </thead>\n",
       "  <tbody>\n",
       "    <tr>\n",
       "      <th>0</th>\n",
       "      <td>114.51</td>\n",
       "      <td>143.50</td>\n",
       "      <td>143.50</td>\n",
       "      <td>114.51</td>\n",
       "      <td>NaN</td>\n",
       "      <td>NaN</td>\n",
       "      <td>NaN</td>\n",
       "      <td>NaN</td>\n",
       "      <td>NaN</td>\n",
       "      <td>NaN</td>\n",
       "      <td>NaN</td>\n",
       "      <td>NaN</td>\n",
       "    </tr>\n",
       "    <tr>\n",
       "      <th>1</th>\n",
       "      <td>143.50</td>\n",
       "      <td>143.50</td>\n",
       "      <td>143.50</td>\n",
       "      <td>143.50</td>\n",
       "      <td>NaN</td>\n",
       "      <td>NaN</td>\n",
       "      <td>NaN</td>\n",
       "      <td>NaN</td>\n",
       "      <td>NaN</td>\n",
       "      <td>NaN</td>\n",
       "      <td>NaN</td>\n",
       "      <td>NaN</td>\n",
       "    </tr>\n",
       "    <tr>\n",
       "      <th>2</th>\n",
       "      <td>104.65</td>\n",
       "      <td>120.59</td>\n",
       "      <td>120.59</td>\n",
       "      <td>104.65</td>\n",
       "      <td>NaN</td>\n",
       "      <td>NaN</td>\n",
       "      <td>NaN</td>\n",
       "      <td>NaN</td>\n",
       "      <td>NaN</td>\n",
       "      <td>NaN</td>\n",
       "      <td>NaN</td>\n",
       "      <td>NaN</td>\n",
       "    </tr>\n",
       "    <tr>\n",
       "      <th>3</th>\n",
       "      <td>115.05</td>\n",
       "      <td>120.57</td>\n",
       "      <td>114.08</td>\n",
       "      <td>114.08</td>\n",
       "      <td>NaN</td>\n",
       "      <td>NaN</td>\n",
       "      <td>NaN</td>\n",
       "      <td>NaN</td>\n",
       "      <td>NaN</td>\n",
       "      <td>NaN</td>\n",
       "      <td>NaN</td>\n",
       "      <td>NaN</td>\n",
       "    </tr>\n",
       "    <tr>\n",
       "      <th>4</th>\n",
       "      <td>116.62</td>\n",
       "      <td>143.97</td>\n",
       "      <td>108.65</td>\n",
       "      <td>108.65</td>\n",
       "      <td>NaN</td>\n",
       "      <td>NaN</td>\n",
       "      <td>NaN</td>\n",
       "      <td>NaN</td>\n",
       "      <td>NaN</td>\n",
       "      <td>NaN</td>\n",
       "      <td>NaN</td>\n",
       "      <td>NaN</td>\n",
       "    </tr>\n",
       "    <tr>\n",
       "      <th>5</th>\n",
       "      <td>115.15</td>\n",
       "      <td>121.08</td>\n",
       "      <td>121.08</td>\n",
       "      <td>113.97</td>\n",
       "      <td>494.791667</td>\n",
       "      <td>4.225000</td>\n",
       "      <td>NaN</td>\n",
       "      <td>NaN</td>\n",
       "      <td>NaN</td>\n",
       "      <td>NaN</td>\n",
       "      <td>NaN</td>\n",
       "      <td>NaN</td>\n",
       "    </tr>\n",
       "    <tr>\n",
       "      <th>6</th>\n",
       "      <td>120.73</td>\n",
       "      <td>120.73</td>\n",
       "      <td>107.18</td>\n",
       "      <td>104.53</td>\n",
       "      <td>854.765000</td>\n",
       "      <td>7.585000</td>\n",
       "      <td>NaN</td>\n",
       "      <td>NaN</td>\n",
       "      <td>NaN</td>\n",
       "      <td>NaN</td>\n",
       "      <td>NaN</td>\n",
       "      <td>NaN</td>\n",
       "    </tr>\n",
       "    <tr>\n",
       "      <th>7</th>\n",
       "      <td>108.77</td>\n",
       "      <td>132.55</td>\n",
       "      <td>106.90</td>\n",
       "      <td>103.89</td>\n",
       "      <td>1111.486667</td>\n",
       "      <td>9.898333</td>\n",
       "      <td>NaN</td>\n",
       "      <td>NaN</td>\n",
       "      <td>NaN</td>\n",
       "      <td>NaN</td>\n",
       "      <td>NaN</td>\n",
       "      <td>NaN</td>\n",
       "    </tr>\n",
       "    <tr>\n",
       "      <th>8</th>\n",
       "      <td>106.90</td>\n",
       "      <td>114.59</td>\n",
       "      <td>109.06</td>\n",
       "      <td>106.90</td>\n",
       "      <td>1109.731667</td>\n",
       "      <td>9.916667</td>\n",
       "      <td>NaN</td>\n",
       "      <td>NaN</td>\n",
       "      <td>NaN</td>\n",
       "      <td>NaN</td>\n",
       "      <td>NaN</td>\n",
       "      <td>NaN</td>\n",
       "    </tr>\n",
       "    <tr>\n",
       "      <th>9</th>\n",
       "      <td>143.50</td>\n",
       "      <td>143.50</td>\n",
       "      <td>100.58</td>\n",
       "      <td>100.58</td>\n",
       "      <td>1479.538333</td>\n",
       "      <td>13.578333</td>\n",
       "      <td>NaN</td>\n",
       "      <td>NaN</td>\n",
       "      <td>NaN</td>\n",
       "      <td>NaN</td>\n",
       "      <td>NaN</td>\n",
       "      <td>NaN</td>\n",
       "    </tr>\n",
       "  </tbody>\n",
       "</table>\n",
       "</div>"
      ],
      "text/plain": [
       "     open    high   close     low       vt_ma6     vf_ma6  vt_ma12  vf_ma12  \\\n",
       "0  114.51  143.50  143.50  114.51          NaN        NaN      NaN      NaN   \n",
       "1  143.50  143.50  143.50  143.50          NaN        NaN      NaN      NaN   \n",
       "2  104.65  120.59  120.59  104.65          NaN        NaN      NaN      NaN   \n",
       "3  115.05  120.57  114.08  114.08          NaN        NaN      NaN      NaN   \n",
       "4  116.62  143.97  108.65  108.65          NaN        NaN      NaN      NaN   \n",
       "5  115.15  121.08  121.08  113.97   494.791667   4.225000      NaN      NaN   \n",
       "6  120.73  120.73  107.18  104.53   854.765000   7.585000      NaN      NaN   \n",
       "7  108.77  132.55  106.90  103.89  1111.486667   9.898333      NaN      NaN   \n",
       "8  106.90  114.59  109.06  106.90  1109.731667   9.916667      NaN      NaN   \n",
       "9  143.50  143.50  100.58  100.58  1479.538333  13.578333      NaN      NaN   \n",
       "\n",
       "   vt_ma24  vf_ma24  vt_ma48  vf_ma48  \n",
       "0      NaN      NaN      NaN      NaN  \n",
       "1      NaN      NaN      NaN      NaN  \n",
       "2      NaN      NaN      NaN      NaN  \n",
       "3      NaN      NaN      NaN      NaN  \n",
       "4      NaN      NaN      NaN      NaN  \n",
       "5      NaN      NaN      NaN      NaN  \n",
       "6      NaN      NaN      NaN      NaN  \n",
       "7      NaN      NaN      NaN      NaN  \n",
       "8      NaN      NaN      NaN      NaN  \n",
       "9      NaN      NaN      NaN      NaN  "
      ]
     },
     "execution_count": 5,
     "metadata": {},
     "output_type": "execute_result"
    }
   ],
   "source": [
    "df.head(10)"
   ]
  },
  {
   "cell_type": "code",
   "execution_count": 17,
   "metadata": {},
   "outputs": [],
   "source": [
    "START_INDEX = 36000\n",
    "N_FEATURES = len(df.columns)\n",
    "\n",
    "Tx = 96\n",
    "Ty = 6"
   ]
  },
  {
   "cell_type": "code",
   "execution_count": 18,
   "metadata": {},
   "outputs": [
    {
     "data": {
      "text/plain": [
       "[<matplotlib.lines.Line2D at 0x11be6f240>]"
      ]
     },
     "execution_count": 18,
     "metadata": {},
     "output_type": "execute_result"
    },
    {
     "data": {
      "image/png": "[encoded data removed]",
      "text/plain": [
       "<Figure size 432x288 with 3 Axes>"
      ]
     },
     "metadata": {},
     "output_type": "display_data"
    }
   ],
   "source": [
    "\"\"\"\n",
    "Cut off first ### hours from data set. The OHCLV data is much different in Bitcoin's earlier days. \n",
    "Getting rid of this data will hopefully improve the model.\n",
    "\"\"\"\n",
    "sample = df.iloc[START_INDEX:,:]\n",
    "sample.shape\n",
    "fig, ax = plt.subplots(3, sharex=True)\n",
    "ax[0].plot(sample.close)\n",
    "ax[1].plot(sample.vf_ma24)\n",
    "ax[2].plot(sample.vt_ma24)"
   ]
  },
  {
   "cell_type": "code",
   "execution_count": null,
   "metadata": {},
   "outputs": [],
   "source": []
  },
  {
   "cell_type": "code",
   "execution_count": 19,
   "metadata": {},
   "outputs": [
    {
     "data": {
      "text/html": [
       "<div>\n",
       "<style scoped>\n",
       "    .dataframe tbody tr th:only-of-type {\n",
       "        vertical-align: middle;\n",
       "    }\n",
       "\n",
       "    .dataframe tbody tr th {\n",
       "        vertical-align: top;\n",
       "    }\n",
       "\n",
       "    .dataframe thead th {\n",
       "        text-align: right;\n",
       "    }\n",
       "</style>\n",
       "<table border=\"1\" class=\"dataframe\">\n",
       "  <thead>\n",
       "    <tr style=\"text-align: right;\">\n",
       "      <th></th>\n",
       "      <th>var1(t-96)</th>\n",
       "      <th>var2(t-96)</th>\n",
       "      <th>var3(t-96)</th>\n",
       "      <th>var4(t-96)</th>\n",
       "      <th>var5(t-96)</th>\n",
       "      <th>var6(t-96)</th>\n",
       "      <th>var7(t-96)</th>\n",
       "      <th>var8(t-96)</th>\n",
       "      <th>var9(t-96)</th>\n",
       "      <th>var10(t-96)</th>\n",
       "      <th>...</th>\n",
       "      <th>var3(t+5)</th>\n",
       "      <th>var4(t+5)</th>\n",
       "      <th>var5(t+5)</th>\n",
       "      <th>var6(t+5)</th>\n",
       "      <th>var7(t+5)</th>\n",
       "      <th>var8(t+5)</th>\n",
       "      <th>var9(t+5)</th>\n",
       "      <th>var10(t+5)</th>\n",
       "      <th>var11(t+5)</th>\n",
       "      <th>var12(t+5)</th>\n",
       "    </tr>\n",
       "  </thead>\n",
       "  <tbody>\n",
       "    <tr>\n",
       "      <th>36096</th>\n",
       "      <td>3191.55</td>\n",
       "      <td>3192.94</td>\n",
       "      <td>3145.95</td>\n",
       "      <td>3142.31</td>\n",
       "      <td>1.817895e+07</td>\n",
       "      <td>5732.011667</td>\n",
       "      <td>2.459202e+07</td>\n",
       "      <td>7927.283333</td>\n",
       "      <td>1.650966e+07</td>\n",
       "      <td>5434.913333</td>\n",
       "      <td>...</td>\n",
       "      <td>3315.68</td>\n",
       "      <td>3286.05</td>\n",
       "      <td>1.608918e+07</td>\n",
       "      <td>4884.011667</td>\n",
       "      <td>1.563200e+07</td>\n",
       "      <td>4710.610000</td>\n",
       "      <td>1.503810e+07</td>\n",
       "      <td>4471.563750</td>\n",
       "      <td>1.487727e+07</td>\n",
       "      <td>4395.017292</td>\n",
       "    </tr>\n",
       "    <tr>\n",
       "      <th>36097</th>\n",
       "      <td>3145.95</td>\n",
       "      <td>3170.07</td>\n",
       "      <td>3159.68</td>\n",
       "      <td>3142.10</td>\n",
       "      <td>1.685689e+07</td>\n",
       "      <td>5308.758333</td>\n",
       "      <td>2.475590e+07</td>\n",
       "      <td>7961.445000</td>\n",
       "      <td>1.649175e+07</td>\n",
       "      <td>5416.469167</td>\n",
       "      <td>...</td>\n",
       "      <td>3335.55</td>\n",
       "      <td>3312.50</td>\n",
       "      <td>1.422703e+07</td>\n",
       "      <td>4317.170000</td>\n",
       "      <td>1.572332e+07</td>\n",
       "      <td>4742.320833</td>\n",
       "      <td>1.494187e+07</td>\n",
       "      <td>4446.025833</td>\n",
       "      <td>1.470766e+07</td>\n",
       "      <td>4345.455625</td>\n",
       "    </tr>\n",
       "    <tr>\n",
       "      <th>36098</th>\n",
       "      <td>3159.68</td>\n",
       "      <td>3185.48</td>\n",
       "      <td>3182.72</td>\n",
       "      <td>3158.01</td>\n",
       "      <td>1.606055e+07</td>\n",
       "      <td>5047.965000</td>\n",
       "      <td>2.505795e+07</td>\n",
       "      <td>8039.363333</td>\n",
       "      <td>1.660446e+07</td>\n",
       "      <td>5441.731667</td>\n",
       "      <td>...</td>\n",
       "      <td>3324.34</td>\n",
       "      <td>3322.66</td>\n",
       "      <td>1.224565e+07</td>\n",
       "      <td>3720.196667</td>\n",
       "      <td>1.529677e+07</td>\n",
       "      <td>4617.509167</td>\n",
       "      <td>1.444222e+07</td>\n",
       "      <td>4298.693750</td>\n",
       "      <td>1.445475e+07</td>\n",
       "      <td>4269.939792</td>\n",
       "    </tr>\n",
       "    <tr>\n",
       "      <th>36099</th>\n",
       "      <td>3182.72</td>\n",
       "      <td>3229.12</td>\n",
       "      <td>3228.81</td>\n",
       "      <td>3171.01</td>\n",
       "      <td>1.559975e+07</td>\n",
       "      <td>4892.261667</td>\n",
       "      <td>2.426865e+07</td>\n",
       "      <td>7723.345833</td>\n",
       "      <td>1.707200e+07</td>\n",
       "      <td>5575.338333</td>\n",
       "      <td>...</td>\n",
       "      <td>3340.10</td>\n",
       "      <td>3321.43</td>\n",
       "      <td>1.229441e+07</td>\n",
       "      <td>3730.353333</td>\n",
       "      <td>1.533762e+07</td>\n",
       "      <td>4633.690833</td>\n",
       "      <td>1.369385e+07</td>\n",
       "      <td>4083.521250</td>\n",
       "      <td>1.436740e+07</td>\n",
       "      <td>4244.157500</td>\n",
       "    </tr>\n",
       "    <tr>\n",
       "      <th>36100</th>\n",
       "      <td>3228.81</td>\n",
       "      <td>3229.72</td>\n",
       "      <td>3200.87</td>\n",
       "      <td>3184.85</td>\n",
       "      <td>1.387765e+07</td>\n",
       "      <td>4357.090000</td>\n",
       "      <td>1.914275e+07</td>\n",
       "      <td>6045.358333</td>\n",
       "      <td>1.731189e+07</td>\n",
       "      <td>5634.531667</td>\n",
       "      <td>...</td>\n",
       "      <td>3366.74</td>\n",
       "      <td>3338.95</td>\n",
       "      <td>1.150829e+07</td>\n",
       "      <td>3462.475000</td>\n",
       "      <td>1.621810e+07</td>\n",
       "      <td>4898.077500</td>\n",
       "      <td>1.377714e+07</td>\n",
       "      <td>4113.583750</td>\n",
       "      <td>1.440097e+07</td>\n",
       "      <td>4254.220000</td>\n",
       "    </tr>\n",
       "  </tbody>\n",
       "</table>\n",
       "<p>5 rows × 1224 columns</p>\n",
       "</div>"
      ],
      "text/plain": [
       "       var1(t-96)  var2(t-96)  var3(t-96)  var4(t-96)    var5(t-96)  \\\n",
       "36096     3191.55     3192.94     3145.95     3142.31  1.817895e+07   \n",
       "36097     3145.95     3170.07     3159.68     3142.10  1.685689e+07   \n",
       "36098     3159.68     3185.48     3182.72     3158.01  1.606055e+07   \n",
       "36099     3182.72     3229.12     3228.81     3171.01  1.559975e+07   \n",
       "36100     3228.81     3229.72     3200.87     3184.85  1.387765e+07   \n",
       "\n",
       "        var6(t-96)    var7(t-96)   var8(t-96)    var9(t-96)  var10(t-96)  \\\n",
       "36096  5732.011667  2.459202e+07  7927.283333  1.650966e+07  5434.913333   \n",
       "36097  5308.758333  2.475590e+07  7961.445000  1.649175e+07  5416.469167   \n",
       "36098  5047.965000  2.505795e+07  8039.363333  1.660446e+07  5441.731667   \n",
       "36099  4892.261667  2.426865e+07  7723.345833  1.707200e+07  5575.338333   \n",
       "36100  4357.090000  1.914275e+07  6045.358333  1.731189e+07  5634.531667   \n",
       "\n",
       "          ...       var3(t+5)  var4(t+5)     var5(t+5)    var6(t+5)  \\\n",
       "36096     ...         3315.68    3286.05  1.608918e+07  4884.011667   \n",
       "36097     ...         3335.55    3312.50  1.422703e+07  4317.170000   \n",
       "36098     ...         3324.34    3322.66  1.224565e+07  3720.196667   \n",
       "36099     ...         3340.10    3321.43  1.229441e+07  3730.353333   \n",
       "36100     ...         3366.74    3338.95  1.150829e+07  3462.475000   \n",
       "\n",
       "          var7(t+5)    var8(t+5)     var9(t+5)   var10(t+5)    var11(t+5)  \\\n",
       "36096  1.563200e+07  4710.610000  1.503810e+07  4471.563750  1.487727e+07   \n",
       "36097  1.572332e+07  4742.320833  1.494187e+07  4446.025833  1.470766e+07   \n",
       "36098  1.529677e+07  4617.509167  1.444222e+07  4298.693750  1.445475e+07   \n",
       "36099  1.533762e+07  4633.690833  1.369385e+07  4083.521250  1.436740e+07   \n",
       "36100  1.621810e+07  4898.077500  1.377714e+07  4113.583750  1.440097e+07   \n",
       "\n",
       "        var12(t+5)  \n",
       "36096  4395.017292  \n",
       "36097  4345.455625  \n",
       "36098  4269.939792  \n",
       "36099  4244.157500  \n",
       "36100  4254.220000  \n",
       "\n",
       "[5 rows x 1224 columns]"
      ]
     },
     "execution_count": 19,
     "metadata": {},
     "output_type": "execute_result"
    }
   ],
   "source": [
    "X = series_to_supervised(data=sample, n_in=Tx, n_out=Ty)\n",
    "X.head()"
   ]
  },
  {
   "cell_type": "code",
   "execution_count": 20,
   "metadata": {
    "scrolled": true
   },
   "outputs": [
    {
     "data": {
      "text/html": [
       "<div>\n",
       "<style scoped>\n",
       "    .dataframe tbody tr th:only-of-type {\n",
       "        vertical-align: middle;\n",
       "    }\n",
       "\n",
       "    .dataframe tbody tr th {\n",
       "        vertical-align: top;\n",
       "    }\n",
       "\n",
       "    .dataframe thead th {\n",
       "        text-align: right;\n",
       "    }\n",
       "</style>\n",
       "<table border=\"1\" class=\"dataframe\">\n",
       "  <thead>\n",
       "    <tr style=\"text-align: right;\">\n",
       "      <th></th>\n",
       "      <th>var1(t-96)</th>\n",
       "      <th>var1(t-95)</th>\n",
       "      <th>var1(t-94)</th>\n",
       "      <th>var1(t-93)</th>\n",
       "      <th>var1(t-92)</th>\n",
       "      <th>var1(t-91)</th>\n",
       "      <th>var1(t-90)</th>\n",
       "      <th>var1(t-89)</th>\n",
       "      <th>var1(t-88)</th>\n",
       "      <th>var1(t-87)</th>\n",
       "      <th>...</th>\n",
       "      <th>var1(t-4)</th>\n",
       "      <th>var1(t-3)</th>\n",
       "      <th>var1(t-2)</th>\n",
       "      <th>var1(t-1)</th>\n",
       "      <th>var1(t)</th>\n",
       "      <th>var1(t+1)</th>\n",
       "      <th>var1(t+2)</th>\n",
       "      <th>var1(t+3)</th>\n",
       "      <th>var1(t+4)</th>\n",
       "      <th>var1(t+5)</th>\n",
       "    </tr>\n",
       "  </thead>\n",
       "  <tbody>\n",
       "    <tr>\n",
       "      <th>96</th>\n",
       "      <td>3145.95</td>\n",
       "      <td>3159.68</td>\n",
       "      <td>3182.72</td>\n",
       "      <td>3228.81</td>\n",
       "      <td>3200.87</td>\n",
       "      <td>3297.57</td>\n",
       "      <td>3313.11</td>\n",
       "      <td>3296.30</td>\n",
       "      <td>3270.81</td>\n",
       "      <td>3254.66</td>\n",
       "      <td>...</td>\n",
       "      <td>3413.52</td>\n",
       "      <td>3392.63</td>\n",
       "      <td>3370.04</td>\n",
       "      <td>3304.35</td>\n",
       "      <td>3321.46</td>\n",
       "      <td>3326.16</td>\n",
       "      <td>3300.85</td>\n",
       "      <td>3254.24</td>\n",
       "      <td>3300.13</td>\n",
       "      <td>3315.68</td>\n",
       "    </tr>\n",
       "    <tr>\n",
       "      <th>97</th>\n",
       "      <td>3159.68</td>\n",
       "      <td>3182.72</td>\n",
       "      <td>3228.81</td>\n",
       "      <td>3200.87</td>\n",
       "      <td>3297.57</td>\n",
       "      <td>3313.11</td>\n",
       "      <td>3296.30</td>\n",
       "      <td>3270.81</td>\n",
       "      <td>3254.66</td>\n",
       "      <td>3237.78</td>\n",
       "      <td>...</td>\n",
       "      <td>3392.63</td>\n",
       "      <td>3370.04</td>\n",
       "      <td>3304.35</td>\n",
       "      <td>3321.46</td>\n",
       "      <td>3326.16</td>\n",
       "      <td>3300.85</td>\n",
       "      <td>3254.24</td>\n",
       "      <td>3300.13</td>\n",
       "      <td>3315.68</td>\n",
       "      <td>3335.55</td>\n",
       "    </tr>\n",
       "    <tr>\n",
       "      <th>98</th>\n",
       "      <td>3182.72</td>\n",
       "      <td>3228.81</td>\n",
       "      <td>3200.87</td>\n",
       "      <td>3297.57</td>\n",
       "      <td>3313.11</td>\n",
       "      <td>3296.30</td>\n",
       "      <td>3270.81</td>\n",
       "      <td>3254.66</td>\n",
       "      <td>3237.78</td>\n",
       "      <td>3235.26</td>\n",
       "      <td>...</td>\n",
       "      <td>3370.04</td>\n",
       "      <td>3304.35</td>\n",
       "      <td>3321.46</td>\n",
       "      <td>3326.16</td>\n",
       "      <td>3300.85</td>\n",
       "      <td>3254.24</td>\n",
       "      <td>3300.13</td>\n",
       "      <td>3315.68</td>\n",
       "      <td>3335.55</td>\n",
       "      <td>3324.34</td>\n",
       "    </tr>\n",
       "    <tr>\n",
       "      <th>99</th>\n",
       "      <td>3228.81</td>\n",
       "      <td>3200.87</td>\n",
       "      <td>3297.57</td>\n",
       "      <td>3313.11</td>\n",
       "      <td>3296.30</td>\n",
       "      <td>3270.81</td>\n",
       "      <td>3254.66</td>\n",
       "      <td>3237.78</td>\n",
       "      <td>3235.26</td>\n",
       "      <td>3262.80</td>\n",
       "      <td>...</td>\n",
       "      <td>3304.35</td>\n",
       "      <td>3321.46</td>\n",
       "      <td>3326.16</td>\n",
       "      <td>3300.85</td>\n",
       "      <td>3254.24</td>\n",
       "      <td>3300.13</td>\n",
       "      <td>3315.68</td>\n",
       "      <td>3335.55</td>\n",
       "      <td>3324.34</td>\n",
       "      <td>3340.10</td>\n",
       "    </tr>\n",
       "    <tr>\n",
       "      <th>100</th>\n",
       "      <td>3200.87</td>\n",
       "      <td>3297.57</td>\n",
       "      <td>3313.11</td>\n",
       "      <td>3296.30</td>\n",
       "      <td>3270.81</td>\n",
       "      <td>3254.66</td>\n",
       "      <td>3237.78</td>\n",
       "      <td>3235.26</td>\n",
       "      <td>3262.80</td>\n",
       "      <td>3271.93</td>\n",
       "      <td>...</td>\n",
       "      <td>3321.46</td>\n",
       "      <td>3326.16</td>\n",
       "      <td>3300.85</td>\n",
       "      <td>3254.24</td>\n",
       "      <td>3300.13</td>\n",
       "      <td>3315.68</td>\n",
       "      <td>3335.55</td>\n",
       "      <td>3324.34</td>\n",
       "      <td>3340.10</td>\n",
       "      <td>3366.74</td>\n",
       "    </tr>\n",
       "  </tbody>\n",
       "</table>\n",
       "<p>5 rows × 102 columns</p>\n",
       "</div>"
      ],
      "text/plain": [
       "     var1(t-96)  var1(t-95)  var1(t-94)  var1(t-93)  var1(t-92)  var1(t-91)  \\\n",
       "96      3145.95     3159.68     3182.72     3228.81     3200.87     3297.57   \n",
       "97      3159.68     3182.72     3228.81     3200.87     3297.57     3313.11   \n",
       "98      3182.72     3228.81     3200.87     3297.57     3313.11     3296.30   \n",
       "99      3228.81     3200.87     3297.57     3313.11     3296.30     3270.81   \n",
       "100     3200.87     3297.57     3313.11     3296.30     3270.81     3254.66   \n",
       "\n",
       "     var1(t-90)  var1(t-89)  var1(t-88)  var1(t-87)    ...      var1(t-4)  \\\n",
       "96      3313.11     3296.30     3270.81     3254.66    ...        3413.52   \n",
       "97      3296.30     3270.81     3254.66     3237.78    ...        3392.63   \n",
       "98      3270.81     3254.66     3237.78     3235.26    ...        3370.04   \n",
       "99      3254.66     3237.78     3235.26     3262.80    ...        3304.35   \n",
       "100     3237.78     3235.26     3262.80     3271.93    ...        3321.46   \n",
       "\n",
       "     var1(t-3)  var1(t-2)  var1(t-1)  var1(t)  var1(t+1)  var1(t+2)  \\\n",
       "96     3392.63    3370.04    3304.35  3321.46    3326.16    3300.85   \n",
       "97     3370.04    3304.35    3321.46  3326.16    3300.85    3254.24   \n",
       "98     3304.35    3321.46    3326.16  3300.85    3254.24    3300.13   \n",
       "99     3321.46    3326.16    3300.85  3254.24    3300.13    3315.68   \n",
       "100    3326.16    3300.85    3254.24  3300.13    3315.68    3335.55   \n",
       "\n",
       "     var1(t+3)  var1(t+4)  var1(t+5)  \n",
       "96     3254.24    3300.13    3315.68  \n",
       "97     3300.13    3315.68    3335.55  \n",
       "98     3315.68    3335.55    3324.34  \n",
       "99     3335.55    3324.34    3340.10  \n",
       "100    3324.34    3340.10    3366.74  \n",
       "\n",
       "[5 rows x 102 columns]"
      ]
     },
     "execution_count": 20,
     "metadata": {},
     "output_type": "execute_result"
    }
   ],
   "source": [
    "Y = series_to_supervised(data=list(sample['close']), n_in=Tx, n_out=Ty)\n",
    "Y.head()"
   ]
  },
  {
   "cell_type": "markdown",
   "metadata": {},
   "source": [
    "# train dev split"
   ]
  },
  {
   "cell_type": "code",
   "execution_count": 21,
   "metadata": {},
   "outputs": [],
   "source": [
    "\"\"\"\n",
    "Train dev split. (80/20) rule is kind of over. Taking the dev set from the end of the data set because \n",
    "that data is closest in distribution to our current testing scenario (getting real time predictions). Note: I call\n",
    "the dev set the 'test' set in the variable names, but it's really a dev set.\n",
    "\"\"\"\n",
    "X_train, X_test, Y_train, Y_test = train_test_split(X, Y, test_size=0.05, shuffle=False)\n",
    "\"\"\"\n",
    "Now trim the feature values from the outcome matrix and the outcome values from the feature matrix\n",
    "\"\"\"\n",
    "Y_test_cache = Y_test\n",
    "Y_train = Y_train.iloc[:,-Ty:]\n",
    "Y_test = Y_test.iloc[:,-Ty:]\n",
    "X_train = X_train.iloc[:,:-(Ty*N_FEATURES)]\n",
    "X_test = X_test.iloc[:,:-(Ty*N_FEATURES)]\n"
   ]
  },
  {
   "cell_type": "markdown",
   "metadata": {},
   "source": [
    "# Let's try a simple linear regression model"
   ]
  },
  {
   "cell_type": "code",
   "execution_count": 22,
   "metadata": {},
   "outputs": [
    {
     "data": {
      "text/plain": [
       "0.8525677596275509"
      ]
     },
     "execution_count": 22,
     "metadata": {},
     "output_type": "execute_result"
    }
   ],
   "source": [
    "from sklearn.linear_model import LinearRegression\n",
    "\n",
    "\n",
    "lr_model = LinearRegression()\n",
    "lr_model = lr_model.fit(X_train, Y_train)\n",
    "\n",
    "lr_model.score(X_test, Y_test)"
   ]
  },
  {
   "cell_type": "code",
   "execution_count": 23,
   "metadata": {},
   "outputs": [
    {
     "data": {
      "text/plain": [
       "(67.56365703460845, 10547.927018327455)"
      ]
     },
     "execution_count": 23,
     "metadata": {},
     "output_type": "execute_result"
    }
   ],
   "source": [
    "from sklearn.metrics import mean_absolute_error, mean_squared_error\n",
    "lr_predict = lr_model.predict(X_test)\n",
    "mean_absolute_error(lr_predict, Y_test), mean_squared_error(lr_predict, Y_test)"
   ]
  },
  {
   "cell_type": "code",
   "execution_count": null,
   "metadata": {},
   "outputs": [],
   "source": []
  },
  {
   "cell_type": "code",
   "execution_count": 24,
   "metadata": {},
   "outputs": [
    {
     "ename": "NameError",
     "evalue": "name 'project_path' is not defined",
     "output_type": "error",
     "traceback": [
      "\u001b[0;31m---------------------------------------------------------------------------\u001b[0m",
      "\u001b[0;31mNameError\u001b[0m                                 Traceback (most recent call last)",
      "\u001b[0;32m<ipython-input-24-e396c6827f93>\u001b[0m in \u001b[0;36m<module>\u001b[0;34m()\u001b[0m\n\u001b[1;32m      1\u001b[0m \u001b[0;31m# Save model\u001b[0m\u001b[0;34m\u001b[0m\u001b[0;34m\u001b[0m\u001b[0m\n\u001b[0;32m----> 2\u001b[0;31m \u001b[0;32mwith\u001b[0m \u001b[0mopen\u001b[0m\u001b[0;34m(\u001b[0m\u001b[0mproject_path\u001b[0m \u001b[0;34m+\u001b[0m \u001b[0;34m'/models/linear_model_btc.pkl'\u001b[0m\u001b[0;34m,\u001b[0m \u001b[0;34m'wb'\u001b[0m\u001b[0;34m)\u001b[0m \u001b[0;32mas\u001b[0m \u001b[0moutput_file\u001b[0m\u001b[0;34m:\u001b[0m\u001b[0;34m\u001b[0m\u001b[0m\n\u001b[0m\u001b[1;32m      3\u001b[0m     \u001b[0ms\u001b[0m \u001b[0;34m=\u001b[0m \u001b[0mpickle\u001b[0m\u001b[0;34m.\u001b[0m\u001b[0mdump\u001b[0m\u001b[0;34m(\u001b[0m\u001b[0mlr_model\u001b[0m\u001b[0;34m,\u001b[0m \u001b[0moutput_file\u001b[0m\u001b[0;34m)\u001b[0m\u001b[0;34m\u001b[0m\u001b[0m\n",
      "\u001b[0;31mNameError\u001b[0m: name 'project_path' is not defined"
     ]
    }
   ],
   "source": [
    "# Save model\n",
    "with open(project_path + '/models/linear_model_btc.pkl', 'wb') as output_file:\n",
    "    s = pickle.dump(lr_model, output_file)\n"
   ]
  },
  {
   "cell_type": "markdown",
   "metadata": {},
   "source": [
    "## Much better! Makes a lot more sense."
   ]
  },
  {
   "cell_type": "markdown",
   "metadata": {},
   "source": [
    "# Other Linear Regression"
   ]
  },
  {
   "cell_type": "markdown",
   "metadata": {},
   "source": [
    "## Lasso"
   ]
  },
  {
   "cell_type": "code",
   "execution_count": 25,
   "metadata": {},
   "outputs": [
    {
     "name": "stderr",
     "output_type": "stream",
     "text": [
      "/Users/daniel_stevenson/anaconda3/envs/go-mint-datasci-challenge/lib/python3.5/site-packages/sklearn/linear_model/coordinate_descent.py:491: ConvergenceWarning: Objective did not converge. You might want to increase the number of iterations. Fitting data with very small alpha may cause precision problems.\n",
      "  ConvergenceWarning)\n"
     ]
    },
    {
     "data": {
      "text/plain": [
       "0.879598667670454"
      ]
     },
     "execution_count": 25,
     "metadata": {},
     "output_type": "execute_result"
    }
   ],
   "source": [
    "from sklearn.linear_model import Lasso, MultiTaskLassoCV\n",
    "lasso_params = {\n",
    "    'alpha': [0.01]\n",
    "}\n",
    "lasso_model = Lasso(alpha=0.01, max_iter=10000)\n",
    "lasso_model = lasso_model.fit(X=X_train, y=Y_train)\n",
    "lasso_model.score(X=X_test, y=Y_test)"
   ]
  },
  {
   "cell_type": "code",
   "execution_count": 26,
   "metadata": {},
   "outputs": [
    {
     "data": {
      "text/plain": [
       "(58.1987294375528, 8614.021350507572)"
      ]
     },
     "execution_count": 26,
     "metadata": {},
     "output_type": "execute_result"
    }
   ],
   "source": [
    "\n",
    "lasso_predict = lasso_model.predict(X_test)\n",
    "mean_absolute_error(lasso_predict, Y_test), mean_squared_error(lasso_predict, Y_test)\n"
   ]
  },
  {
   "cell_type": "markdown",
   "metadata": {},
   "source": [
    "## Ridge\n"
   ]
  },
  {
   "cell_type": "code",
   "execution_count": 27,
   "metadata": {},
   "outputs": [
    {
     "data": {
      "text/plain": [
       "0.8690065491065722"
      ]
     },
     "execution_count": 27,
     "metadata": {},
     "output_type": "execute_result"
    }
   ],
   "source": [
    "from sklearn.linear_model import Ridge, RidgeCV\n",
    "\n",
    "ridge_model = Ridge(alpha=0.01)\n",
    "ridge_model = ridge_model.fit(X=X_train, y=Y_train)\n",
    "ridge_model.score(X=X_test, y=Y_test)"
   ]
  },
  {
   "cell_type": "code",
   "execution_count": 28,
   "metadata": {},
   "outputs": [
    {
     "data": {
      "text/plain": [
       "61.902134043458666"
      ]
     },
     "execution_count": 28,
     "metadata": {},
     "output_type": "execute_result"
    }
   ],
   "source": [
    "ridge_predict = ridge_model.predict(X_test)\n",
    "mean_absolute_error(ridge_predict, Y_test)"
   ]
  },
  {
   "cell_type": "markdown",
   "metadata": {},
   "source": [
    "## Elastic Net"
   ]
  },
  {
   "cell_type": "code",
   "execution_count": 30,
   "metadata": {},
   "outputs": [
    {
     "name": "stderr",
     "output_type": "stream",
     "text": [
      "/Users/daniel_stevenson/anaconda3/envs/go-mint-datasci-challenge/lib/python3.5/site-packages/sklearn/linear_model/coordinate_descent.py:491: ConvergenceWarning: Objective did not converge. You might want to increase the number of iterations. Fitting data with very small alpha may cause precision problems.\n",
      "  ConvergenceWarning)\n",
      "/Users/daniel_stevenson/anaconda3/envs/go-mint-datasci-challenge/lib/python3.5/site-packages/sklearn/linear_model/coordinate_descent.py:1778: ConvergenceWarning: Objective did not converge, you might want to increase the number of iterations\n",
      "  ConvergenceWarning)\n"
     ]
    },
    {
     "data": {
      "text/plain": [
       "1e-07"
      ]
     },
     "execution_count": 30,
     "metadata": {},
     "output_type": "execute_result"
    }
   ],
   "source": [
    "from sklearn.linear_model import MultiTaskElasticNet, MultiTaskElasticNetCV, ElasticNet, ElasticNetCV\n",
    "enet_params = {\n",
    "    'alpha': [0.0000001]\n",
    "}\n",
    "enet_model = MultiTaskElasticNetCV(alphas=enet_params['alpha'])\n",
    "enet_model = enet_model.fit(X=X_train, y=Y_train)\n",
    "enet_model.score(X=X_train, y=Y_train)\n",
    "enet_model.alpha_"
   ]
  },
  {
   "cell_type": "code",
   "execution_count": 31,
   "metadata": {},
   "outputs": [
    {
     "data": {
      "text/plain": [
       "(58.0005253929336, 8349.440064576107)"
      ]
     },
     "execution_count": 31,
     "metadata": {},
     "output_type": "execute_result"
    }
   ],
   "source": [
    "enet_predict = enet_model.predict(X_test)\n",
    "mean_absolute_error(enet_predict, Y_test), mean_squared_error(enet_predict, Y_test)"
   ]
  },
  {
   "cell_type": "code",
   "execution_count": 176,
   "metadata": {},
   "outputs": [
    {
     "name": "stderr",
     "output_type": "stream",
     "text": [
      "/Users/daniel_stevenson/anaconda3/envs/go-mint-datasci-challenge/lib/python3.5/site-packages/sklearn/utils/validation.py:578: DataConversionWarning: A column-vector y was passed when a 1d array was expected. Please change the shape of y to (n_samples, ), for example using ravel().\n",
      "  y = column_or_1d(y, warn=True)\n"
     ]
    },
    {
     "data": {
      "text/plain": [
       "-3.3435487358198715e+45"
      ]
     },
     "execution_count": 176,
     "metadata": {},
     "output_type": "execute_result"
    }
   ],
   "source": [
    "from sklearn.linear_model import SGDRegressor\n",
    "\n",
    "sgd_model = SGDRegressor(alpha=0.01, max_iter=10000)\n",
    "sgd_model.fit(X=X_train, y=Y_train)\n",
    "sgd_model.score(X=X_test, y=Y_test)"
   ]
  },
  {
   "cell_type": "code",
   "execution_count": 177,
   "metadata": {},
   "outputs": [
    {
     "data": {
      "text/plain": [
       "1.3102657134657168e+25"
      ]
     },
     "execution_count": 177,
     "metadata": {},
     "output_type": "execute_result"
    }
   ],
   "source": [
    "sgd_predict = sgd_model.predict(X=X_test)\n",
    "mean_absolute_error(sgd_predict, Y_test)"
   ]
  },
  {
   "cell_type": "code",
   "execution_count": 186,
   "metadata": {},
   "outputs": [
    {
     "data": {
      "image/png": "[encoded data removed]",
      "text/plain": [
       "<Figure size 648x648 with 4 Axes>"
      ]
     },
     "metadata": {},
     "output_type": "display_data"
    }
   ],
   "source": [
    "num_predict = 4\n",
    "predictions = pd.DataFrame({\n",
    "    'linear': lr_predict.ravel(),\n",
    "    'lasso': lasso_predict,\n",
    "    'ridge': ridge_predict.ravel(),\n",
    "    'enet': enet_predict,\n",
    "#     'sgd': sgd_predict\n",
    "})\n",
    "# predictions['time'] = 73\n",
    "predictions\n",
    "fig, ax = plt.subplots(num_predict, sharey=True)\n",
    "fig.set_size_inches(9,9)\n",
    "for ii, ix in enumerate(np.random.randint(0,Y_test_cache.shape[0],num_predict)):\n",
    "    axis = ax[ii]  \n",
    "    axis.plot(actual)\n",
    "#     axis.plot(predictions.iloc[[ii]])\n",
    "fig.autofmt_xdate()"
   ]
  },
  {
   "cell_type": "code",
   "execution_count": 127,
   "metadata": {},
   "outputs": [
    {
     "data": {
      "text/plain": [
       "array([1., 1.])"
      ]
     },
     "execution_count": 127,
     "metadata": {},
     "output_type": "execute_result"
    }
   ],
   "source": [
    "np.ones(predictions.shape[1])"
   ]
  },
  {
   "cell_type": "code",
   "execution_count": 130,
   "metadata": {},
   "outputs": [
    {
     "data": {
      "text/plain": [
       "array([73., 73., 73., 73., 73.])"
      ]
     },
     "execution_count": 130,
     "metadata": {},
     "output_type": "execute_result"
    }
   ],
   "source": [
    "np.ones(5)*(Tx+Ty)"
   ]
  },
  {
   "cell_type": "code",
   "execution_count": null,
   "metadata": {},
   "outputs": [],
   "source": []
  }
 ],
 "metadata": {
  "kernelspec": {
   "display_name": "Python (go-mint-datasci-challenge)",
   "language": "python",
   "name": "go-mint-datasci-challenge"
  },
  "language_info": {
   "codemirror_mode": {
    "name": "ipython",
    "version": 3
   },
   "file_extension": ".py",
   "mimetype": "text/x-python",
   "name": "python",
   "nbconvert_exporter": "python",
   "pygments_lexer": "ipython3",
   "version": "3.5.5"
  }
 },
 "nbformat": 4,
 "nbformat_minor": 2
}
