{
 "cells": [
  {
   "cell_type": "markdown",
   "metadata": {},
   "source": [
    "# Example Preprocessing Flow\n",
    "- Calculate the target as % change between sucessive raw 'close' values\n",
    "- Calculate moving averages (feature engineering)\n",
    "- Represent the input X as a time series (data_to_supervised function)\n",
    "- Train-test split and visualize"
   ]
  },
  {
   "cell_type": "code",
   "execution_count": 1,
   "metadata": {},
   "outputs": [],
   "source": [
    "%load_ext autoreload\n",
    "%autoreload 2\n",
    "p = print\n",
    "\n",
    "from os.path import join\n",
    "from datetime import datetime\n",
    "import numpy as np\n",
    "import pandas as pd\n",
    "import matplotlib.pyplot as plt\n",
    "%matplotlib inline\n",
    "from sklearn.compose import ColumnTransformer\n",
    "from sklearn.model_selection import train_test_split\n",
    "\n",
    "from crypr.transformers import MovingAverageTransformer, PercentChangeTransformer, PassthroughTransformer\n",
    "from crypr.build import data_to_supervised\n",
    "from crypr.util import get_project_path\n",
    "\n",
    "coin = 'BTC'\n",
    "data_path = join(get_project_path(), 'data', 'raw', coin + '.csv')"
   ]
  },
  {
   "cell_type": "code",
   "execution_count": 2,
   "metadata": {},
   "outputs": [
    {
     "name": "stdout",
     "output_type": "stream",
     "text": [
      "(5999, 8)\n"
     ]
    },
    {
     "data": {
      "text/html": [
       "<div>\n",
       "<style scoped>\n",
       "    .dataframe tbody tr th:only-of-type {\n",
       "        vertical-align: middle;\n",
       "    }\n",
       "\n",
       "    .dataframe tbody tr th {\n",
       "        vertical-align: top;\n",
       "    }\n",
       "\n",
       "    .dataframe thead th {\n",
       "        text-align: right;\n",
       "    }\n",
       "</style>\n",
       "<table border=\"1\" class=\"dataframe\">\n",
       "  <thead>\n",
       "    <tr style=\"text-align: right;\">\n",
       "      <th></th>\n",
       "      <th>volumeto</th>\n",
       "      <th>volumefrom</th>\n",
       "      <th>open</th>\n",
       "      <th>high</th>\n",
       "      <th>close</th>\n",
       "      <th>low</th>\n",
       "      <th>time</th>\n",
       "      <th>timestamp</th>\n",
       "    </tr>\n",
       "  </thead>\n",
       "  <tbody>\n",
       "    <tr>\n",
       "      <th>0</th>\n",
       "      <td>31945931.52</td>\n",
       "      <td>4543.22</td>\n",
       "      <td>6981.40</td>\n",
       "      <td>7033.84</td>\n",
       "      <td>6990.50</td>\n",
       "      <td>6965.26</td>\n",
       "      <td>1533398400</td>\n",
       "      <td>2018-08-04 18:00:00</td>\n",
       "    </tr>\n",
       "    <tr>\n",
       "      <th>1</th>\n",
       "      <td>33767469.12</td>\n",
       "      <td>4827.43</td>\n",
       "      <td>6990.50</td>\n",
       "      <td>7009.00</td>\n",
       "      <td>6994.01</td>\n",
       "      <td>6940.15</td>\n",
       "      <td>1533402000</td>\n",
       "      <td>2018-08-04 19:00:00</td>\n",
       "    </tr>\n",
       "    <tr>\n",
       "      <th>2</th>\n",
       "      <td>16113762.85</td>\n",
       "      <td>2294.64</td>\n",
       "      <td>6994.04</td>\n",
       "      <td>7021.10</td>\n",
       "      <td>6987.21</td>\n",
       "      <td>6974.37</td>\n",
       "      <td>1533405600</td>\n",
       "      <td>2018-08-04 20:00:00</td>\n",
       "    </tr>\n",
       "    <tr>\n",
       "      <th>3</th>\n",
       "      <td>12767529.31</td>\n",
       "      <td>1818.26</td>\n",
       "      <td>6987.18</td>\n",
       "      <td>7011.62</td>\n",
       "      <td>6999.45</td>\n",
       "      <td>6968.15</td>\n",
       "      <td>1533409200</td>\n",
       "      <td>2018-08-04 21:00:00</td>\n",
       "    </tr>\n",
       "    <tr>\n",
       "      <th>4</th>\n",
       "      <td>12529037.86</td>\n",
       "      <td>1784.83</td>\n",
       "      <td>6999.45</td>\n",
       "      <td>7008.70</td>\n",
       "      <td>6992.18</td>\n",
       "      <td>6974.95</td>\n",
       "      <td>1533412800</td>\n",
       "      <td>2018-08-04 22:00:00</td>\n",
       "    </tr>\n",
       "  </tbody>\n",
       "</table>\n",
       "</div>"
      ],
      "text/plain": [
       "      volumeto  volumefrom     open     high    close      low        time  \\\n",
       "0  31945931.52     4543.22  6981.40  7033.84  6990.50  6965.26  1533398400   \n",
       "1  33767469.12     4827.43  6990.50  7009.00  6994.01  6940.15  1533402000   \n",
       "2  16113762.85     2294.64  6994.04  7021.10  6987.21  6974.37  1533405600   \n",
       "3  12767529.31     1818.26  6987.18  7011.62  6999.45  6968.15  1533409200   \n",
       "4  12529037.86     1784.83  6999.45  7008.70  6992.18  6974.95  1533412800   \n",
       "\n",
       "             timestamp  \n",
       "0  2018-08-04 18:00:00  \n",
       "1  2018-08-04 19:00:00  \n",
       "2  2018-08-04 20:00:00  \n",
       "3  2018-08-04 21:00:00  \n",
       "4  2018-08-04 22:00:00  "
      ]
     },
     "execution_count": 2,
     "metadata": {},
     "output_type": "execute_result"
    }
   ],
   "source": [
    "data = pd.read_csv(data_path, index_col=0)\n",
    "p(data.shape)\n",
    "data.head()"
   ]
  },
  {
   "cell_type": "code",
   "execution_count": 3,
   "metadata": {},
   "outputs": [],
   "source": [
    "preprocessing_config = {\n",
    "    'passthrough': ['close', 'low', 'high'],\n",
    "    'moving_average': ['close', 'volumeto', 'volumefrom'],\n",
    "    'target': 'close',\n",
    "    'tx': 72,\n",
    "    'ty': 1,\n",
    "    'test_fraction': .05,\n",
    "    'truncate': (6000),\n",
    "    'truncate_keep_last': True,\n",
    "}\n",
    "pc = preprocessing_config"
   ]
  },
  {
   "cell_type": "code",
   "execution_count": 4,
   "metadata": {},
   "outputs": [
    {
     "data": {
      "text/plain": [
       "['passthrough__close',\n",
       " 'passthrough__low',\n",
       " 'passthrough__high',\n",
       " 'ma03__close',\n",
       " 'ma03__volumeto',\n",
       " 'ma03__volumefrom',\n",
       " 'ma06__close',\n",
       " 'ma06__volumeto',\n",
       " 'ma06__volumefrom',\n",
       " 'ma12__close',\n",
       " 'ma12__volumeto',\n",
       " 'ma12__volumefrom',\n",
       " 'ma24__close',\n",
       " 'ma24__volumeto',\n",
       " 'ma24__volumefrom',\n",
       " 'ma48__close',\n",
       " 'ma48__volumeto',\n",
       " 'ma48__volumefrom',\n",
       " 'make_target__close']"
      ]
     },
     "execution_count": 4,
     "metadata": {},
     "output_type": "execute_result"
    }
   ],
   "source": [
    "transforms = [\n",
    "    ('passthrough', PassthroughTransformer(), pc['passthrough']),\n",
    "    ('ma03', MovingAverageTransformer(3), pc['moving_average']),\n",
    "    ('ma06', MovingAverageTransformer(6), pc['moving_average']),\n",
    "    ('ma12', MovingAverageTransformer(12), pc['moving_average']),\n",
    "    ('ma24', MovingAverageTransformer(24), pc['moving_average']),\n",
    "    ('ma48', MovingAverageTransformer(48), pc['moving_average']),\n",
    "    ('make_target', PercentChangeTransformer(), [pc['target']]),\n",
    "]\n",
    "ct = ColumnTransformer(transforms, remainder='drop', n_jobs=-1)\n",
    "ct = ct.fit(data)\n",
    "features = ct.get_feature_names()\n",
    "features"
   ]
  },
  {
   "cell_type": "code",
   "execution_count": 5,
   "metadata": {},
   "outputs": [
    {
     "data": {
      "text/plain": [
       "array([[ 6.98363000e+03,  6.94810000e+03,  6.99364000e+03, ...,\n",
       "         1.62393870e+07,  2.30957938e+03,  3.22214561e-01],\n",
       "       [ 6.93125000e+03,  6.92472000e+03,  6.99167000e+03, ...,\n",
       "         1.59647115e+07,  2.27097813e+03, -7.50039736e-01],\n",
       "       [ 6.93411000e+03,  6.93134000e+03,  6.95629000e+03, ...,\n",
       "         1.55152897e+07,  2.20688167e+03,  4.12623986e-02],\n",
       "       ...,\n",
       "       [ 5.04533000e+03,  5.04533000e+03,  5.06147000e+03, ...,\n",
       "         1.45279718e+07,  2.77146696e+03, -3.18879693e-01],\n",
       "       [ 5.04005000e+03,  5.04005000e+03,  5.04533000e+03, ...,\n",
       "         1.43790803e+07,  2.74388112e+03, -1.04651232e-01],\n",
       "       [ 5.05567000e+03,  5.02910000e+03,  5.07508000e+03, ...,\n",
       "         1.42148299e+07,  2.71266571e+03,  3.09917560e-01]])"
      ]
     },
     "execution_count": 5,
     "metadata": {},
     "output_type": "execute_result"
    }
   ],
   "source": [
    "arr = ct.transform(data)\n",
    "arr = arr[~np.isnan(arr).any(axis=1)]\n",
    "arr.view()"
   ]
  },
  {
   "cell_type": "code",
   "execution_count": 6,
   "metadata": {},
   "outputs": [
    {
     "data": {
      "image/png": "[encoded data removed]",
      "text/plain": [
       "<Figure size 432x288 with 1 Axes>"
      ]
     },
     "metadata": {
      "needs_background": "light"
     },
     "output_type": "display_data"
    },
    {
     "data": {
      "image/png": "[encoded data removed]",
      "text/plain": [
       "<Figure size 432x288 with 1 Axes>"
      ]
     },
     "metadata": {
      "needs_background": "light"
     },
     "output_type": "display_data"
    }
   ],
   "source": [
    "plt.figure(); plt.plot(arr[:, features.index('passthrough__close')]); plt.title('close')\n",
    "plt.figure(); plt.plot(arr[:, features.index('make_target__close')]); plt.title('target')\n",
    "# plt.figure(); plt.plot(df.filter(regex='v(t|f)')); plt.title('v(t|f)')\n",
    "plt.show()"
   ]
  },
  {
   "cell_type": "code",
   "execution_count": 7,
   "metadata": {},
   "outputs": [
    {
     "name": "stdout",
     "output_type": "stream",
     "text": [
      "Number of Unique Features: 18\n",
      "Number of Hours per Sample: 72\n",
      "Total Features per Sample: 1296\n"
     ]
    }
   ],
   "source": [
    "num_features = arr.shape[1] - pc['ty']\n",
    "p('Number of Unique Features:', num_features)\n",
    "p('Number of Hours per Sample:', pc['tx'])\n",
    "p('Total Features per Sample:', pc['tx']*num_features)"
   ]
  },
  {
   "cell_type": "code",
   "execution_count": 8,
   "metadata": {},
   "outputs": [
    {
     "name": "stdout",
     "output_type": "stream",
     "text": [
      "    var1(t-72)  var2(t-72)  var3(t-72)   var4(t-72)    var5(t-72)  \\\n",
      "72     6983.63     6948.10     6993.64  6960.886667  1.963340e+07   \n",
      "73     6931.25     6924.72     6991.67  6958.693333  1.548184e+07   \n",
      "\n",
      "     var6(t-72)   var7(t-72)    var8(t-72)  var9(t-72)  var10(t-72)  ...  \\\n",
      "72  2822.826667  6973.428333  1.651641e+07    2368.195  7009.180000  ...   \n",
      "73  2219.570000  6963.413333  1.746497e+07    2505.475  6995.824167  ...   \n",
      "\n",
      "     var10(t-1)    var11(t-1)   var12(t-1)   var13(t-1)    var14(t-1)  \\\n",
      "72  6352.301667  2.622451e+07  4119.527500  6331.336667  3.091387e+07   \n",
      "73  6362.810000  2.813517e+07  4406.171667  6329.999583  3.184085e+07   \n",
      "\n",
      "     var15(t-1)   var16(t-1)    var17(t-1)   var18(t-1)  var19(t-1)  \n",
      "72  4882.572917  6510.597708  3.154096e+07  4849.238542    1.167292  \n",
      "73  5024.923333  6496.710833  3.205902e+07  4932.590625   -0.872744  \n",
      "\n",
      "[2 rows x 1368 columns]\n",
      "     var1(t)\n",
      "72 -0.872744\n",
      "73  0.084648\n",
      "74  0.400574\n",
      "75 -0.010491\n",
      "76 -0.012190\n"
     ]
    }
   ],
   "source": [
    "X, y = data_to_supervised(input_df=pd.DataFrame(data=arr, columns=ct.get_feature_names()), \n",
    "                                                target_ix=-1, Tx=pc['tx'], Ty=pc['ty'])\n",
    "p(X.head(2))\n",
    "p(y.head(5))"
   ]
  },
  {
   "cell_type": "code",
   "execution_count": 9,
   "metadata": {},
   "outputs": [
    {
     "name": "stdout",
     "output_type": "stream",
     "text": [
      "Train shape:  (5586, 1368)\n",
      "Test shape:  (294, 1368)\n"
     ]
    }
   ],
   "source": [
    "X_train, X_test, y_train, y_test = train_test_split(X, y, test_size=pc['test_fraction'], shuffle=False)\n",
    "p('Train shape: ', X_train.shape)\n",
    "p('Test shape: ', X_test.shape)"
   ]
  },
  {
   "cell_type": "code",
   "execution_count": 10,
   "metadata": {},
   "outputs": [
    {
     "data": {
      "image/png": "[encoded data removed]",
      "text/plain": [
       "<Figure size 720x360 with 1 Axes>"
      ]
     },
     "metadata": {
      "needs_background": "light"
     },
     "output_type": "display_data"
    }
   ],
   "source": [
    "fig, ax = plt.subplots(1, figsize=(10, 5))\n",
    "ax.plot(y_train, label='train')\n",
    "ax.plot(y_test, label='test')\n",
    "plt.title('Target Variable: Train Test Split')\n",
    "fig.legend()\n",
    "plt.show()"
   ]
  }
 ],
 "metadata": {
  "kernelspec": {
   "display_name": "Python (crypto_predict)",
   "language": "python",
   "name": "crypto_predict"
  },
  "language_info": {
   "codemirror_mode": {
    "name": "ipython",
    "version": 3
   },
   "file_extension": ".py",
   "mimetype": "text/x-python",
   "name": "python",
   "nbconvert_exporter": "python",
   "pygments_lexer": "ipython3",
   "version": "3.6.7"
  }
 },
 "nbformat": 4,
 "nbformat_minor": 2
}
