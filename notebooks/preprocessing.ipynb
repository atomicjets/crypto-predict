{
 "cells": [
  {
   "cell_type": "markdown",
   "metadata": {},
   "source": [
    "# Example Preprocessing Flow\n",
    "- Calculate the target as % change between sucessive raw 'close' values\n",
    "- Calculate moving averages (feature engineering)\n",
    "- Represent the input X as a time series (data_to_supervised function)\n",
    "- Train-test split and visualize"
   ]
  },
  {
   "cell_type": "code",
   "execution_count": 1,
   "metadata": {},
   "outputs": [],
   "source": [
    "%load_ext autoreload\n",
    "%autoreload 2\n",
    "p = print\n",
    "\n",
    "from os.path import join\n",
    "from datetime import datetime\n",
    "import numpy as np\n",
    "import pandas as pd\n",
    "import matplotlib.pyplot as plt\n",
    "%matplotlib inline\n",
    "from sklearn.compose import ColumnTransformer\n",
    "from sklearn.model_selection import train_test_split\n",
    "\n",
    "from crypr.transformers import MovingAverageTransformer, PercentChangeTransformer, PassthroughTransformer\n",
    "from crypr.build import data_to_supervised\n",
    "from crypr.util import get_project_path\n",
    "\n",
    "coin = 'BTC'\n",
    "data_path = join(get_project_path(), 'data', 'raw', coin + '.csv')"
   ]
  },
  {
   "cell_type": "code",
   "execution_count": 2,
   "metadata": {},
   "outputs": [
    {
     "name": "stdout",
     "output_type": "stream",
     "text": [
      "(5999, 8)\n"
     ]
    },
    {
     "data": {
      "text/html": [
       "<div>\n",
       "<style scoped>\n",
       "    .dataframe tbody tr th:only-of-type {\n",
       "        vertical-align: middle;\n",
       "    }\n",
       "\n",
       "    .dataframe tbody tr th {\n",
       "        vertical-align: top;\n",
       "    }\n",
       "\n",
       "    .dataframe thead th {\n",
       "        text-align: right;\n",
       "    }\n",
       "</style>\n",
       "<table border=\"1\" class=\"dataframe\">\n",
       "  <thead>\n",
       "    <tr style=\"text-align: right;\">\n",
       "      <th></th>\n",
       "      <th>volumeto</th>\n",
       "      <th>volumefrom</th>\n",
       "      <th>open</th>\n",
       "      <th>high</th>\n",
       "      <th>close</th>\n",
       "      <th>low</th>\n",
       "      <th>time</th>\n",
       "      <th>timestamp</th>\n",
       "    </tr>\n",
       "  </thead>\n",
       "  <tbody>\n",
       "    <tr>\n",
       "      <th>0</th>\n",
       "      <td>11679250.09</td>\n",
       "      <td>1420.13</td>\n",
       "      <td>8228.41</td>\n",
       "      <td>8231.84</td>\n",
       "      <td>8196.22</td>\n",
       "      <td>8188.29</td>\n",
       "      <td>1532836800</td>\n",
       "      <td>2018-07-29 06:00:00</td>\n",
       "    </tr>\n",
       "    <tr>\n",
       "      <th>1</th>\n",
       "      <td>8812752.64</td>\n",
       "      <td>1072.57</td>\n",
       "      <td>8196.44</td>\n",
       "      <td>8226.30</td>\n",
       "      <td>8211.36</td>\n",
       "      <td>8190.38</td>\n",
       "      <td>1532840400</td>\n",
       "      <td>2018-07-29 07:00:00</td>\n",
       "    </tr>\n",
       "    <tr>\n",
       "      <th>2</th>\n",
       "      <td>7966303.56</td>\n",
       "      <td>969.86</td>\n",
       "      <td>8211.37</td>\n",
       "      <td>8214.82</td>\n",
       "      <td>8200.12</td>\n",
       "      <td>8199.24</td>\n",
       "      <td>1532844000</td>\n",
       "      <td>2018-07-29 08:00:00</td>\n",
       "    </tr>\n",
       "    <tr>\n",
       "      <th>3</th>\n",
       "      <td>10236329.48</td>\n",
       "      <td>1246.57</td>\n",
       "      <td>8200.12</td>\n",
       "      <td>8216.15</td>\n",
       "      <td>8178.36</td>\n",
       "      <td>8175.14</td>\n",
       "      <td>1532847600</td>\n",
       "      <td>2018-07-29 09:00:00</td>\n",
       "    </tr>\n",
       "    <tr>\n",
       "      <th>4</th>\n",
       "      <td>13369556.62</td>\n",
       "      <td>1637.23</td>\n",
       "      <td>8178.36</td>\n",
       "      <td>8179.49</td>\n",
       "      <td>8153.85</td>\n",
       "      <td>8134.48</td>\n",
       "      <td>1532851200</td>\n",
       "      <td>2018-07-29 10:00:00</td>\n",
       "    </tr>\n",
       "  </tbody>\n",
       "</table>\n",
       "</div>"
      ],
      "text/plain": [
       "      volumeto  volumefrom     open     high    close      low        time  \\\n",
       "0  11679250.09     1420.13  8228.41  8231.84  8196.22  8188.29  1532836800   \n",
       "1   8812752.64     1072.57  8196.44  8226.30  8211.36  8190.38  1532840400   \n",
       "2   7966303.56      969.86  8211.37  8214.82  8200.12  8199.24  1532844000   \n",
       "3  10236329.48     1246.57  8200.12  8216.15  8178.36  8175.14  1532847600   \n",
       "4  13369556.62     1637.23  8178.36  8179.49  8153.85  8134.48  1532851200   \n",
       "\n",
       "             timestamp  \n",
       "0  2018-07-29 06:00:00  \n",
       "1  2018-07-29 07:00:00  \n",
       "2  2018-07-29 08:00:00  \n",
       "3  2018-07-29 09:00:00  \n",
       "4  2018-07-29 10:00:00  "
      ]
     },
     "execution_count": 2,
     "metadata": {},
     "output_type": "execute_result"
    }
   ],
   "source": [
    "data = pd.read_csv(data_path, index_col=0)\n",
    "p(data.shape)\n",
    "data.head()"
   ]
  },
  {
   "cell_type": "code",
   "execution_count": 3,
   "metadata": {},
   "outputs": [],
   "source": [
    "preprocessing_config = {\n",
    "    'passthrough': ['close', 'low', 'high'],\n",
    "    'moving_average': ['close', 'volumeto', 'volumefrom'],\n",
    "    'target': 'close',\n",
    "    'tx': 72,\n",
    "    'ty': 1,\n",
    "    'test_fraction': .05,\n",
    "    'truncate': (6000),\n",
    "    'truncate_keep_last': True,\n",
    "}\n",
    "pc = preprocessing_config"
   ]
  },
  {
   "cell_type": "code",
   "execution_count": 4,
   "metadata": {},
   "outputs": [
    {
     "data": {
      "text/plain": [
       "['passthrough__close',\n",
       " 'passthrough__low',\n",
       " 'passthrough__high',\n",
       " 'ma03__close',\n",
       " 'ma03__volumeto',\n",
       " 'ma03__volumefrom',\n",
       " 'ma06__close',\n",
       " 'ma06__volumeto',\n",
       " 'ma06__volumefrom',\n",
       " 'ma12__close',\n",
       " 'ma12__volumeto',\n",
       " 'ma12__volumefrom',\n",
       " 'ma24__close',\n",
       " 'ma24__volumeto',\n",
       " 'ma24__volumefrom',\n",
       " 'ma48__close',\n",
       " 'ma48__volumeto',\n",
       " 'ma48__volumefrom',\n",
       " 'make_target__close']"
      ]
     },
     "execution_count": 4,
     "metadata": {},
     "output_type": "execute_result"
    }
   ],
   "source": [
    "transforms = [\n",
    "    ('passthrough', PassthroughTransformer(), pc['passthrough']),\n",
    "    ('ma03', MovingAverageTransformer(3), pc['moving_average']),\n",
    "    ('ma06', MovingAverageTransformer(6), pc['moving_average']),\n",
    "    ('ma12', MovingAverageTransformer(12), pc['moving_average']),\n",
    "    ('ma24', MovingAverageTransformer(24), pc['moving_average']),\n",
    "    ('ma48', MovingAverageTransformer(48), pc['moving_average']),\n",
    "    ('make_target', PercentChangeTransformer(), [pc['target']]),\n",
    "]\n",
    "ct = ColumnTransformer(transforms, remainder='drop', n_jobs=-1)\n",
    "ct = ct.fit(data)\n",
    "features = ct.get_feature_names()\n",
    "features"
   ]
  },
  {
   "cell_type": "code",
   "execution_count": 5,
   "metadata": {},
   "outputs": [
    {
     "data": {
      "text/plain": [
       "array([[ 8.13110000e+03,  8.12034000e+03,  8.13380000e+03, ...,\n",
       "         1.97005373e+07,  2.42023938e+03,  5.27882404e-02],\n",
       "       [ 8.12439000e+03,  8.08844000e+03,  8.13266000e+03, ...,\n",
       "         1.98267471e+07,  2.43614833e+03, -8.25226599e-02],\n",
       "       [ 8.13861000e+03,  8.11744000e+03,  8.14239000e+03, ...,\n",
       "         1.99794971e+07,  2.45513062e+03,  1.75028525e-01],\n",
       "       ...,\n",
       "       [ 4.94816000e+03,  4.91336000e+03,  4.96996000e+03, ...,\n",
       "         2.37813492e+07,  4.72450792e+03,  7.08272954e-01],\n",
       "       [ 4.92459000e+03,  4.92069000e+03,  4.95273000e+03, ...,\n",
       "         2.34177216e+07,  4.65124729e+03, -4.76338679e-01],\n",
       "       [ 4.92677000e+03,  4.92358000e+03,  4.93127000e+03, ...,\n",
       "         2.24633220e+07,  4.46135667e+03,  4.42676446e-02]])"
      ]
     },
     "execution_count": 5,
     "metadata": {},
     "output_type": "execute_result"
    }
   ],
   "source": [
    "arr = ct.transform(data)\n",
    "arr = arr[~np.isnan(arr).any(axis=1)]\n",
    "arr.view()"
   ]
  },
  {
   "cell_type": "code",
   "execution_count": 6,
   "metadata": {},
   "outputs": [
    {
     "data": {
      "image/png": "[encoded data removed]",
      "text/plain": [
       "<Figure size 432x288 with 1 Axes>"
      ]
     },
     "metadata": {
      "needs_background": "light"
     },
     "output_type": "display_data"
    },
    {
     "data": {
      "image/png": "[encoded data removed]",
      "text/plain": [
       "<Figure size 432x288 with 1 Axes>"
      ]
     },
     "metadata": {
      "needs_background": "light"
     },
     "output_type": "display_data"
    }
   ],
   "source": [
    "plt.figure(); plt.plot(arr[:, features.index('passthrough__close')]); plt.title('close')\n",
    "plt.figure(); plt.plot(arr[:, features.index('make_target__close')]); plt.title('target')\n",
    "# plt.figure(); plt.plot(df.filter(regex='v(t|f)')); plt.title('v(t|f)')\n",
    "plt.show()"
   ]
  },
  {
   "cell_type": "code",
   "execution_count": 7,
   "metadata": {},
   "outputs": [
    {
     "name": "stdout",
     "output_type": "stream",
     "text": [
      "Number of Unique Features: 18\n",
      "Number of Hours per Sample: 72\n",
      "Total Features per Sample: 1296\n"
     ]
    }
   ],
   "source": [
    "num_features = arr.shape[1] - pc['ty']\n",
    "p('Number of Unique Features:', num_features)\n",
    "p('Number of Hours per Sample:', pc['tx'])\n",
    "p('Total Features per Sample:', pc['tx']*num_features)"
   ]
  },
  {
   "cell_type": "code",
   "execution_count": 8,
   "metadata": {},
   "outputs": [
    {
     "name": "stdout",
     "output_type": "stream",
     "text": [
      "    var1(t-72)  var2(t-72)  var3(t-72)   var4(t-72)    var5(t-72)  \\\n",
      "72     8131.10     8120.34     8133.80  8126.856667  1.169669e+07   \n",
      "73     8124.39     8088.44     8132.66  8127.433333  1.314026e+07   \n",
      "\n",
      "     var6(t-72)   var7(t-72)    var8(t-72)  var9(t-72)  var10(t-72)  ...  \\\n",
      "72  1434.026667  8142.016667  1.678302e+07    2053.915  8104.939167  ...   \n",
      "73  1613.140000  8135.195000  1.473532e+07    1806.600  8104.979167  ...   \n",
      "\n",
      "     var10(t-1)    var11(t-1)   var12(t-1)   var13(t-1)    var14(t-1)  \\\n",
      "72  7498.734167  2.292557e+07  3060.597500  7552.270417  1.981683e+07   \n",
      "73  7482.529167  2.294011e+07  3066.153333  7539.219583  1.986820e+07   \n",
      "\n",
      "     var15(t-1)   var16(t-1)    var17(t-1)   var18(t-1)  var19(t-1)  \n",
      "72  2625.869583  7568.170833  2.118826e+07  2798.270000    0.154711  \n",
      "73  2635.506667  7563.776250  2.087315e+07  2757.428958   -0.291283  \n",
      "\n",
      "[2 rows x 1368 columns]\n",
      "     var1(t)\n",
      "72 -0.291283\n",
      "73  0.360807\n",
      "74 -0.445993\n",
      "75  0.457128\n",
      "76  0.426811\n"
     ]
    }
   ],
   "source": [
    "X, y = data_to_supervised(input_df=arr, target_ix=-1, Tx=pc['tx'], Ty=pc['ty'])\n",
    "p(X.head(2))\n",
    "p(y.head(5))"
   ]
  },
  {
   "cell_type": "code",
   "execution_count": 9,
   "metadata": {},
   "outputs": [
    {
     "name": "stdout",
     "output_type": "stream",
     "text": [
      "Train shape:  (5586, 1368)\n",
      "Test shape:  (294, 1368)\n"
     ]
    }
   ],
   "source": [
    "X_train, X_test, y_train, y_test = train_test_split(X, y, test_size=pc['test_fraction'], shuffle=False)\n",
    "p('Train shape: ', X_train.shape)\n",
    "p('Test shape: ', X_test.shape)"
   ]
  },
  {
   "cell_type": "code",
   "execution_count": 10,
   "metadata": {},
   "outputs": [
    {
     "data": {
      "image/png": "[encoded data removed]",
      "text/plain": [
       "<Figure size 720x360 with 1 Axes>"
      ]
     },
     "metadata": {
      "needs_background": "light"
     },
     "output_type": "display_data"
    }
   ],
   "source": [
    "fig, ax = plt.subplots(1, figsize=(10, 5))\n",
    "ax.plot(y_train, label='train')\n",
    "ax.plot(y_test, label='test')\n",
    "plt.title('Target Variable: Train Test Split')\n",
    "fig.legend()\n",
    "plt.show()"
   ]
  }
 ],
 "metadata": {
  "kernelspec": {
   "display_name": "Python (crypto_predict)",
   "language": "python",
   "name": "crypto_predict"
  },
  "language_info": {
   "codemirror_mode": {
    "name": "ipython",
    "version": 3
   },
   "file_extension": ".py",
   "mimetype": "text/x-python",
   "name": "python",
   "nbconvert_exporter": "python",
   "pygments_lexer": "ipython3",
   "version": "3.6.7"
  }
 },
 "nbformat": 4,
 "nbformat_minor": 2
}
