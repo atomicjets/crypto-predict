{
 "cells": [
  {
   "cell_type": "markdown",
   "metadata": {},
   "source": [
    "# Multiple Variable Wavelet Preprocessing"
   ]
  },
  {
   "cell_type": "code",
   "execution_count": 1,
   "metadata": {},
   "outputs": [],
   "source": [
    "%load_ext autoreload\n",
    "%autoreload 2\n",
    "p = print\n",
    "\n",
    "from os.path import join\n",
    "\n",
    "import pandas as pd\n",
    "import numpy as np\n",
    "\n",
    "from sklearn.model_selection import train_test_split\n",
    "\n",
    "from scipy import signal\n",
    "import pywt\n",
    "\n",
    "from crypr.util import get_project_path\n",
    "from crypr.build import make_features, data_to_supervised"
   ]
  },
  {
   "cell_type": "code",
   "execution_count": 2,
   "metadata": {},
   "outputs": [
    {
     "data": {
      "text/html": [
       "<div>\n",
       "<style scoped>\n",
       "    .dataframe tbody tr th:only-of-type {\n",
       "        vertical-align: middle;\n",
       "    }\n",
       "\n",
       "    .dataframe tbody tr th {\n",
       "        vertical-align: top;\n",
       "    }\n",
       "\n",
       "    .dataframe thead th {\n",
       "        text-align: right;\n",
       "    }\n",
       "</style>\n",
       "<table border=\"1\" class=\"dataframe\">\n",
       "  <thead>\n",
       "    <tr style=\"text-align: right;\">\n",
       "      <th></th>\n",
       "      <th>volumeto</th>\n",
       "      <th>volumefrom</th>\n",
       "      <th>open</th>\n",
       "      <th>high</th>\n",
       "      <th>close</th>\n",
       "      <th>low</th>\n",
       "      <th>time</th>\n",
       "      <th>timestamp</th>\n",
       "    </tr>\n",
       "  </thead>\n",
       "  <tbody>\n",
       "    <tr>\n",
       "      <th>0</th>\n",
       "      <td>11679250.09</td>\n",
       "      <td>1420.13</td>\n",
       "      <td>8228.41</td>\n",
       "      <td>8231.84</td>\n",
       "      <td>8196.22</td>\n",
       "      <td>8188.29</td>\n",
       "      <td>1532836800</td>\n",
       "      <td>2018-07-29 06:00:00</td>\n",
       "    </tr>\n",
       "    <tr>\n",
       "      <th>1</th>\n",
       "      <td>8812752.64</td>\n",
       "      <td>1072.57</td>\n",
       "      <td>8196.44</td>\n",
       "      <td>8226.30</td>\n",
       "      <td>8211.36</td>\n",
       "      <td>8190.38</td>\n",
       "      <td>1532840400</td>\n",
       "      <td>2018-07-29 07:00:00</td>\n",
       "    </tr>\n",
       "    <tr>\n",
       "      <th>2</th>\n",
       "      <td>7966303.56</td>\n",
       "      <td>969.86</td>\n",
       "      <td>8211.37</td>\n",
       "      <td>8214.82</td>\n",
       "      <td>8200.12</td>\n",
       "      <td>8199.24</td>\n",
       "      <td>1532844000</td>\n",
       "      <td>2018-07-29 08:00:00</td>\n",
       "    </tr>\n",
       "    <tr>\n",
       "      <th>3</th>\n",
       "      <td>10236329.48</td>\n",
       "      <td>1246.57</td>\n",
       "      <td>8200.12</td>\n",
       "      <td>8216.15</td>\n",
       "      <td>8178.36</td>\n",
       "      <td>8175.14</td>\n",
       "      <td>1532847600</td>\n",
       "      <td>2018-07-29 09:00:00</td>\n",
       "    </tr>\n",
       "    <tr>\n",
       "      <th>4</th>\n",
       "      <td>13369556.62</td>\n",
       "      <td>1637.23</td>\n",
       "      <td>8178.36</td>\n",
       "      <td>8179.49</td>\n",
       "      <td>8153.85</td>\n",
       "      <td>8134.48</td>\n",
       "      <td>1532851200</td>\n",
       "      <td>2018-07-29 10:00:00</td>\n",
       "    </tr>\n",
       "  </tbody>\n",
       "</table>\n",
       "</div>"
      ],
      "text/plain": [
       "      volumeto  volumefrom     open     high    close      low        time  \\\n",
       "0  11679250.09     1420.13  8228.41  8231.84  8196.22  8188.29  1532836800   \n",
       "1   8812752.64     1072.57  8196.44  8226.30  8211.36  8190.38  1532840400   \n",
       "2   7966303.56      969.86  8211.37  8214.82  8200.12  8199.24  1532844000   \n",
       "3  10236329.48     1246.57  8200.12  8216.15  8178.36  8175.14  1532847600   \n",
       "4  13369556.62     1637.23  8178.36  8179.49  8153.85  8134.48  1532851200   \n",
       "\n",
       "             timestamp  \n",
       "0  2018-07-29 06:00:00  \n",
       "1  2018-07-29 07:00:00  \n",
       "2  2018-07-29 08:00:00  \n",
       "3  2018-07-29 09:00:00  \n",
       "4  2018-07-29 10:00:00  "
      ]
     },
     "execution_count": 2,
     "metadata": {},
     "output_type": "execute_result"
    }
   ],
   "source": [
    "SYM = 'BTC'\n",
    "TARGET = 'close'\n",
    "Tx = 72\n",
    "Ty = 1\n",
    "TEST_SIZE = 0.05\n",
    "\n",
    "data_path = join(get_project_path(), 'data', 'raw', SYM + '.csv')\n",
    "data = pd.read_csv(data_path, index_col=0)\n",
    "data.head()"
   ]
  },
  {
   "cell_type": "code",
   "execution_count": 3,
   "metadata": {},
   "outputs": [
    {
     "name": "stdout",
     "output_type": "stream",
     "text": [
      "(5926, 72) (5926, 1)\n"
     ]
    },
    {
     "data": {
      "text/html": [
       "<div>\n",
       "<style scoped>\n",
       "    .dataframe tbody tr th:only-of-type {\n",
       "        vertical-align: middle;\n",
       "    }\n",
       "\n",
       "    .dataframe tbody tr th {\n",
       "        vertical-align: top;\n",
       "    }\n",
       "\n",
       "    .dataframe thead th {\n",
       "        text-align: right;\n",
       "    }\n",
       "</style>\n",
       "<table border=\"1\" class=\"dataframe\">\n",
       "  <thead>\n",
       "    <tr style=\"text-align: right;\">\n",
       "      <th></th>\n",
       "      <th>var1(t-72)</th>\n",
       "      <th>var1(t-71)</th>\n",
       "      <th>var1(t-70)</th>\n",
       "      <th>var1(t-69)</th>\n",
       "      <th>var1(t-68)</th>\n",
       "      <th>var1(t-67)</th>\n",
       "      <th>var1(t-66)</th>\n",
       "      <th>var1(t-65)</th>\n",
       "      <th>var1(t-64)</th>\n",
       "      <th>var1(t-63)</th>\n",
       "      <th>...</th>\n",
       "      <th>var1(t-10)</th>\n",
       "      <th>var1(t-9)</th>\n",
       "      <th>var1(t-8)</th>\n",
       "      <th>var1(t-7)</th>\n",
       "      <th>var1(t-6)</th>\n",
       "      <th>var1(t-5)</th>\n",
       "      <th>var1(t-4)</th>\n",
       "      <th>var1(t-3)</th>\n",
       "      <th>var1(t-2)</th>\n",
       "      <th>var1(t-1)</th>\n",
       "    </tr>\n",
       "  </thead>\n",
       "  <tbody>\n",
       "    <tr>\n",
       "      <th>72</th>\n",
       "      <td>0.184719</td>\n",
       "      <td>-0.136884</td>\n",
       "      <td>-0.265362</td>\n",
       "      <td>-0.299693</td>\n",
       "      <td>0.130491</td>\n",
       "      <td>-0.175761</td>\n",
       "      <td>0.167850</td>\n",
       "      <td>0.563094</td>\n",
       "      <td>-0.177836</td>\n",
       "      <td>0.233308</td>\n",
       "      <td>...</td>\n",
       "      <td>0.089263</td>\n",
       "      <td>-0.749809</td>\n",
       "      <td>0.205035</td>\n",
       "      <td>-0.126087</td>\n",
       "      <td>0.364724</td>\n",
       "      <td>-0.757954</td>\n",
       "      <td>-1.407772</td>\n",
       "      <td>-0.132389</td>\n",
       "      <td>-0.112852</td>\n",
       "      <td>-0.102119</td>\n",
       "    </tr>\n",
       "    <tr>\n",
       "      <th>73</th>\n",
       "      <td>-0.136884</td>\n",
       "      <td>-0.265362</td>\n",
       "      <td>-0.299693</td>\n",
       "      <td>0.130491</td>\n",
       "      <td>-0.175761</td>\n",
       "      <td>0.167850</td>\n",
       "      <td>0.563094</td>\n",
       "      <td>-0.177836</td>\n",
       "      <td>0.233308</td>\n",
       "      <td>0.183582</td>\n",
       "      <td>...</td>\n",
       "      <td>-0.749809</td>\n",
       "      <td>0.205035</td>\n",
       "      <td>-0.126087</td>\n",
       "      <td>0.364724</td>\n",
       "      <td>-0.757954</td>\n",
       "      <td>-1.407772</td>\n",
       "      <td>-0.132389</td>\n",
       "      <td>-0.112852</td>\n",
       "      <td>-0.102119</td>\n",
       "      <td>-0.072524</td>\n",
       "    </tr>\n",
       "    <tr>\n",
       "      <th>74</th>\n",
       "      <td>-0.265362</td>\n",
       "      <td>-0.299693</td>\n",
       "      <td>0.130491</td>\n",
       "      <td>-0.175761</td>\n",
       "      <td>0.167850</td>\n",
       "      <td>0.563094</td>\n",
       "      <td>-0.177836</td>\n",
       "      <td>0.233308</td>\n",
       "      <td>0.183582</td>\n",
       "      <td>-0.589959</td>\n",
       "      <td>...</td>\n",
       "      <td>0.205035</td>\n",
       "      <td>-0.126087</td>\n",
       "      <td>0.364724</td>\n",
       "      <td>-0.757954</td>\n",
       "      <td>-1.407772</td>\n",
       "      <td>-0.132389</td>\n",
       "      <td>-0.112852</td>\n",
       "      <td>-0.102119</td>\n",
       "      <td>-0.072524</td>\n",
       "      <td>0.541471</td>\n",
       "    </tr>\n",
       "    <tr>\n",
       "      <th>75</th>\n",
       "      <td>-0.299693</td>\n",
       "      <td>0.130491</td>\n",
       "      <td>-0.175761</td>\n",
       "      <td>0.167850</td>\n",
       "      <td>0.563094</td>\n",
       "      <td>-0.177836</td>\n",
       "      <td>0.233308</td>\n",
       "      <td>0.183582</td>\n",
       "      <td>-0.589959</td>\n",
       "      <td>0.112213</td>\n",
       "      <td>...</td>\n",
       "      <td>-0.126087</td>\n",
       "      <td>0.364724</td>\n",
       "      <td>-0.757954</td>\n",
       "      <td>-1.407772</td>\n",
       "      <td>-0.132389</td>\n",
       "      <td>-0.112852</td>\n",
       "      <td>-0.102119</td>\n",
       "      <td>-0.072524</td>\n",
       "      <td>0.541471</td>\n",
       "      <td>-0.174064</td>\n",
       "    </tr>\n",
       "    <tr>\n",
       "      <th>76</th>\n",
       "      <td>0.130491</td>\n",
       "      <td>-0.175761</td>\n",
       "      <td>0.167850</td>\n",
       "      <td>0.563094</td>\n",
       "      <td>-0.177836</td>\n",
       "      <td>0.233308</td>\n",
       "      <td>0.183582</td>\n",
       "      <td>-0.589959</td>\n",
       "      <td>0.112213</td>\n",
       "      <td>0.244688</td>\n",
       "      <td>...</td>\n",
       "      <td>0.364724</td>\n",
       "      <td>-0.757954</td>\n",
       "      <td>-1.407772</td>\n",
       "      <td>-0.132389</td>\n",
       "      <td>-0.112852</td>\n",
       "      <td>-0.102119</td>\n",
       "      <td>-0.072524</td>\n",
       "      <td>0.541471</td>\n",
       "      <td>-0.174064</td>\n",
       "      <td>0.958425</td>\n",
       "    </tr>\n",
       "  </tbody>\n",
       "</table>\n",
       "<p>5 rows × 72 columns</p>\n",
       "</div>"
      ],
      "text/plain": [
       "    var1(t-72)  var1(t-71)  var1(t-70)  var1(t-69)  var1(t-68)  var1(t-67)  \\\n",
       "72    0.184719   -0.136884   -0.265362   -0.299693    0.130491   -0.175761   \n",
       "73   -0.136884   -0.265362   -0.299693    0.130491   -0.175761    0.167850   \n",
       "74   -0.265362   -0.299693    0.130491   -0.175761    0.167850    0.563094   \n",
       "75   -0.299693    0.130491   -0.175761    0.167850    0.563094   -0.177836   \n",
       "76    0.130491   -0.175761    0.167850    0.563094   -0.177836    0.233308   \n",
       "\n",
       "    var1(t-66)  var1(t-65)  var1(t-64)  var1(t-63)  ...  var1(t-10)  \\\n",
       "72    0.167850    0.563094   -0.177836    0.233308  ...    0.089263   \n",
       "73    0.563094   -0.177836    0.233308    0.183582  ...   -0.749809   \n",
       "74   -0.177836    0.233308    0.183582   -0.589959  ...    0.205035   \n",
       "75    0.233308    0.183582   -0.589959    0.112213  ...   -0.126087   \n",
       "76    0.183582   -0.589959    0.112213    0.244688  ...    0.364724   \n",
       "\n",
       "    var1(t-9)  var1(t-8)  var1(t-7)  var1(t-6)  var1(t-5)  var1(t-4)  \\\n",
       "72  -0.749809   0.205035  -0.126087   0.364724  -0.757954  -1.407772   \n",
       "73   0.205035  -0.126087   0.364724  -0.757954  -1.407772  -0.132389   \n",
       "74  -0.126087   0.364724  -0.757954  -1.407772  -0.132389  -0.112852   \n",
       "75   0.364724  -0.757954  -1.407772  -0.132389  -0.112852  -0.102119   \n",
       "76  -0.757954  -1.407772  -0.132389  -0.112852  -0.102119  -0.072524   \n",
       "\n",
       "    var1(t-3)  var1(t-2)  var1(t-1)  \n",
       "72  -0.132389  -0.112852  -0.102119  \n",
       "73  -0.112852  -0.102119  -0.072524  \n",
       "74  -0.102119  -0.072524   0.541471  \n",
       "75  -0.072524   0.541471  -0.174064  \n",
       "76   0.541471  -0.174064   0.958425  \n",
       "\n",
       "[5 rows x 72 columns]"
      ]
     },
     "execution_count": 3,
     "metadata": {},
     "output_type": "execute_result"
    }
   ],
   "source": [
    "\"\"\"\n",
    "Get percent change feature and target data.\n",
    "\"\"\"\n",
    "df = make_features(input_df=data, target_col='close')\n",
    "X, y = data_to_supervised(input_df=df, target_ix=-1, Tx=Tx, Ty=Ty)\n",
    "p(X.shape, y.shape)\n",
    "X.head()"
   ]
  },
  {
   "cell_type": "code",
   "execution_count": 4,
   "metadata": {},
   "outputs": [
    {
     "data": {
      "text/plain": [
       "True"
      ]
     },
     "execution_count": 4,
     "metadata": {},
     "output_type": "execute_result"
    }
   ],
   "source": [
    "\"\"\"\n",
    "Confirm data reshape and target/feature creation was done correctly.\n",
    "\"\"\"\n",
    "y_values_except_last = np.squeeze(y.iloc[:-1].values)\n",
    "t_minus_1_x_values_except_first = X.iloc[1:,-1].values\n",
    "\n",
    "y_values_except_last.all() == t_minus_1_x_values_except_first.all()"
   ]
  },
  {
   "cell_type": "code",
   "execution_count": 5,
   "metadata": {},
   "outputs": [],
   "source": [
    "\"\"\"\n",
    "For comparing different transformations\n",
    "\"\"\"\n",
    "sample_ix = 1000"
   ]
  },
  {
   "cell_type": "code",
   "execution_count": 6,
   "metadata": {},
   "outputs": [
    {
     "name": "stdout",
     "output_type": "stream",
     "text": [
      "(5926, 1, 72)\n"
     ]
    }
   ],
   "source": [
    "\"\"\"\n",
    "Reshape the data into 3d array if multiple variables.\n",
    "\"\"\"\n",
    "X = X.values.reshape((X.shape[0], -1, Tx))\n",
    "p(X.shape)"
   ]
  },
  {
   "cell_type": "code",
   "execution_count": 7,
   "metadata": {},
   "outputs": [
    {
     "name": "stdout",
     "output_type": "stream",
     "text": [
      "Applying DWT_HAAR transform ...\n"
     ]
    },
    {
     "data": {
      "text/plain": [
       "(5926, 1, 2, 36)"
      ]
     },
     "execution_count": 7,
     "metadata": {},
     "output_type": "execute_result"
    }
   ],
   "source": [
    "\"\"\"\n",
    "Apply the wave transformation to the feature data.\n",
    "\"\"\"\n",
    "wt_type = 'DWT_HAAR'\n",
    "p('Applying {} transform ...'.format(wt_type))\n",
    "\n",
    "if wt_type == 'RICKER':\n",
    "    wt_transform_fun = lambda x: signal.cwt(x, wavelet=signal.ricker, widths=widths)\n",
    "elif wt_type == 'HAAR':\n",
    "    wt_transform_fun = lambda x: Haar(x).getpower()\n",
    "elif wt_type == 'DWT_HAAR':\n",
    "    wt_transform_fun = lambda x: np.stack(pywt.dwt(x, 'haar'))\n",
    "else:\n",
    "    raise NotImplementedError\n",
    "    \n",
    "X_wt = np.apply_along_axis(func1d=wt_transform_fun, axis=-1, arr=X)\n",
    "\n",
    "X_wt.shape"
   ]
  },
  {
   "cell_type": "code",
   "execution_count": 8,
   "metadata": {},
   "outputs": [
    {
     "data": {
      "text/plain": [
       "((5926, 2, 36), (2, 36))"
      ]
     },
     "execution_count": 8,
     "metadata": {},
     "output_type": "execute_result"
    }
   ],
   "source": [
    "\"\"\"\n",
    "Condense wavelet features if multiple features analyzed.\n",
    "\"\"\"\n",
    "X_wt = X_wt.reshape((X_wt.shape[0], X_wt.shape[1]*X_wt.shape[2], X_wt.shape[-1]))\n",
    "N = X_wt.shape[-2:]\n",
    "X_wt.shape, N"
   ]
  },
  {
   "cell_type": "code",
   "execution_count": 9,
   "metadata": {},
   "outputs": [
    {
     "name": "stdout",
     "output_type": "stream",
     "text": [
      "(5926, 36, 2)\n"
     ]
    }
   ],
   "source": [
    "\"\"\"\n",
    "Reshape the data so Tx is the 2nd dimension.\n",
    "\"\"\"\n",
    "X_wt_rs = X_wt.swapaxes(-1,-2)\n",
    "p(X_wt_rs.shape)"
   ]
  },
  {
   "cell_type": "code",
   "execution_count": 10,
   "metadata": {},
   "outputs": [],
   "source": [
    "\"\"\"\n",
    "Train Test Split.\n",
    "\"\"\"\n",
    "X_train, X_test, y_train, y_test = train_test_split(X_wt_rs, y, test_size=TEST_SIZE, shuffle=False)"
   ]
  },
  {
   "cell_type": "code",
   "execution_count": 11,
   "metadata": {},
   "outputs": [],
   "source": [
    "\"\"\"\n",
    "Save data.\n",
    "\"\"\"\n",
    "output_dir = join(get_project_path(), 'data', 'processed')\n",
    "\n",
    "np.save(arr=X_train, allow_pickle=True, \n",
    "        file=join(output_dir, '.X_train_{}_{}_{}x{}'.format(SYM, wt_type, Tx, N)))\n",
    "np.save(arr=X_test, allow_pickle=True, \n",
    "        file=join(output_dir, 'X_test_{}_{}_{}x{}'.format(SYM, wt_type, Tx, N)))\n",
    "np.save(arr=y_train, allow_pickle=True, \n",
    "        file=join(output_dir, 'y_train_{}_{}_{}x{}'.format(SYM, wt_type, Tx, N)))\n",
    "np.save(arr=y_test, allow_pickle=True, \n",
    "        file=join(output_dir, 'y_test_{}_{}_{}x{}'.format(SYM, wt_type, Tx, N)))"
   ]
  }
 ],
 "metadata": {
  "kernelspec": {
   "display_name": "Python (crypto_predict)",
   "language": "python",
   "name": "crypto_predict"
  },
  "language_info": {
   "codemirror_mode": {
    "name": "ipython",
    "version": 3
   },
   "file_extension": ".py",
   "mimetype": "text/x-python",
   "name": "python",
   "nbconvert_exporter": "python",
   "pygments_lexer": "ipython3",
   "version": "3.6.7"
  }
 },
 "nbformat": 4,
 "nbformat_minor": 2
}
