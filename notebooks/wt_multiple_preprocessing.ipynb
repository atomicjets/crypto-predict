{
 "cells": [
  {
   "cell_type": "markdown",
   "metadata": {},
   "source": [
    "# Multiple Variable Wavelet Preprocessing"
   ]
  },
  {
   "cell_type": "code",
   "execution_count": 1,
   "metadata": {},
   "outputs": [],
   "source": [
    "%load_ext autoreload\n",
    "%autoreload 2\n",
    "p = print\n",
    "\n",
    "import os\n",
    "\n",
    "import pandas as pd\n",
    "import numpy as np\n",
    "\n",
    "from sklearn.model_selection import train_test_split\n",
    "\n",
    "from scipy import signal\n",
    "import pywt\n",
    "\n",
    "from crypr.util import get_project_path\n",
    "from crypr.build import make_features, data_to_supervised"
   ]
  },
  {
   "cell_type": "code",
   "execution_count": 2,
   "metadata": {},
   "outputs": [
    {
     "data": {
      "text/html": [
       "<div>\n",
       "<style scoped>\n",
       "    .dataframe tbody tr th:only-of-type {\n",
       "        vertical-align: middle;\n",
       "    }\n",
       "\n",
       "    .dataframe tbody tr th {\n",
       "        vertical-align: top;\n",
       "    }\n",
       "\n",
       "    .dataframe thead th {\n",
       "        text-align: right;\n",
       "    }\n",
       "</style>\n",
       "<table border=\"1\" class=\"dataframe\">\n",
       "  <thead>\n",
       "    <tr style=\"text-align: right;\">\n",
       "      <th></th>\n",
       "      <th>volumeto</th>\n",
       "      <th>volumefrom</th>\n",
       "      <th>open</th>\n",
       "      <th>high</th>\n",
       "      <th>close</th>\n",
       "      <th>low</th>\n",
       "      <th>time</th>\n",
       "      <th>timestamp</th>\n",
       "    </tr>\n",
       "  </thead>\n",
       "  <tbody>\n",
       "    <tr>\n",
       "      <th>0</th>\n",
       "      <td>6935520.93</td>\n",
       "      <td>1096.93</td>\n",
       "      <td>6314.14</td>\n",
       "      <td>6322.24</td>\n",
       "      <td>6313.66</td>\n",
       "      <td>6290.84</td>\n",
       "      <td>1530471600</td>\n",
       "      <td>2018-07-01 21:00:00</td>\n",
       "    </tr>\n",
       "    <tr>\n",
       "      <th>1</th>\n",
       "      <td>24714923.33</td>\n",
       "      <td>3879.19</td>\n",
       "      <td>6313.94</td>\n",
       "      <td>6378.28</td>\n",
       "      <td>6347.37</td>\n",
       "      <td>6298.49</td>\n",
       "      <td>1530475200</td>\n",
       "      <td>2018-07-01 22:00:00</td>\n",
       "    </tr>\n",
       "    <tr>\n",
       "      <th>2</th>\n",
       "      <td>9517750.88</td>\n",
       "      <td>1496.49</td>\n",
       "      <td>6347.37</td>\n",
       "      <td>6359.64</td>\n",
       "      <td>6355.81</td>\n",
       "      <td>6331.35</td>\n",
       "      <td>1530478800</td>\n",
       "      <td>2018-07-01 23:00:00</td>\n",
       "    </tr>\n",
       "    <tr>\n",
       "      <th>3</th>\n",
       "      <td>12533312.19</td>\n",
       "      <td>1965.11</td>\n",
       "      <td>6355.81</td>\n",
       "      <td>6371.16</td>\n",
       "      <td>6355.41</td>\n",
       "      <td>6346.47</td>\n",
       "      <td>1530482400</td>\n",
       "      <td>2018-07-02 00:00:00</td>\n",
       "    </tr>\n",
       "    <tr>\n",
       "      <th>4</th>\n",
       "      <td>13213908.33</td>\n",
       "      <td>2074.03</td>\n",
       "      <td>6355.41</td>\n",
       "      <td>6371.17</td>\n",
       "      <td>6339.04</td>\n",
       "      <td>6337.97</td>\n",
       "      <td>1530486000</td>\n",
       "      <td>2018-07-02 01:00:00</td>\n",
       "    </tr>\n",
       "  </tbody>\n",
       "</table>\n",
       "</div>"
      ],
      "text/plain": [
       "      volumeto  volumefrom     open     high    close      low        time  \\\n",
       "0   6935520.93     1096.93  6314.14  6322.24  6313.66  6290.84  1530471600   \n",
       "1  24714923.33     3879.19  6313.94  6378.28  6347.37  6298.49  1530475200   \n",
       "2   9517750.88     1496.49  6347.37  6359.64  6355.81  6331.35  1530478800   \n",
       "3  12533312.19     1965.11  6355.81  6371.16  6355.41  6346.47  1530482400   \n",
       "4  13213908.33     2074.03  6355.41  6371.17  6339.04  6337.97  1530486000   \n",
       "\n",
       "             timestamp  \n",
       "0  2018-07-01 21:00:00  \n",
       "1  2018-07-01 22:00:00  \n",
       "2  2018-07-01 23:00:00  \n",
       "3  2018-07-02 00:00:00  \n",
       "4  2018-07-02 01:00:00  "
      ]
     },
     "execution_count": 2,
     "metadata": {},
     "output_type": "execute_result"
    }
   ],
   "source": [
    "SYM = 'BTC'\n",
    "TARGET = 'close'\n",
    "Tx = 72\n",
    "Ty = 1\n",
    "TEST_SIZE = 0.05\n",
    "\n",
    "data_path = os.path.join(get_project_path(), 'data', 'raw', SYM + '.csv')\n",
    "data = pd.read_csv(data_path, index_col=0)\n",
    "data.head()"
   ]
  },
  {
   "cell_type": "code",
   "execution_count": 3,
   "metadata": {},
   "outputs": [
    {
     "name": "stdout",
     "output_type": "stream",
     "text": [
      "(5926, 504) (5926, 1)\n"
     ]
    },
    {
     "data": {
      "text/html": [
       "<div>\n",
       "<style scoped>\n",
       "    .dataframe tbody tr th:only-of-type {\n",
       "        vertical-align: middle;\n",
       "    }\n",
       "\n",
       "    .dataframe tbody tr th {\n",
       "        vertical-align: top;\n",
       "    }\n",
       "\n",
       "    .dataframe thead th {\n",
       "        text-align: right;\n",
       "    }\n",
       "</style>\n",
       "<table border=\"1\" class=\"dataframe\">\n",
       "  <thead>\n",
       "    <tr style=\"text-align: right;\">\n",
       "      <th></th>\n",
       "      <th>var1(t-72)</th>\n",
       "      <th>var2(t-72)</th>\n",
       "      <th>var3(t-72)</th>\n",
       "      <th>var4(t-72)</th>\n",
       "      <th>var5(t-72)</th>\n",
       "      <th>var6(t-72)</th>\n",
       "      <th>var7(t-72)</th>\n",
       "      <th>var1(t-71)</th>\n",
       "      <th>var2(t-71)</th>\n",
       "      <th>var3(t-71)</th>\n",
       "      <th>...</th>\n",
       "      <th>var5(t-2)</th>\n",
       "      <th>var6(t-2)</th>\n",
       "      <th>var7(t-2)</th>\n",
       "      <th>var1(t-1)</th>\n",
       "      <th>var2(t-1)</th>\n",
       "      <th>var3(t-1)</th>\n",
       "      <th>var4(t-1)</th>\n",
       "      <th>var5(t-1)</th>\n",
       "      <th>var6(t-1)</th>\n",
       "      <th>var7(t-1)</th>\n",
       "    </tr>\n",
       "  </thead>\n",
       "  <tbody>\n",
       "    <tr>\n",
       "      <th>73</th>\n",
       "      <td>6313.94</td>\n",
       "      <td>6378.28</td>\n",
       "      <td>6347.37</td>\n",
       "      <td>6298.49</td>\n",
       "      <td>24714923.33</td>\n",
       "      <td>3879.19</td>\n",
       "      <td>0.533922</td>\n",
       "      <td>6347.37</td>\n",
       "      <td>6359.64</td>\n",
       "      <td>6355.81</td>\n",
       "      <td>...</td>\n",
       "      <td>13007702.37</td>\n",
       "      <td>1938.10</td>\n",
       "      <td>-0.045374</td>\n",
       "      <td>6674.92</td>\n",
       "      <td>6688.86</td>\n",
       "      <td>6687.70</td>\n",
       "      <td>6671.52</td>\n",
       "      <td>9378691.92</td>\n",
       "      <td>1399.77</td>\n",
       "      <td>0.192814</td>\n",
       "    </tr>\n",
       "    <tr>\n",
       "      <th>74</th>\n",
       "      <td>6347.37</td>\n",
       "      <td>6359.64</td>\n",
       "      <td>6355.81</td>\n",
       "      <td>6331.35</td>\n",
       "      <td>9517750.88</td>\n",
       "      <td>1496.49</td>\n",
       "      <td>0.132968</td>\n",
       "      <td>6355.81</td>\n",
       "      <td>6371.16</td>\n",
       "      <td>6355.41</td>\n",
       "      <td>...</td>\n",
       "      <td>9378691.92</td>\n",
       "      <td>1399.77</td>\n",
       "      <td>0.192814</td>\n",
       "      <td>6687.78</td>\n",
       "      <td>6696.86</td>\n",
       "      <td>6693.25</td>\n",
       "      <td>6686.64</td>\n",
       "      <td>8424503.46</td>\n",
       "      <td>1254.90</td>\n",
       "      <td>0.082988</td>\n",
       "    </tr>\n",
       "    <tr>\n",
       "      <th>75</th>\n",
       "      <td>6355.81</td>\n",
       "      <td>6371.16</td>\n",
       "      <td>6355.41</td>\n",
       "      <td>6346.47</td>\n",
       "      <td>12533312.19</td>\n",
       "      <td>1965.11</td>\n",
       "      <td>-0.006293</td>\n",
       "      <td>6355.41</td>\n",
       "      <td>6371.17</td>\n",
       "      <td>6339.04</td>\n",
       "      <td>...</td>\n",
       "      <td>8424503.46</td>\n",
       "      <td>1254.90</td>\n",
       "      <td>0.082988</td>\n",
       "      <td>6693.36</td>\n",
       "      <td>6697.32</td>\n",
       "      <td>6694.09</td>\n",
       "      <td>6673.00</td>\n",
       "      <td>11276851.07</td>\n",
       "      <td>1681.92</td>\n",
       "      <td>0.012550</td>\n",
       "    </tr>\n",
       "    <tr>\n",
       "      <th>76</th>\n",
       "      <td>6355.41</td>\n",
       "      <td>6371.17</td>\n",
       "      <td>6339.04</td>\n",
       "      <td>6337.97</td>\n",
       "      <td>13213908.33</td>\n",
       "      <td>2074.03</td>\n",
       "      <td>-0.257576</td>\n",
       "      <td>6342.69</td>\n",
       "      <td>6348.29</td>\n",
       "      <td>6334.51</td>\n",
       "      <td>...</td>\n",
       "      <td>11276851.07</td>\n",
       "      <td>1681.92</td>\n",
       "      <td>0.012550</td>\n",
       "      <td>6694.09</td>\n",
       "      <td>6697.69</td>\n",
       "      <td>6598.38</td>\n",
       "      <td>6562.33</td>\n",
       "      <td>27926930.49</td>\n",
       "      <td>4202.29</td>\n",
       "      <td>-1.429769</td>\n",
       "    </tr>\n",
       "    <tr>\n",
       "      <th>77</th>\n",
       "      <td>6342.69</td>\n",
       "      <td>6348.29</td>\n",
       "      <td>6334.51</td>\n",
       "      <td>6316.00</td>\n",
       "      <td>12405554.35</td>\n",
       "      <td>1954.61</td>\n",
       "      <td>-0.071462</td>\n",
       "      <td>6334.17</td>\n",
       "      <td>6340.97</td>\n",
       "      <td>6324.64</td>\n",
       "      <td>...</td>\n",
       "      <td>27926930.49</td>\n",
       "      <td>4202.29</td>\n",
       "      <td>-1.429769</td>\n",
       "      <td>6596.86</td>\n",
       "      <td>6605.67</td>\n",
       "      <td>6590.06</td>\n",
       "      <td>6567.87</td>\n",
       "      <td>14978437.33</td>\n",
       "      <td>2267.63</td>\n",
       "      <td>-0.126092</td>\n",
       "    </tr>\n",
       "  </tbody>\n",
       "</table>\n",
       "<p>5 rows × 504 columns</p>\n",
       "</div>"
      ],
      "text/plain": [
       "    var1(t-72)  var2(t-72)  var3(t-72)  var4(t-72)   var5(t-72)  var6(t-72)  \\\n",
       "73     6313.94     6378.28     6347.37     6298.49  24714923.33     3879.19   \n",
       "74     6347.37     6359.64     6355.81     6331.35   9517750.88     1496.49   \n",
       "75     6355.81     6371.16     6355.41     6346.47  12533312.19     1965.11   \n",
       "76     6355.41     6371.17     6339.04     6337.97  13213908.33     2074.03   \n",
       "77     6342.69     6348.29     6334.51     6316.00  12405554.35     1954.61   \n",
       "\n",
       "    var7(t-72)  var1(t-71)  var2(t-71)  var3(t-71)  ...    var5(t-2)  \\\n",
       "73    0.533922     6347.37     6359.64     6355.81  ...  13007702.37   \n",
       "74    0.132968     6355.81     6371.16     6355.41  ...   9378691.92   \n",
       "75   -0.006293     6355.41     6371.17     6339.04  ...   8424503.46   \n",
       "76   -0.257576     6342.69     6348.29     6334.51  ...  11276851.07   \n",
       "77   -0.071462     6334.17     6340.97     6324.64  ...  27926930.49   \n",
       "\n",
       "    var6(t-2)  var7(t-2)  var1(t-1)  var2(t-1)  var3(t-1)  var4(t-1)  \\\n",
       "73    1938.10  -0.045374    6674.92    6688.86    6687.70    6671.52   \n",
       "74    1399.77   0.192814    6687.78    6696.86    6693.25    6686.64   \n",
       "75    1254.90   0.082988    6693.36    6697.32    6694.09    6673.00   \n",
       "76    1681.92   0.012550    6694.09    6697.69    6598.38    6562.33   \n",
       "77    4202.29  -1.429769    6596.86    6605.67    6590.06    6567.87   \n",
       "\n",
       "      var5(t-1)  var6(t-1)  var7(t-1)  \n",
       "73   9378691.92    1399.77   0.192814  \n",
       "74   8424503.46    1254.90   0.082988  \n",
       "75  11276851.07    1681.92   0.012550  \n",
       "76  27926930.49    4202.29  -1.429769  \n",
       "77  14978437.33    2267.63  -0.126092  \n",
       "\n",
       "[5 rows x 504 columns]"
      ]
     },
     "execution_count": 3,
     "metadata": {},
     "output_type": "execute_result"
    }
   ],
   "source": [
    "\"\"\"\n",
    "Get percent change feature and target data.\n",
    "\"\"\"\n",
    "df = make_features(input_df=data, target_col='close', moving_average_lags=[])\n",
    "X, y = data_to_supervised(input_df=df, Tx=Tx, Ty=Ty)\n",
    "p(X.shape, y.shape)\n",
    "X.head()"
   ]
  },
  {
   "cell_type": "code",
   "execution_count": 4,
   "metadata": {},
   "outputs": [
    {
     "data": {
      "text/plain": [
       "True"
      ]
     },
     "execution_count": 4,
     "metadata": {},
     "output_type": "execute_result"
    }
   ],
   "source": [
    "\"\"\"\n",
    "Confirm data reshape and target/feature creation was done correctly.\n",
    "\"\"\"\n",
    "y_values_except_last = np.squeeze(y.iloc[:-1].values)\n",
    "t_minus_1_x_values_except_first = X.iloc[1:,-1].values\n",
    "\n",
    "y_values_except_last.all() == t_minus_1_x_values_except_first.all()"
   ]
  },
  {
   "cell_type": "code",
   "execution_count": 5,
   "metadata": {},
   "outputs": [],
   "source": [
    "\"\"\"\n",
    "For comparing different transformations\n",
    "\"\"\"\n",
    "sample_ix = 1000"
   ]
  },
  {
   "cell_type": "code",
   "execution_count": 6,
   "metadata": {},
   "outputs": [
    {
     "name": "stdout",
     "output_type": "stream",
     "text": [
      "(5926, 7, 72)\n"
     ]
    }
   ],
   "source": [
    "\"\"\"\n",
    "Reshape the data into 3d array if multiple variables.\n",
    "\"\"\"\n",
    "X = X.values.reshape((X.shape[0], -1, Tx))\n",
    "p(X.shape)"
   ]
  },
  {
   "cell_type": "code",
   "execution_count": 7,
   "metadata": {},
   "outputs": [
    {
     "name": "stdout",
     "output_type": "stream",
     "text": [
      "Applying DWT_HAAR transform ...\n"
     ]
    },
    {
     "data": {
      "text/plain": [
       "(5926, 7, 2, 36)"
      ]
     },
     "execution_count": 7,
     "metadata": {},
     "output_type": "execute_result"
    }
   ],
   "source": [
    "\"\"\"\n",
    "Apply the wave transformation to the feature data.\n",
    "\"\"\"\n",
    "wt_type = 'DWT_HAAR'\n",
    "p('Applying {} transform ...'.format(wt_type))\n",
    "\n",
    "if wt_type == 'RICKER':\n",
    "    wt_transform_fun = lambda x: signal.cwt(x, wavelet=signal.ricker, widths=widths)\n",
    "elif wt_type == 'HAAR':\n",
    "    wt_transform_fun = lambda x: Haar(x).getpower()\n",
    "elif wt_type == 'DWT_HAAR':\n",
    "    wt_transform_fun = lambda x: np.stack(pywt.dwt(x, 'haar'))\n",
    "else:\n",
    "    raise NotImplementedError\n",
    "    \n",
    "X_wt = np.apply_along_axis(func1d=wt_transform_fun, axis=-1, arr=X)\n",
    "\n",
    "X_wt.shape"
   ]
  },
  {
   "cell_type": "code",
   "execution_count": 8,
   "metadata": {},
   "outputs": [
    {
     "data": {
      "text/plain": [
       "((5926, 14, 36), (14, 36))"
      ]
     },
     "execution_count": 8,
     "metadata": {},
     "output_type": "execute_result"
    }
   ],
   "source": [
    "\"\"\"\n",
    "Condense wavelet features if multiple features analyzed.\n",
    "\"\"\"\n",
    "X_wt = X_wt.reshape((X_wt.shape[0], X_wt.shape[1]*X_wt.shape[2], X_wt.shape[-1]))\n",
    "N = X_wt.shape[-2:]\n",
    "X_wt.shape, N"
   ]
  },
  {
   "cell_type": "code",
   "execution_count": 9,
   "metadata": {},
   "outputs": [
    {
     "name": "stdout",
     "output_type": "stream",
     "text": [
      "(5926, 36, 14)\n"
     ]
    }
   ],
   "source": [
    "\"\"\"\n",
    "Reshape the data so Tx is the 2nd dimension.\n",
    "\"\"\"\n",
    "X_wt_rs = X_wt.swapaxes(-1,-2)\n",
    "p(X_wt_rs.shape)"
   ]
  },
  {
   "cell_type": "code",
   "execution_count": 10,
   "metadata": {},
   "outputs": [],
   "source": [
    "\"\"\"\n",
    "Train Test Split.\n",
    "\"\"\"\n",
    "X_train, X_test, y_train, y_test = train_test_split(X_wt_rs, y, test_size=TEST_SIZE, shuffle=False)"
   ]
  },
  {
   "cell_type": "code",
   "execution_count": 11,
   "metadata": {},
   "outputs": [],
   "source": [
    "\"\"\"\n",
    "Save data.\n",
    "\"\"\"\n",
    "output_dir = os.path.join(get_project_path(), 'data', 'processed')\n",
    "\n",
    "np.save(arr=X_train, allow_pickle=True, \n",
    "        file=os.path.join(output_dir, '.X_train_{}_{}_{}x{}'.format(SYM, wt_type, Tx, N)))\n",
    "np.save(arr=X_test, allow_pickle=True, \n",
    "        file=os.path.join(output_dir, 'X_test_{}_{}_{}x{}'.format(SYM, wt_type, Tx, N)))\n",
    "np.save(arr=y_train, allow_pickle=True, \n",
    "        file=os.path.join(output_dir, 'y_train_{}_{}_{}x{}'.format(SYM, wt_type, Tx, N)))\n",
    "np.save(arr=y_test, allow_pickle=True, \n",
    "        file=os.path.join(output_dir, 'y_test_{}_{}_{}x{}'.format(SYM, wt_type, Tx, N)))"
   ]
  }
 ],
 "metadata": {
  "kernelspec": {
   "display_name": "Python (crypto_predict)",
   "language": "python",
   "name": "crypto_predict"
  },
  "language_info": {
   "codemirror_mode": {
    "name": "ipython",
    "version": 3
   },
   "file_extension": ".py",
   "mimetype": "text/x-python",
   "name": "python",
   "nbconvert_exporter": "python",
   "pygments_lexer": "ipython3",
   "version": "3.5.5"
  }
 },
 "nbformat": 4,
 "nbformat_minor": 2
}
