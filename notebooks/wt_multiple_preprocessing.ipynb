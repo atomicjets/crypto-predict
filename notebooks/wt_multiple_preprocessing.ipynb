{
 "cells": [
  {
   "cell_type": "markdown",
   "metadata": {},
   "source": [
    "# Multiple Variable Wavelet Preprocessing"
   ]
  },
  {
   "cell_type": "code",
   "execution_count": 2,
   "metadata": {},
   "outputs": [],
   "source": [
    "%load_ext autoreload\n",
    "%autoreload 2\n",
    "\n",
    "import pandas as pd\n",
    "import numpy as np\n",
    "\n",
    "import matplotlib.pyplot as plt\n",
    "import seaborn as sns\n",
    "%matplotlib inline\n",
    "\n",
    "from sklearn.model_selection import train_test_split\n",
    "\n",
    "from crypr.data import get_data\n",
    "from crypr.util import common\n",
    "\n",
    "from crypr.features.build_features import make_single_feature, series_to_predict_matrix, make_features, data_to_supervised\n",
    "from crypr.features.wavelets import *\n",
    "\n",
    "from scipy.fftpack import fft, fftfreq, fftshift\n",
    "from scipy import signal\n",
    "import pywt\n",
    "\n",
    "import pickle\n",
    "import gc\n",
    "p=print"
   ]
  },
  {
   "cell_type": "code",
   "execution_count": 15,
   "metadata": {},
   "outputs": [],
   "source": [
    "SYM='BTC'\n",
    "LAST_N_HOURS=16000\n",
    "TARGET='close'\n",
    "Tx = 72\n",
    "Ty = 1\n",
    "TEST_SIZE=0.05"
   ]
  },
  {
   "cell_type": "code",
   "execution_count": 16,
   "metadata": {},
   "outputs": [],
   "source": [
    "data = pd.read_csv('../data/raw/{}.csv'.format(SYM), index_col=0)"
   ]
  },
  {
   "cell_type": "code",
   "execution_count": 17,
   "metadata": {},
   "outputs": [
    {
     "name": "stdout",
     "output_type": "stream",
     "text": [
      "(15927, 504) (15927, 1)\n"
     ]
    },
    {
     "data": {
      "text/html": [
       "<div>\n",
       "<style scoped>\n",
       "    .dataframe tbody tr th:only-of-type {\n",
       "        vertical-align: middle;\n",
       "    }\n",
       "\n",
       "    .dataframe tbody tr th {\n",
       "        vertical-align: top;\n",
       "    }\n",
       "\n",
       "    .dataframe thead th {\n",
       "        text-align: right;\n",
       "    }\n",
       "</style>\n",
       "<table border=\"1\" class=\"dataframe\">\n",
       "  <thead>\n",
       "    <tr style=\"text-align: right;\">\n",
       "      <th></th>\n",
       "      <th>var1(t-72)</th>\n",
       "      <th>var2(t-72)</th>\n",
       "      <th>var3(t-72)</th>\n",
       "      <th>var4(t-72)</th>\n",
       "      <th>var5(t-72)</th>\n",
       "      <th>var6(t-72)</th>\n",
       "      <th>var7(t-72)</th>\n",
       "      <th>var1(t-71)</th>\n",
       "      <th>var2(t-71)</th>\n",
       "      <th>var3(t-71)</th>\n",
       "      <th>...</th>\n",
       "      <th>var5(t-2)</th>\n",
       "      <th>var6(t-2)</th>\n",
       "      <th>var7(t-2)</th>\n",
       "      <th>var1(t-1)</th>\n",
       "      <th>var2(t-1)</th>\n",
       "      <th>var3(t-1)</th>\n",
       "      <th>var4(t-1)</th>\n",
       "      <th>var5(t-1)</th>\n",
       "      <th>var6(t-1)</th>\n",
       "      <th>var7(t-1)</th>\n",
       "    </tr>\n",
       "  </thead>\n",
       "  <tbody>\n",
       "    <tr>\n",
       "      <th>28075</th>\n",
       "      <td>775.26</td>\n",
       "      <td>773.39</td>\n",
       "      <td>767.71</td>\n",
       "      <td>767.54</td>\n",
       "      <td>1429043.84</td>\n",
       "      <td>1850.95</td>\n",
       "      <td>-0.973867</td>\n",
       "      <td>767.71</td>\n",
       "      <td>770.35</td>\n",
       "      <td>768.02</td>\n",
       "      <td>...</td>\n",
       "      <td>747410.78</td>\n",
       "      <td>945.51</td>\n",
       "      <td>-0.118026</td>\n",
       "      <td>778.57</td>\n",
       "      <td>780.20</td>\n",
       "      <td>778.96</td>\n",
       "      <td>778.03</td>\n",
       "      <td>511678.97</td>\n",
       "      <td>656.76</td>\n",
       "      <td>0.050092</td>\n",
       "    </tr>\n",
       "    <tr>\n",
       "      <th>28076</th>\n",
       "      <td>767.71</td>\n",
       "      <td>770.35</td>\n",
       "      <td>768.02</td>\n",
       "      <td>765.60</td>\n",
       "      <td>1723087.38</td>\n",
       "      <td>2224.14</td>\n",
       "      <td>0.040380</td>\n",
       "      <td>768.02</td>\n",
       "      <td>770.55</td>\n",
       "      <td>766.86</td>\n",
       "      <td>...</td>\n",
       "      <td>511678.97</td>\n",
       "      <td>656.76</td>\n",
       "      <td>0.050092</td>\n",
       "      <td>778.96</td>\n",
       "      <td>780.21</td>\n",
       "      <td>774.04</td>\n",
       "      <td>773.32</td>\n",
       "      <td>1440954.63</td>\n",
       "      <td>1847.61</td>\n",
       "      <td>-0.631611</td>\n",
       "    </tr>\n",
       "    <tr>\n",
       "      <th>28077</th>\n",
       "      <td>768.02</td>\n",
       "      <td>770.55</td>\n",
       "      <td>766.86</td>\n",
       "      <td>765.97</td>\n",
       "      <td>967075.41</td>\n",
       "      <td>1258.18</td>\n",
       "      <td>-0.151038</td>\n",
       "      <td>766.86</td>\n",
       "      <td>768.69</td>\n",
       "      <td>767.87</td>\n",
       "      <td>...</td>\n",
       "      <td>1440954.63</td>\n",
       "      <td>1847.61</td>\n",
       "      <td>-0.631611</td>\n",
       "      <td>774.04</td>\n",
       "      <td>777.01</td>\n",
       "      <td>775.94</td>\n",
       "      <td>772.24</td>\n",
       "      <td>860687.72</td>\n",
       "      <td>1110.05</td>\n",
       "      <td>0.245465</td>\n",
       "    </tr>\n",
       "    <tr>\n",
       "      <th>28078</th>\n",
       "      <td>766.86</td>\n",
       "      <td>768.69</td>\n",
       "      <td>767.87</td>\n",
       "      <td>765.72</td>\n",
       "      <td>823248.02</td>\n",
       "      <td>1067.15</td>\n",
       "      <td>0.131706</td>\n",
       "      <td>767.87</td>\n",
       "      <td>769.84</td>\n",
       "      <td>768.77</td>\n",
       "      <td>...</td>\n",
       "      <td>860687.72</td>\n",
       "      <td>1110.05</td>\n",
       "      <td>0.245465</td>\n",
       "      <td>775.94</td>\n",
       "      <td>777.89</td>\n",
       "      <td>776.11</td>\n",
       "      <td>774.52</td>\n",
       "      <td>772375.45</td>\n",
       "      <td>987.86</td>\n",
       "      <td>0.021909</td>\n",
       "    </tr>\n",
       "    <tr>\n",
       "      <th>28079</th>\n",
       "      <td>767.87</td>\n",
       "      <td>769.84</td>\n",
       "      <td>768.77</td>\n",
       "      <td>767.88</td>\n",
       "      <td>330765.44</td>\n",
       "      <td>425.38</td>\n",
       "      <td>0.117207</td>\n",
       "      <td>768.77</td>\n",
       "      <td>767.97</td>\n",
       "      <td>767.38</td>\n",
       "      <td>...</td>\n",
       "      <td>772375.45</td>\n",
       "      <td>987.86</td>\n",
       "      <td>0.021909</td>\n",
       "      <td>776.11</td>\n",
       "      <td>780.79</td>\n",
       "      <td>779.70</td>\n",
       "      <td>776.48</td>\n",
       "      <td>648214.25</td>\n",
       "      <td>825.66</td>\n",
       "      <td>0.462563</td>\n",
       "    </tr>\n",
       "  </tbody>\n",
       "</table>\n",
       "<p>5 rows × 504 columns</p>\n",
       "</div>"
      ],
      "text/plain": [
       "       var1(t-72)  var2(t-72)  var3(t-72)  var4(t-72)  var5(t-72)  var6(t-72)  \\\n",
       "28075      775.26      773.39      767.71      767.54  1429043.84     1850.95   \n",
       "28076      767.71      770.35      768.02      765.60  1723087.38     2224.14   \n",
       "28077      768.02      770.55      766.86      765.97   967075.41     1258.18   \n",
       "28078      766.86      768.69      767.87      765.72   823248.02     1067.15   \n",
       "28079      767.87      769.84      768.77      767.88   330765.44      425.38   \n",
       "\n",
       "       var7(t-72)  var1(t-71)  var2(t-71)  var3(t-71)    ...       var5(t-2)  \\\n",
       "28075   -0.973867      767.71      770.35      768.02    ...       747410.78   \n",
       "28076    0.040380      768.02      770.55      766.86    ...       511678.97   \n",
       "28077   -0.151038      766.86      768.69      767.87    ...      1440954.63   \n",
       "28078    0.131706      767.87      769.84      768.77    ...       860687.72   \n",
       "28079    0.117207      768.77      767.97      767.38    ...       772375.45   \n",
       "\n",
       "       var6(t-2)  var7(t-2)  var1(t-1)  var2(t-1)  var3(t-1)  var4(t-1)  \\\n",
       "28075     945.51  -0.118026     778.57     780.20     778.96     778.03   \n",
       "28076     656.76   0.050092     778.96     780.21     774.04     773.32   \n",
       "28077    1847.61  -0.631611     774.04     777.01     775.94     772.24   \n",
       "28078    1110.05   0.245465     775.94     777.89     776.11     774.52   \n",
       "28079     987.86   0.021909     776.11     780.79     779.70     776.48   \n",
       "\n",
       "        var5(t-1)  var6(t-1)  var7(t-1)  \n",
       "28075   511678.97     656.76   0.050092  \n",
       "28076  1440954.63    1847.61  -0.631611  \n",
       "28077   860687.72    1110.05   0.245465  \n",
       "28078   772375.45     987.86   0.021909  \n",
       "28079   648214.25     825.66   0.462563  \n",
       "\n",
       "[5 rows x 504 columns]"
      ]
     },
     "execution_count": 17,
     "metadata": {},
     "output_type": "execute_result"
    }
   ],
   "source": [
    "\"\"\"\n",
    "Get percent change feature and target data.\n",
    "\"\"\"\n",
    "df=make_features(input_df=data, target_col='close', moving_average_lags=[], train_on_x_last_hours=LAST_N_HOURS)\n",
    "X, y = data_to_supervised(input_df=df, Tx=Tx, Ty=Ty)\n",
    "p(X.shape, y.shape)\n",
    "X.head()"
   ]
  },
  {
   "cell_type": "code",
   "execution_count": 18,
   "metadata": {},
   "outputs": [
    {
     "data": {
      "text/plain": [
       "True"
      ]
     },
     "execution_count": 18,
     "metadata": {},
     "output_type": "execute_result"
    }
   ],
   "source": [
    "\"\"\"\n",
    "Confirm data reshape and target/feature creation was done correctly.\n",
    "\"\"\"\n",
    "y_values_except_last = np.squeeze(y.iloc[:-1].values)\n",
    "t_minus_1_x_values_except_first = X.iloc[1:,-1].values\n",
    "\n",
    "y_values_except_last.all() == t_minus_1_x_values_except_first.all()"
   ]
  },
  {
   "cell_type": "code",
   "execution_count": 19,
   "metadata": {},
   "outputs": [],
   "source": [
    "\"\"\"\n",
    "For comparing different transformations\n",
    "\"\"\"\n",
    "sample_ix = 1000"
   ]
  },
  {
   "cell_type": "code",
   "execution_count": 20,
   "metadata": {},
   "outputs": [
    {
     "name": "stdout",
     "output_type": "stream",
     "text": [
      "(15927, 7, 72)\n"
     ]
    }
   ],
   "source": [
    "\"\"\"\n",
    "Reshape the data into 3d array if multiple variables.\n",
    "\"\"\"\n",
    "X=X.values.reshape((X.shape[0], -1, Tx))\n",
    "p(X.shape)"
   ]
  },
  {
   "cell_type": "code",
   "execution_count": 33,
   "metadata": {},
   "outputs": [
    {
     "data": {
      "text/plain": [
       "(15927, 7, 2, 36)"
      ]
     },
     "execution_count": 33,
     "metadata": {},
     "output_type": "execute_result"
    }
   ],
   "source": [
    "\"\"\"\n",
    "Apply the wave transformation to the feature data.\n",
    "\"\"\"\n",
    "wt_type='DWT_HAAR'\n",
    "\n",
    "if wt_type == 'RICKER':\n",
    "    wt_transform_fun = lambda x: signal.cwt(x, wavelet=signal.ricker, widths=widths)\n",
    "elif wt_type == 'HAAR':\n",
    "    wt_transform_fun = lambda x: Haar(x).getpower()\n",
    "elif wt_type == 'DWT_HAAR':\n",
    "    wt_transform_fun = lambda x: np.stack(pywt.dwt(x, 'haar'))\n",
    "else:\n",
    "    p('NOT IMPLEMENTED')\n",
    "    \n",
    "X_wt = np.apply_along_axis(func1d=wt_transform_fun, axis=-1, arr=X)\n",
    "\n",
    "X_wt.shape"
   ]
  },
  {
   "cell_type": "code",
   "execution_count": 34,
   "metadata": {},
   "outputs": [
    {
     "data": {
      "text/plain": [
       "((15927, 14, 36), (14, 36))"
      ]
     },
     "execution_count": 34,
     "metadata": {},
     "output_type": "execute_result"
    }
   ],
   "source": [
    "\"\"\"\n",
    "Condense wavelet features if multiple features analyzed.\n",
    "\"\"\"\n",
    "X_wt=X_wt.reshape((X_wt.shape[0], X_wt.shape[1]*X_wt.shape[2], X_wt.shape[-1]))\n",
    "N = X_wt.shape[-2:]\n",
    "X_wt.shape, N"
   ]
  },
  {
   "cell_type": "code",
   "execution_count": 35,
   "metadata": {},
   "outputs": [
    {
     "name": "stdout",
     "output_type": "stream",
     "text": [
      "(15927, 36, 14)\n"
     ]
    }
   ],
   "source": [
    "\"\"\"\n",
    "Reshape the data so Tx is the 2nd dimension.\n",
    "\"\"\"\n",
    "X_wt_rs = X_wt.swapaxes(-1,-2)\n",
    "p(X_wt_rs.shape)"
   ]
  },
  {
   "cell_type": "code",
   "execution_count": 36,
   "metadata": {},
   "outputs": [],
   "source": [
    "\"\"\"\n",
    "Train Test Split.\n",
    "\"\"\"\n",
    "X_train, X_test, y_train, y_test = train_test_split(X_wt_rs, y, test_size=TEST_SIZE, shuffle=False)"
   ]
  },
  {
   "cell_type": "code",
   "execution_count": 37,
   "metadata": {},
   "outputs": [],
   "source": [
    "\"\"\"\n",
    "Save data.\n",
    "\"\"\"\n",
    "np.save(arr=X_train, allow_pickle=True, file='../data/processed/X_train_{}_{}_{}x{}'.format(SYM, wt_type, Tx, N))\n",
    "np.save(arr=X_test, allow_pickle=True, file='../data/processed/X_test_{}_{}_{}x{}'.format(SYM, wt_type, Tx, N))\n",
    "np.save(arr=y_train, allow_pickle=True, file='../data/processed/y_train_{}_{}_{}x{}'.format(SYM, wt_type, Tx, N))\n",
    "np.save(arr=y_test, allow_pickle=True, file='../data/processed/y_test_{}_{}_{}x{}'.format(SYM, wt_type, Tx, N))"
   ]
  },
  {
   "cell_type": "code",
   "execution_count": null,
   "metadata": {},
   "outputs": [],
   "source": []
  }
 ],
 "metadata": {
  "kernelspec": {
   "display_name": "Python (crypto-predict)",
   "language": "python",
   "name": "crypto-predict"
  },
  "language_info": {
   "codemirror_mode": {
    "name": "ipython",
    "version": 3
   },
   "file_extension": ".py",
   "mimetype": "text/x-python",
   "name": "python",
   "nbconvert_exporter": "python",
   "pygments_lexer": "ipython3",
   "version": "3.5.5"
  }
 },
 "nbformat": 4,
 "nbformat_minor": 2
}
