{
 "cells": [
  {
   "cell_type": "markdown",
   "metadata": {},
   "source": [
    "# Wavelet Transform Coefficient Preprocessing"
   ]
  },
  {
   "cell_type": "code",
   "execution_count": 1,
   "metadata": {},
   "outputs": [],
   "source": [
    "%load_ext autoreload\n",
    "%autoreload 2\n",
    "\n",
    "import pandas as pd\n",
    "import numpy as np\n",
    "\n",
    "import matplotlib.pyplot as plt\n",
    "import seaborn as sns\n",
    "%matplotlib inline\n",
    "\n",
    "from sklearn.model_selection import train_test_split\n",
    "\n",
    "from crypr.data import get_data\n",
    "from crypr.util import common\n",
    "\n",
    "from crypr.features.build_features import make_single_feature, series_to_predict_matrix, make_features, data_to_supervised\n",
    "from crypr.features.wavelets import *\n",
    "\n",
    "from scipy.fftpack import fft, fftfreq, fftshift\n",
    "from scipy import signal\n",
    "import pywt\n",
    "\n",
    "import pickle\n",
    "import gc\n",
    "p=print"
   ]
  },
  {
   "cell_type": "code",
   "execution_count": 29,
   "metadata": {},
   "outputs": [],
   "source": [
    "SYM='ETH'\n",
    "LAST_N_HOURS=16000\n",
    "TARGET='close'\n",
    "Tx = 72\n",
    "Ty = 1\n",
    "TEST_SIZE=0.05"
   ]
  },
  {
   "cell_type": "code",
   "execution_count": 30,
   "metadata": {},
   "outputs": [],
   "source": [
    "data = pd.read_csv('../data/raw/{}.csv'.format(SYM), index_col=0)"
   ]
  },
  {
   "cell_type": "code",
   "execution_count": 31,
   "metadata": {},
   "outputs": [
    {
     "name": "stdout",
     "output_type": "stream",
     "text": [
      "(15927, 72) (15927, 1)\n"
     ]
    },
    {
     "data": {
      "text/html": [
       "<div>\n",
       "<style scoped>\n",
       "    .dataframe tbody tr th:only-of-type {\n",
       "        vertical-align: middle;\n",
       "    }\n",
       "\n",
       "    .dataframe tbody tr th {\n",
       "        vertical-align: top;\n",
       "    }\n",
       "\n",
       "    .dataframe thead th {\n",
       "        text-align: right;\n",
       "    }\n",
       "</style>\n",
       "<table border=\"1\" class=\"dataframe\">\n",
       "  <thead>\n",
       "    <tr style=\"text-align: right;\">\n",
       "      <th></th>\n",
       "      <th>var1(t-72)</th>\n",
       "      <th>var1(t-71)</th>\n",
       "      <th>var1(t-70)</th>\n",
       "      <th>var1(t-69)</th>\n",
       "      <th>var1(t-68)</th>\n",
       "      <th>var1(t-67)</th>\n",
       "      <th>var1(t-66)</th>\n",
       "      <th>var1(t-65)</th>\n",
       "      <th>var1(t-64)</th>\n",
       "      <th>var1(t-63)</th>\n",
       "      <th>...</th>\n",
       "      <th>var1(t-10)</th>\n",
       "      <th>var1(t-9)</th>\n",
       "      <th>var1(t-8)</th>\n",
       "      <th>var1(t-7)</th>\n",
       "      <th>var1(t-6)</th>\n",
       "      <th>var1(t-5)</th>\n",
       "      <th>var1(t-4)</th>\n",
       "      <th>var1(t-3)</th>\n",
       "      <th>var1(t-2)</th>\n",
       "      <th>var1(t-1)</th>\n",
       "    </tr>\n",
       "  </thead>\n",
       "  <tbody>\n",
       "    <tr>\n",
       "      <th>28075</th>\n",
       "      <td>0.000000</td>\n",
       "      <td>0.743494</td>\n",
       "      <td>-0.123001</td>\n",
       "      <td>1.354680</td>\n",
       "      <td>-0.243013</td>\n",
       "      <td>-0.121803</td>\n",
       "      <td>-0.121951</td>\n",
       "      <td>0.366300</td>\n",
       "      <td>-0.608273</td>\n",
       "      <td>-0.979192</td>\n",
       "      <td>...</td>\n",
       "      <td>-0.119048</td>\n",
       "      <td>-0.238379</td>\n",
       "      <td>0.358423</td>\n",
       "      <td>-0.119048</td>\n",
       "      <td>-0.119190</td>\n",
       "      <td>0.835322</td>\n",
       "      <td>-0.236686</td>\n",
       "      <td>-0.237248</td>\n",
       "      <td>-0.118906</td>\n",
       "      <td>0.000000</td>\n",
       "    </tr>\n",
       "    <tr>\n",
       "      <th>28076</th>\n",
       "      <td>0.743494</td>\n",
       "      <td>-0.123001</td>\n",
       "      <td>1.354680</td>\n",
       "      <td>-0.243013</td>\n",
       "      <td>-0.121803</td>\n",
       "      <td>-0.121951</td>\n",
       "      <td>0.366300</td>\n",
       "      <td>-0.608273</td>\n",
       "      <td>-0.979192</td>\n",
       "      <td>0.865266</td>\n",
       "      <td>...</td>\n",
       "      <td>-0.238379</td>\n",
       "      <td>0.358423</td>\n",
       "      <td>-0.119048</td>\n",
       "      <td>-0.119190</td>\n",
       "      <td>0.835322</td>\n",
       "      <td>-0.236686</td>\n",
       "      <td>-0.237248</td>\n",
       "      <td>-0.118906</td>\n",
       "      <td>0.000000</td>\n",
       "      <td>0.238095</td>\n",
       "    </tr>\n",
       "    <tr>\n",
       "      <th>28077</th>\n",
       "      <td>-0.123001</td>\n",
       "      <td>1.354680</td>\n",
       "      <td>-0.243013</td>\n",
       "      <td>-0.121803</td>\n",
       "      <td>-0.121951</td>\n",
       "      <td>0.366300</td>\n",
       "      <td>-0.608273</td>\n",
       "      <td>-0.979192</td>\n",
       "      <td>0.865266</td>\n",
       "      <td>-1.102941</td>\n",
       "      <td>...</td>\n",
       "      <td>0.358423</td>\n",
       "      <td>-0.119048</td>\n",
       "      <td>-0.119190</td>\n",
       "      <td>0.835322</td>\n",
       "      <td>-0.236686</td>\n",
       "      <td>-0.237248</td>\n",
       "      <td>-0.118906</td>\n",
       "      <td>0.000000</td>\n",
       "      <td>0.238095</td>\n",
       "      <td>-0.356295</td>\n",
       "    </tr>\n",
       "    <tr>\n",
       "      <th>28078</th>\n",
       "      <td>1.354680</td>\n",
       "      <td>-0.243013</td>\n",
       "      <td>-0.121803</td>\n",
       "      <td>-0.121951</td>\n",
       "      <td>0.366300</td>\n",
       "      <td>-0.608273</td>\n",
       "      <td>-0.979192</td>\n",
       "      <td>0.865266</td>\n",
       "      <td>-1.102941</td>\n",
       "      <td>1.239157</td>\n",
       "      <td>...</td>\n",
       "      <td>-0.119048</td>\n",
       "      <td>-0.119190</td>\n",
       "      <td>0.835322</td>\n",
       "      <td>-0.236686</td>\n",
       "      <td>-0.237248</td>\n",
       "      <td>-0.118906</td>\n",
       "      <td>0.000000</td>\n",
       "      <td>0.238095</td>\n",
       "      <td>-0.356295</td>\n",
       "      <td>0.238379</td>\n",
       "    </tr>\n",
       "    <tr>\n",
       "      <th>28079</th>\n",
       "      <td>-0.243013</td>\n",
       "      <td>-0.121803</td>\n",
       "      <td>-0.121951</td>\n",
       "      <td>0.366300</td>\n",
       "      <td>-0.608273</td>\n",
       "      <td>-0.979192</td>\n",
       "      <td>0.865266</td>\n",
       "      <td>-1.102941</td>\n",
       "      <td>1.239157</td>\n",
       "      <td>-0.489596</td>\n",
       "      <td>...</td>\n",
       "      <td>-0.119190</td>\n",
       "      <td>0.835322</td>\n",
       "      <td>-0.236686</td>\n",
       "      <td>-0.237248</td>\n",
       "      <td>-0.118906</td>\n",
       "      <td>0.000000</td>\n",
       "      <td>0.238095</td>\n",
       "      <td>-0.356295</td>\n",
       "      <td>0.238379</td>\n",
       "      <td>0.356718</td>\n",
       "    </tr>\n",
       "  </tbody>\n",
       "</table>\n",
       "<p>5 rows × 72 columns</p>\n",
       "</div>"
      ],
      "text/plain": [
       "       var1(t-72)  var1(t-71)  var1(t-70)  var1(t-69)  var1(t-68)  var1(t-67)  \\\n",
       "28075    0.000000    0.743494   -0.123001    1.354680   -0.243013   -0.121803   \n",
       "28076    0.743494   -0.123001    1.354680   -0.243013   -0.121803   -0.121951   \n",
       "28077   -0.123001    1.354680   -0.243013   -0.121803   -0.121951    0.366300   \n",
       "28078    1.354680   -0.243013   -0.121803   -0.121951    0.366300   -0.608273   \n",
       "28079   -0.243013   -0.121803   -0.121951    0.366300   -0.608273   -0.979192   \n",
       "\n",
       "       var1(t-66)  var1(t-65)  var1(t-64)  var1(t-63)    ...      var1(t-10)  \\\n",
       "28075   -0.121951    0.366300   -0.608273   -0.979192    ...       -0.119048   \n",
       "28076    0.366300   -0.608273   -0.979192    0.865266    ...       -0.238379   \n",
       "28077   -0.608273   -0.979192    0.865266   -1.102941    ...        0.358423   \n",
       "28078   -0.979192    0.865266   -1.102941    1.239157    ...       -0.119048   \n",
       "28079    0.865266   -1.102941    1.239157   -0.489596    ...       -0.119190   \n",
       "\n",
       "       var1(t-9)  var1(t-8)  var1(t-7)  var1(t-6)  var1(t-5)  var1(t-4)  \\\n",
       "28075  -0.238379   0.358423  -0.119048  -0.119190   0.835322  -0.236686   \n",
       "28076   0.358423  -0.119048  -0.119190   0.835322  -0.236686  -0.237248   \n",
       "28077  -0.119048  -0.119190   0.835322  -0.236686  -0.237248  -0.118906   \n",
       "28078  -0.119190   0.835322  -0.236686  -0.237248  -0.118906   0.000000   \n",
       "28079   0.835322  -0.236686  -0.237248  -0.118906   0.000000   0.238095   \n",
       "\n",
       "       var1(t-3)  var1(t-2)  var1(t-1)  \n",
       "28075  -0.237248  -0.118906   0.000000  \n",
       "28076  -0.118906   0.000000   0.238095  \n",
       "28077   0.000000   0.238095  -0.356295  \n",
       "28078   0.238095  -0.356295   0.238379  \n",
       "28079  -0.356295   0.238379   0.356718  \n",
       "\n",
       "[5 rows x 72 columns]"
      ]
     },
     "execution_count": 31,
     "metadata": {},
     "output_type": "execute_result"
    }
   ],
   "source": [
    "\"\"\"\n",
    "Get percent change feature and target data.\n",
    "\"\"\"\n",
    "df=make_single_feature(input_df=data, target_col='close', train_on_x_last_hours=LAST_N_HOURS)\n",
    "X, y = data_to_supervised(input_df=pd.DataFrame(df['target']), Tx=Tx, Ty=Ty)\n",
    "p(X.shape, y.shape)\n",
    "X.head()"
   ]
  },
  {
   "cell_type": "code",
   "execution_count": 32,
   "metadata": {},
   "outputs": [
    {
     "data": {
      "text/plain": [
       "True"
      ]
     },
     "execution_count": 32,
     "metadata": {},
     "output_type": "execute_result"
    }
   ],
   "source": [
    "\"\"\"\n",
    "Confirm data reshape and target/feature creation was done correctly.\n",
    "\"\"\"\n",
    "y_values_except_last = np.squeeze(y.iloc[:-1].values)\n",
    "t_minus_1_x_values_except_first = X.iloc[1:,-1].values\n",
    "\n",
    "y_values_except_last.all() == t_minus_1_x_values_except_first.all()"
   ]
  },
  {
   "cell_type": "code",
   "execution_count": 33,
   "metadata": {},
   "outputs": [],
   "source": [
    "\"\"\"\n",
    "For comparing different transformations\n",
    "\"\"\"\n",
    "sample_ix = 1000"
   ]
  },
  {
   "cell_type": "code",
   "execution_count": 34,
   "metadata": {
    "scrolled": false
   },
   "outputs": [
    {
     "data": {
      "image/png": "[encoded data removed]",
      "text/plain": [
       "<Figure size 1080x360 with 24 Axes>"
      ]
     },
     "metadata": {},
     "output_type": "display_data"
    }
   ],
   "source": [
    "\"\"\"\n",
    "Spectrogram Analysis\n",
    "\"\"\"\n",
    "rows=2\n",
    "cols=12\n",
    "fig, ax = plt.subplots(rows,cols, figsize=(15,5))\n",
    "for r in range(rows):\n",
    "    for c in range(cols):\n",
    "        plt.sca(ax[r][c])\n",
    "        pxx, freqs, bins, im = plt.specgram(X.iloc[sample_ix+r*c], 12, 1, noverlap=11)\n",
    "        plt.gca().set_xticks([])\n",
    "        plt.gca().set_yticks([])\n",
    "sns.despine(left=True, bottom=True)\n",
    "plt.show()"
   ]
  },
  {
   "cell_type": "code",
   "execution_count": 35,
   "metadata": {},
   "outputs": [
    {
     "data": {
      "image/png": "[encoded data removed]",
      "text/plain": [
       "<Figure size 1080x360 with 16 Axes>"
      ]
     },
     "metadata": {},
     "output_type": "display_data"
    }
   ],
   "source": [
    "\"\"\"\n",
    "CWT Ricker\n",
    "\"\"\"\n",
    "N = 14\n",
    "# T = 1.0 / N\n",
    "# START=1000\n",
    "widths=np.arange(1,N+1)\n",
    "\n",
    "rows=2\n",
    "cols=8\n",
    "fig, ax = plt.subplots(rows,cols, figsize=(15,5))\n",
    "for r in range(rows):\n",
    "    for c in range(cols):\n",
    "        plt.sca(ax[r][c])\n",
    "        cwtmatr = signal.cwt(X.iloc[sample_ix+r*c], wavelet=signal.ricker, widths=widths)\n",
    "        plt.imshow(cwtmatr, extent=[-1, 1, 1, N+1], cmap='PRGn', aspect='auto',\n",
    "            vmax=abs(cwtmatr).max(), vmin=-abs(cwtmatr).max())\n",
    "        plt.gca().set_xticks([])\n",
    "        plt.gca().set_yticks([])\n",
    "sns.despine(left=True, bottom=True)\n",
    "plt.suptitle('Continuous Wavelet Transform (Ricker)')\n",
    "plt.show() "
   ]
  },
  {
   "cell_type": "code",
   "execution_count": 36,
   "metadata": {},
   "outputs": [
    {
     "data": {
      "image/png": "[encoded data removed]",
      "text/plain": [
       "<Figure size 1080x360 with 16 Axes>"
      ]
     },
     "metadata": {},
     "output_type": "display_data"
    }
   ],
   "source": [
    "\"\"\"\n",
    "CWT Morlet Transform\n",
    "\"\"\"\n",
    "\n",
    "rows=2\n",
    "cols=8\n",
    "\n",
    "fig, ax = plt.subplots(rows,cols, figsize=(15,5))\n",
    "\n",
    "for r in range(rows):\n",
    "    for c in range(cols):\n",
    "        plt.sca(ax[r][c])\n",
    "        cwtmatr, freqs = pywt.cwt(X.iloc[sample_ix+r*c], scales=widths, wavelet='mexh')\n",
    "        plt.imshow(cwtmatr, extent=[-1, 1, 1, N+1], cmap='PRGn', aspect='auto',\n",
    "            vmax=abs(cwtmatr).max(), vmin=-abs(cwtmatr).max())\n",
    "        plt.gca().set_xticks([])\n",
    "        plt.gca().set_yticks([])\n",
    "sns.despine(left=True, bottom=True)\n",
    "plt.suptitle('Continuous Wavelet Transform (Morlet)')\n",
    "plt.show() "
   ]
  },
  {
   "cell_type": "code",
   "execution_count": 37,
   "metadata": {},
   "outputs": [
    {
     "data": {
      "text/plain": [
       "(15927, 72)"
      ]
     },
     "execution_count": 37,
     "metadata": {},
     "output_type": "execute_result"
    }
   ],
   "source": [
    "X.shape"
   ]
  },
  {
   "cell_type": "code",
   "execution_count": 38,
   "metadata": {},
   "outputs": [
    {
     "data": {
      "text/plain": [
       "(15927, 28, 72)"
      ]
     },
     "execution_count": 38,
     "metadata": {},
     "output_type": "execute_result"
    }
   ],
   "source": [
    "\"\"\"\n",
    "Apply the wave transformation to the feature data.\n",
    "\"\"\"\n",
    "wt_type='MORLET'\n",
    "N = 28\n",
    "widths=np.arange(1,N+1)\n",
    "\n",
    "if wt_type == 'RICKER':\n",
    "    wt_transform_fun = lambda x: signal.cwt(x, wavelet=signal.ricker, widths=widths)\n",
    "elif wt_type == 'MORLET':\n",
    "    wt_transform_fun = lambda x: pywt.cwt(x, scales=widths, wavelet='morl')[0]\n",
    "else:\n",
    "    p('NOT IMPLEMENTED')\n",
    "    \n",
    "X_wt_coef = np.apply_along_axis(func1d=wt_transform_fun, axis=-1, arr=X)\n",
    "\n",
    "X_wt_coef.shape"
   ]
  },
  {
   "cell_type": "code",
   "execution_count": 39,
   "metadata": {},
   "outputs": [],
   "source": [
    "\"\"\"\n",
    "Train Test Split.\n",
    "\"\"\"\n",
    "X_train, X_test, y_train, y_test = train_test_split(X_wt_coef, y, test_size=TEST_SIZE, shuffle=False)"
   ]
  },
  {
   "cell_type": "code",
   "execution_count": 40,
   "metadata": {},
   "outputs": [],
   "source": [
    "\"\"\"\n",
    "Save data.\n",
    "\"\"\"\n",
    "np.save(arr=X_train, allow_pickle=True, file='../data/processed/X_train_{}_{}_{}x{}'.format(SYM, wt_type, N, Tx))\n",
    "np.save(arr=X_test, allow_pickle=True, file='../data/processed/X_test_{}_{}_{}x{}'.format(SYM, wt_type, N, Tx))\n",
    "np.save(arr=y_train, allow_pickle=True, file='../data/processed/y_train_{}_{}_{}x{}'.format(SYM, wt_type, N, Tx))\n",
    "np.save(arr=y_test, allow_pickle=True, file='../data/processed/y_test_{}_{}_{}x{}'.format(SYM, wt_type, N, Tx))"
   ]
  }
 ],
 "metadata": {
  "kernelspec": {
   "display_name": "Python (crypto-predict)",
   "language": "python",
   "name": "crypto-predict"
  },
  "language_info": {
   "codemirror_mode": {
    "name": "ipython",
    "version": 3
   },
   "file_extension": ".py",
   "mimetype": "text/x-python",
   "name": "python",
   "nbconvert_exporter": "python",
   "pygments_lexer": "ipython3",
   "version": "3.5.5"
  }
 },
 "nbformat": 4,
 "nbformat_minor": 2
}
