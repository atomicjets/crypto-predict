{
 "cells": [
  {
   "cell_type": "markdown",
   "metadata": {},
   "source": [
    "# Smoothing with Wave Transform Preprocessing"
   ]
  },
  {
   "cell_type": "code",
   "execution_count": 2,
   "metadata": {},
   "outputs": [],
   "source": [
    "%load_ext autoreload\n",
    "%autoreload 2\n",
    "\n",
    "import pandas as pd\n",
    "import numpy as np\n",
    "\n",
    "import matplotlib.pyplot as plt\n",
    "import seaborn as sns\n",
    "%matplotlib inline\n",
    "\n",
    "from sklearn.model_selection import train_test_split\n",
    "\n",
    "from crypr.data import get_data\n",
    "from crypr.util import common\n",
    "\n",
    "from crypr.features.build_features import make_single_feature, series_to_predict_matrix, make_features, data_to_supervised\n",
    "from crypr.features.wavelets import *\n",
    "\n",
    "from scipy.fftpack import fft, fftfreq, fftshift\n",
    "from scipy import signal\n",
    "import pywt\n",
    "\n",
    "import pickle\n",
    "import gc\n",
    "p=print"
   ]
  },
  {
   "cell_type": "code",
   "execution_count": 3,
   "metadata": {},
   "outputs": [],
   "source": [
    "SYM='BTC'\n",
    "LAST_N_HOURS=16000\n",
    "TARGET='close'\n",
    "Tx = 72\n",
    "Ty = 1\n",
    "TEST_SIZE=0.05"
   ]
  },
  {
   "cell_type": "code",
   "execution_count": 4,
   "metadata": {},
   "outputs": [],
   "source": [
    "data = pd.read_csv('../data/raw/{}.csv'.format(SYM), index_col=0)"
   ]
  },
  {
   "cell_type": "code",
   "execution_count": 5,
   "metadata": {},
   "outputs": [
    {
     "name": "stdout",
     "output_type": "stream",
     "text": [
      "(15927, 72) (15927, 1)\n"
     ]
    },
    {
     "data": {
      "text/html": [
       "<div>\n",
       "<style scoped>\n",
       "    .dataframe tbody tr th:only-of-type {\n",
       "        vertical-align: middle;\n",
       "    }\n",
       "\n",
       "    .dataframe tbody tr th {\n",
       "        vertical-align: top;\n",
       "    }\n",
       "\n",
       "    .dataframe thead th {\n",
       "        text-align: right;\n",
       "    }\n",
       "</style>\n",
       "<table border=\"1\" class=\"dataframe\">\n",
       "  <thead>\n",
       "    <tr style=\"text-align: right;\">\n",
       "      <th></th>\n",
       "      <th>var1(t-72)</th>\n",
       "      <th>var1(t-71)</th>\n",
       "      <th>var1(t-70)</th>\n",
       "      <th>var1(t-69)</th>\n",
       "      <th>var1(t-68)</th>\n",
       "      <th>var1(t-67)</th>\n",
       "      <th>var1(t-66)</th>\n",
       "      <th>var1(t-65)</th>\n",
       "      <th>var1(t-64)</th>\n",
       "      <th>var1(t-63)</th>\n",
       "      <th>...</th>\n",
       "      <th>var1(t-10)</th>\n",
       "      <th>var1(t-9)</th>\n",
       "      <th>var1(t-8)</th>\n",
       "      <th>var1(t-7)</th>\n",
       "      <th>var1(t-6)</th>\n",
       "      <th>var1(t-5)</th>\n",
       "      <th>var1(t-4)</th>\n",
       "      <th>var1(t-3)</th>\n",
       "      <th>var1(t-2)</th>\n",
       "      <th>var1(t-1)</th>\n",
       "    </tr>\n",
       "  </thead>\n",
       "  <tbody>\n",
       "    <tr>\n",
       "      <th>28075</th>\n",
       "      <td>-0.973867</td>\n",
       "      <td>0.040380</td>\n",
       "      <td>-0.151038</td>\n",
       "      <td>0.131706</td>\n",
       "      <td>0.117207</td>\n",
       "      <td>-0.180808</td>\n",
       "      <td>-0.169408</td>\n",
       "      <td>-0.035244</td>\n",
       "      <td>-0.086183</td>\n",
       "      <td>0.388159</td>\n",
       "      <td>...</td>\n",
       "      <td>-0.156730</td>\n",
       "      <td>0.229030</td>\n",
       "      <td>0.290127</td>\n",
       "      <td>-0.273927</td>\n",
       "      <td>-0.001284</td>\n",
       "      <td>-0.205370</td>\n",
       "      <td>0.227659</td>\n",
       "      <td>0.030799</td>\n",
       "      <td>-0.118026</td>\n",
       "      <td>0.050092</td>\n",
       "    </tr>\n",
       "    <tr>\n",
       "      <th>28076</th>\n",
       "      <td>0.040380</td>\n",
       "      <td>-0.151038</td>\n",
       "      <td>0.131706</td>\n",
       "      <td>0.117207</td>\n",
       "      <td>-0.180808</td>\n",
       "      <td>-0.169408</td>\n",
       "      <td>-0.035244</td>\n",
       "      <td>-0.086183</td>\n",
       "      <td>0.388159</td>\n",
       "      <td>0.143207</td>\n",
       "      <td>...</td>\n",
       "      <td>0.229030</td>\n",
       "      <td>0.290127</td>\n",
       "      <td>-0.273927</td>\n",
       "      <td>-0.001284</td>\n",
       "      <td>-0.205370</td>\n",
       "      <td>0.227659</td>\n",
       "      <td>0.030799</td>\n",
       "      <td>-0.118026</td>\n",
       "      <td>0.050092</td>\n",
       "      <td>-0.631611</td>\n",
       "    </tr>\n",
       "    <tr>\n",
       "      <th>28077</th>\n",
       "      <td>-0.151038</td>\n",
       "      <td>0.131706</td>\n",
       "      <td>0.117207</td>\n",
       "      <td>-0.180808</td>\n",
       "      <td>-0.169408</td>\n",
       "      <td>-0.035244</td>\n",
       "      <td>-0.086183</td>\n",
       "      <td>0.388159</td>\n",
       "      <td>0.143207</td>\n",
       "      <td>-0.130002</td>\n",
       "      <td>...</td>\n",
       "      <td>0.290127</td>\n",
       "      <td>-0.273927</td>\n",
       "      <td>-0.001284</td>\n",
       "      <td>-0.205370</td>\n",
       "      <td>0.227659</td>\n",
       "      <td>0.030799</td>\n",
       "      <td>-0.118026</td>\n",
       "      <td>0.050092</td>\n",
       "      <td>-0.631611</td>\n",
       "      <td>0.245465</td>\n",
       "    </tr>\n",
       "    <tr>\n",
       "      <th>28078</th>\n",
       "      <td>0.131706</td>\n",
       "      <td>0.117207</td>\n",
       "      <td>-0.180808</td>\n",
       "      <td>-0.169408</td>\n",
       "      <td>-0.035244</td>\n",
       "      <td>-0.086183</td>\n",
       "      <td>0.388159</td>\n",
       "      <td>0.143207</td>\n",
       "      <td>-0.130002</td>\n",
       "      <td>-0.117154</td>\n",
       "      <td>...</td>\n",
       "      <td>-0.273927</td>\n",
       "      <td>-0.001284</td>\n",
       "      <td>-0.205370</td>\n",
       "      <td>0.227659</td>\n",
       "      <td>0.030799</td>\n",
       "      <td>-0.118026</td>\n",
       "      <td>0.050092</td>\n",
       "      <td>-0.631611</td>\n",
       "      <td>0.245465</td>\n",
       "      <td>0.021909</td>\n",
       "    </tr>\n",
       "    <tr>\n",
       "      <th>28079</th>\n",
       "      <td>0.117207</td>\n",
       "      <td>-0.180808</td>\n",
       "      <td>-0.169408</td>\n",
       "      <td>-0.035244</td>\n",
       "      <td>-0.086183</td>\n",
       "      <td>0.388159</td>\n",
       "      <td>0.143207</td>\n",
       "      <td>-0.130002</td>\n",
       "      <td>-0.117154</td>\n",
       "      <td>0.303654</td>\n",
       "      <td>...</td>\n",
       "      <td>-0.001284</td>\n",
       "      <td>-0.205370</td>\n",
       "      <td>0.227659</td>\n",
       "      <td>0.030799</td>\n",
       "      <td>-0.118026</td>\n",
       "      <td>0.050092</td>\n",
       "      <td>-0.631611</td>\n",
       "      <td>0.245465</td>\n",
       "      <td>0.021909</td>\n",
       "      <td>0.462563</td>\n",
       "    </tr>\n",
       "  </tbody>\n",
       "</table>\n",
       "<p>5 rows × 72 columns</p>\n",
       "</div>"
      ],
      "text/plain": [
       "       var1(t-72)  var1(t-71)  var1(t-70)  var1(t-69)  var1(t-68)  var1(t-67)  \\\n",
       "28075   -0.973867    0.040380   -0.151038    0.131706    0.117207   -0.180808   \n",
       "28076    0.040380   -0.151038    0.131706    0.117207   -0.180808   -0.169408   \n",
       "28077   -0.151038    0.131706    0.117207   -0.180808   -0.169408   -0.035244   \n",
       "28078    0.131706    0.117207   -0.180808   -0.169408   -0.035244   -0.086183   \n",
       "28079    0.117207   -0.180808   -0.169408   -0.035244   -0.086183    0.388159   \n",
       "\n",
       "       var1(t-66)  var1(t-65)  var1(t-64)  var1(t-63)    ...      var1(t-10)  \\\n",
       "28075   -0.169408   -0.035244   -0.086183    0.388159    ...       -0.156730   \n",
       "28076   -0.035244   -0.086183    0.388159    0.143207    ...        0.229030   \n",
       "28077   -0.086183    0.388159    0.143207   -0.130002    ...        0.290127   \n",
       "28078    0.388159    0.143207   -0.130002   -0.117154    ...       -0.273927   \n",
       "28079    0.143207   -0.130002   -0.117154    0.303654    ...       -0.001284   \n",
       "\n",
       "       var1(t-9)  var1(t-8)  var1(t-7)  var1(t-6)  var1(t-5)  var1(t-4)  \\\n",
       "28075   0.229030   0.290127  -0.273927  -0.001284  -0.205370   0.227659   \n",
       "28076   0.290127  -0.273927  -0.001284  -0.205370   0.227659   0.030799   \n",
       "28077  -0.273927  -0.001284  -0.205370   0.227659   0.030799  -0.118026   \n",
       "28078  -0.001284  -0.205370   0.227659   0.030799  -0.118026   0.050092   \n",
       "28079  -0.205370   0.227659   0.030799  -0.118026   0.050092  -0.631611   \n",
       "\n",
       "       var1(t-3)  var1(t-2)  var1(t-1)  \n",
       "28075   0.030799  -0.118026   0.050092  \n",
       "28076  -0.118026   0.050092  -0.631611  \n",
       "28077   0.050092  -0.631611   0.245465  \n",
       "28078  -0.631611   0.245465   0.021909  \n",
       "28079   0.245465   0.021909   0.462563  \n",
       "\n",
       "[5 rows x 72 columns]"
      ]
     },
     "execution_count": 5,
     "metadata": {},
     "output_type": "execute_result"
    }
   ],
   "source": [
    "\"\"\"\n",
    "Get percent change feature and target data.\n",
    "\"\"\"\n",
    "df=make_single_feature(input_df=data, target_col='close', train_on_x_last_hours=LAST_N_HOURS)\n",
    "X, y = data_to_supervised(input_df=pd.DataFrame(df['target']), Tx=Tx, Ty=Ty)\n",
    "p(X.shape, y.shape)\n",
    "X.head()"
   ]
  },
  {
   "cell_type": "code",
   "execution_count": 6,
   "metadata": {},
   "outputs": [
    {
     "data": {
      "text/plain": [
       "True"
      ]
     },
     "execution_count": 6,
     "metadata": {},
     "output_type": "execute_result"
    }
   ],
   "source": [
    "\"\"\"\n",
    "Confirm data reshape and target/feature creation was done correctly.\n",
    "\"\"\"\n",
    "y_values_except_last = np.squeeze(y.iloc[:-1].values)\n",
    "t_minus_1_x_values_except_first = X.iloc[1:,-1].values\n",
    "\n",
    "y_values_except_last.all() == t_minus_1_x_values_except_first.all()"
   ]
  },
  {
   "cell_type": "code",
   "execution_count": 7,
   "metadata": {},
   "outputs": [],
   "source": [
    "\"\"\"\n",
    "For comparing different transformations\n",
    "\"\"\"\n",
    "sample_ix = 1000\n",
    "sample=X.iloc[sample_ix].values"
   ]
  },
  {
   "cell_type": "code",
   "execution_count": 9,
   "metadata": {},
   "outputs": [
    {
     "data": {
      "image/png": "[encoded data removed]",
      "text/plain": [
       "<Figure size 432x288 with 1 Axes>"
      ]
     },
     "metadata": {
      "needs_background": "light"
     },
     "output_type": "display_data"
    }
   ],
   "source": [
    "\"\"\"\n",
    "DWT Haar Transform\n",
    "\"\"\"\n",
    "def dwt_smooth(x, wavelet):\n",
    "    cA, cD = pywt.dwt(x, wavelet)\n",
    "    \n",
    "    def make_threshold(x):\n",
    "        return np.std(x)*np.sqrt(2*np.log(x.size))\n",
    "    \n",
    "    cAt = pywt.threshold(cA, make_threshold(cA), mode=\"soft\")                \n",
    "    cDt = pywt.threshold(cD, make_threshold(cD), mode=\"soft\")                \n",
    "    tx = pywt.idwt(cAt, cDt, wavelet)\n",
    "    return tx\n",
    "\n",
    "plt.plot(sample, label='raw')\n",
    "plt.plot(dwt_smooth(sample, 'haar'), label='smoothed')\n",
    "plt.title('DWT Haar Smoothing')\n",
    "plt.legend()\n",
    "plt.show()"
   ]
  },
  {
   "cell_type": "code",
   "execution_count": 10,
   "metadata": {},
   "outputs": [
    {
     "data": {
      "text/plain": [
       "(15927, 72)"
      ]
     },
     "execution_count": 10,
     "metadata": {},
     "output_type": "execute_result"
    }
   ],
   "source": [
    "X.shape"
   ]
  },
  {
   "cell_type": "code",
   "execution_count": 11,
   "metadata": {},
   "outputs": [],
   "source": [
    "\"\"\"\n",
    "Apply the wavelet transformation smoothing to the feature data.\n",
    "\"\"\"\n",
    "wt_type='haar'\n",
    "smooth_fun = lambda x: dwt_smooth(x, wt_type)\n",
    "X_sm = np.apply_along_axis(func1d=smooth_fun, axis=-1, arr=X)\n",
    "\n",
    "assert X_sm.shape == X.shape"
   ]
  },
  {
   "cell_type": "code",
   "execution_count": 12,
   "metadata": {},
   "outputs": [],
   "source": [
    "\"\"\"\n",
    "Train Test Split.\n",
    "\"\"\"\n",
    "X_train, X_test, y_train, y_test = train_test_split(X_sm, y, test_size=TEST_SIZE, shuffle=False)"
   ]
  },
  {
   "cell_type": "code",
   "execution_count": 14,
   "metadata": {},
   "outputs": [],
   "source": [
    "\"\"\"\n",
    "Save data.\n",
    "\"\"\"\n",
    "np.save(arr=X_train, file='../data/processed/X_train_{}_{}_smooth_{}'.format(SYM, wt_type, Tx))\n",
    "np.save(arr=X_test,  file='../data/processed/X_test_{}_{}_smooth_{}'.format(SYM, wt_type, Tx))\n",
    "np.save(arr=y_train, file='../data/processed/y_train_{}_{}_smooth_{}'.format(SYM, wt_type, Tx))\n",
    "np.save(arr=y_test,  file='../data/processed/y_test_{}_{}_smooth_{}'.format(SYM, wt_type, Tx))"
   ]
  }
 ],
 "metadata": {
  "kernelspec": {
   "display_name": "Python (crypto-predict)",
   "language": "python",
   "name": "crypto-predict"
  },
  "language_info": {
   "codemirror_mode": {
    "name": "ipython",
    "version": 3
   },
   "file_extension": ".py",
   "mimetype": "text/x-python",
   "name": "python",
   "nbconvert_exporter": "python",
   "pygments_lexer": "ipython3",
   "version": "3.5.5"
  }
 },
 "nbformat": 4,
 "nbformat_minor": 2
}
