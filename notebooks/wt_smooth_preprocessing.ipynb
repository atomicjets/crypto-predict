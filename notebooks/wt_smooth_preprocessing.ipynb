{
 "cells": [
  {
   "cell_type": "markdown",
   "metadata": {},
   "source": [
    "# Smoothing with Wave Transform Preprocessing"
   ]
  },
  {
   "cell_type": "code",
   "execution_count": 1,
   "metadata": {},
   "outputs": [],
   "source": [
    "%load_ext autoreload\n",
    "%autoreload 2\n",
    "p = print\n",
    "\n",
    "from os.path import join\n",
    "\n",
    "import pandas as pd\n",
    "import numpy as np\n",
    "import matplotlib.pyplot as plt\n",
    "%matplotlib inline\n",
    "from sklearn.compose import ColumnTransformer\n",
    "from sklearn.model_selection import train_test_split\n",
    "\n",
    "from crypr.util import get_project_path\n",
    "from crypr.build import data_to_supervised, make_3d\n",
    "from crypr.transformers import HaarSmoothTransformer, PassthroughTransformer, PercentChangeTransformer"
   ]
  },
  {
   "cell_type": "code",
   "execution_count": 2,
   "metadata": {},
   "outputs": [],
   "source": [
    "SYM = 'BTC'\n",
    "TARGET = 'close'\n",
    "Tx = 72\n",
    "Ty = 1\n",
    "TEST_SIZE = 0.05\n",
    "data_path = join(get_project_path(), 'data', 'raw', SYM + '.csv')"
   ]
  },
  {
   "cell_type": "code",
   "execution_count": 3,
   "metadata": {},
   "outputs": [
    {
     "data": {
      "text/html": [
       "<div>\n",
       "<style scoped>\n",
       "    .dataframe tbody tr th:only-of-type {\n",
       "        vertical-align: middle;\n",
       "    }\n",
       "\n",
       "    .dataframe tbody tr th {\n",
       "        vertical-align: top;\n",
       "    }\n",
       "\n",
       "    .dataframe thead th {\n",
       "        text-align: right;\n",
       "    }\n",
       "</style>\n",
       "<table border=\"1\" class=\"dataframe\">\n",
       "  <thead>\n",
       "    <tr style=\"text-align: right;\">\n",
       "      <th></th>\n",
       "      <th>close</th>\n",
       "    </tr>\n",
       "  </thead>\n",
       "  <tbody>\n",
       "    <tr>\n",
       "      <th>0</th>\n",
       "      <td>6990.50</td>\n",
       "    </tr>\n",
       "    <tr>\n",
       "      <th>1</th>\n",
       "      <td>6994.01</td>\n",
       "    </tr>\n",
       "    <tr>\n",
       "      <th>2</th>\n",
       "      <td>6987.21</td>\n",
       "    </tr>\n",
       "    <tr>\n",
       "      <th>3</th>\n",
       "      <td>6999.45</td>\n",
       "    </tr>\n",
       "    <tr>\n",
       "      <th>4</th>\n",
       "      <td>6992.18</td>\n",
       "    </tr>\n",
       "  </tbody>\n",
       "</table>\n",
       "</div>"
      ],
      "text/plain": [
       "     close\n",
       "0  6990.50\n",
       "1  6994.01\n",
       "2  6987.21\n",
       "3  6999.45\n",
       "4  6992.18"
      ]
     },
     "execution_count": 3,
     "metadata": {},
     "output_type": "execute_result"
    }
   ],
   "source": [
    "raw_data = pd.read_csv(data_path, index_col=0)[['close']]\n",
    "\n",
    "train_data, test_data = train_test_split(raw_data, test_size=TEST_SIZE, shuffle=False)\n",
    "train_data.head()"
   ]
  },
  {
   "cell_type": "code",
   "execution_count": 4,
   "metadata": {},
   "outputs": [
    {
     "name": "stdout",
     "output_type": "stream",
     "text": [
      "(5698, 1) (298, 1)\n"
     ]
    },
    {
     "data": {
      "text/html": [
       "<div>\n",
       "<style scoped>\n",
       "    .dataframe tbody tr th:only-of-type {\n",
       "        vertical-align: middle;\n",
       "    }\n",
       "\n",
       "    .dataframe tbody tr th {\n",
       "        vertical-align: top;\n",
       "    }\n",
       "\n",
       "    .dataframe thead th {\n",
       "        text-align: right;\n",
       "    }\n",
       "</style>\n",
       "<table border=\"1\" class=\"dataframe\">\n",
       "  <thead>\n",
       "    <tr style=\"text-align: right;\">\n",
       "      <th></th>\n",
       "      <th>pct_change__close</th>\n",
       "    </tr>\n",
       "  </thead>\n",
       "  <tbody>\n",
       "    <tr>\n",
       "      <th>1</th>\n",
       "      <td>0.050211</td>\n",
       "    </tr>\n",
       "    <tr>\n",
       "      <th>2</th>\n",
       "      <td>-0.097226</td>\n",
       "    </tr>\n",
       "    <tr>\n",
       "      <th>3</th>\n",
       "      <td>0.175177</td>\n",
       "    </tr>\n",
       "    <tr>\n",
       "      <th>4</th>\n",
       "      <td>-0.103865</td>\n",
       "    </tr>\n",
       "    <tr>\n",
       "      <th>5</th>\n",
       "      <td>0.075942</td>\n",
       "    </tr>\n",
       "  </tbody>\n",
       "</table>\n",
       "</div>"
      ],
      "text/plain": [
       "   pct_change__close\n",
       "1           0.050211\n",
       "2          -0.097226\n",
       "3           0.175177\n",
       "4          -0.103865\n",
       "5           0.075942"
      ]
     },
     "execution_count": 4,
     "metadata": {},
     "output_type": "execute_result"
    }
   ],
   "source": [
    "\"\"\"\n",
    "Get percent change feature and target data.\n",
    "\"\"\"\n",
    "def apply_pct_change(data):\n",
    "    arr = PercentChangeTransformer().fit_transform(data)\n",
    "    return pd.DataFrame(arr, columns=['pct_change__close']).dropna()\n",
    "\n",
    "train_data = apply_pct_change(train_data)\n",
    "test_data = apply_pct_change(test_data).iloc[:-1]\n",
    "p(train_data.shape, test_data.shape)\n",
    "train_data.head()"
   ]
  },
  {
   "cell_type": "code",
   "execution_count": 5,
   "metadata": {},
   "outputs": [
    {
     "data": {
      "text/html": [
       "<div>\n",
       "<style scoped>\n",
       "    .dataframe tbody tr th:only-of-type {\n",
       "        vertical-align: middle;\n",
       "    }\n",
       "\n",
       "    .dataframe tbody tr th {\n",
       "        vertical-align: top;\n",
       "    }\n",
       "\n",
       "    .dataframe thead th {\n",
       "        text-align: right;\n",
       "    }\n",
       "</style>\n",
       "<table border=\"1\" class=\"dataframe\">\n",
       "  <thead>\n",
       "    <tr style=\"text-align: right;\">\n",
       "      <th></th>\n",
       "      <th>orig__pct_change__close</th>\n",
       "      <th>haar_smooth__pct_change__close</th>\n",
       "    </tr>\n",
       "  </thead>\n",
       "  <tbody>\n",
       "    <tr>\n",
       "      <th>0</th>\n",
       "      <td>0.050211</td>\n",
       "      <td>0.0</td>\n",
       "    </tr>\n",
       "    <tr>\n",
       "      <th>1</th>\n",
       "      <td>-0.097226</td>\n",
       "      <td>0.0</td>\n",
       "    </tr>\n",
       "    <tr>\n",
       "      <th>2</th>\n",
       "      <td>0.175177</td>\n",
       "      <td>0.0</td>\n",
       "    </tr>\n",
       "    <tr>\n",
       "      <th>3</th>\n",
       "      <td>-0.103865</td>\n",
       "      <td>0.0</td>\n",
       "    </tr>\n",
       "    <tr>\n",
       "      <th>4</th>\n",
       "      <td>0.075942</td>\n",
       "      <td>0.0</td>\n",
       "    </tr>\n",
       "  </tbody>\n",
       "</table>\n",
       "</div>"
      ],
      "text/plain": [
       "   orig__pct_change__close  haar_smooth__pct_change__close\n",
       "0                 0.050211                             0.0\n",
       "1                -0.097226                             0.0\n",
       "2                 0.175177                             0.0\n",
       "3                -0.103865                             0.0\n",
       "4                 0.075942                             0.0"
      ]
     },
     "execution_count": 5,
     "metadata": {},
     "output_type": "execute_result"
    }
   ],
   "source": [
    "def apply_haar_smooth(data):\n",
    "    transformers = [\n",
    "        ('orig', PassthroughTransformer(), ['pct_change__close']),\n",
    "        ('haar_smooth', HaarSmoothTransformer(.4), ['pct_change__close']),\n",
    "    ]\n",
    "    ct = ColumnTransformer(transformers=transformers, remainder='drop', n_jobs=-1)\n",
    "    return pd.DataFrame(data=ct.fit_transform(data), columns=ct.get_feature_names())\n",
    "\n",
    "train_smooth = apply_haar_smooth(train_data)\n",
    "test_smooth = apply_haar_smooth(test_data)\n",
    "\n",
    "train_smooth.head()"
   ]
  },
  {
   "cell_type": "code",
   "execution_count": 6,
   "metadata": {},
   "outputs": [
    {
     "data": {
      "image/png": "[encoded data removed]",
      "text/plain": [
       "<Figure size 864x504 with 1 Axes>"
      ]
     },
     "metadata": {
      "needs_background": "light"
     },
     "output_type": "display_data"
    }
   ],
   "source": [
    "\"\"\"\n",
    "Visualize\n",
    "\"\"\"\n",
    "sample_ix = 100\n",
    "sample_n = 100\n",
    "sample = train_smooth.iloc[sample_ix:sample_ix + sample_n]\n",
    "\n",
    "fig, ax = plt.subplots(figsize=(12, 7))\n",
    "plt.plot(sample['orig__pct_change__close'], label='raw')\n",
    "plt.plot(sample['haar_smooth__pct_change__close'], label='smoothed')\n",
    "plt.title('DWT Haar Smoothing')\n",
    "plt.legend()\n",
    "plt.show()"
   ]
  },
  {
   "cell_type": "code",
   "execution_count": 7,
   "metadata": {},
   "outputs": [],
   "source": [
    "\"\"\"\n",
    "Create time-series samples.\n",
    "\"\"\"\n",
    "X_train, y_train = data_to_supervised(train_smooth, target_ix=-1, Tx=Tx, Ty=Ty)\n",
    "X_test, y_test = data_to_supervised(test_smooth, target_ix=-1, Tx=Tx, Ty=Ty)\n",
    "X_train = make_3d(X_train, tx=Tx, num_channels=2)\n",
    "X_test = make_3d(X_test, tx=Tx, num_channels=2)"
   ]
  },
  {
   "cell_type": "code",
   "execution_count": 8,
   "metadata": {},
   "outputs": [],
   "source": [
    "\"\"\"\n",
    "Save data.\n",
    "\"\"\"\n",
    "output_dir = join(get_project_path(), 'data', 'processed')\n",
    "\n",
    "np.save(arr=X_train, file=join(output_dir, 'X_train_smooth_{}.npy'.format(SYM)))\n",
    "np.save(arr=X_test,  file=join(output_dir, 'X_test_smooth_{}.npy'.format(SYM)))\n",
    "np.save(arr=y_train, file=join(output_dir, 'y_train_smooth_{}.npy'.format(SYM)))\n",
    "np.save(arr=y_test,  file=join(output_dir, 'y_test_smooth_{}.npy'.format(SYM)))"
   ]
  }
 ],
 "metadata": {
  "kernelspec": {
   "display_name": "Python (crypto_predict)",
   "language": "python",
   "name": "crypto_predict"
  },
  "language_info": {
   "codemirror_mode": {
    "name": "ipython",
    "version": 3
   },
   "file_extension": ".py",
   "mimetype": "text/x-python",
   "name": "python",
   "nbconvert_exporter": "python",
   "pygments_lexer": "ipython3",
   "version": "3.6.7"
  }
 },
 "nbformat": 4,
 "nbformat_minor": 2
}
